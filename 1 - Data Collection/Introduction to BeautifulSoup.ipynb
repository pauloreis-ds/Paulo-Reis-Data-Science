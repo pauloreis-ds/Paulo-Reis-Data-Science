{
 "cells": [
  {
   "cell_type": "markdown",
   "metadata": {},
   "source": [
    "# Introduction to BeautifulSoup.\n",
    "\n",
    "    Here you'll learn the main BeautifulSoup attributes and methods.\n",
    "    I tried to make this pretty simple, so you can learn fast.\n",
    "    \n",
    "Video that help me creating this tutorial: https://www.youtube.com/watch?v=4UcqECQe5Kc&list=WL&index=20"
   ]
  },
  {
   "cell_type": "code",
   "execution_count": 1,
   "metadata": {},
   "outputs": [],
   "source": [
    "from bs4 import BeautifulSoup\n",
    "# We won't need to import requests (since we already have the 'html')"
   ]
  },
  {
   "cell_type": "code",
   "execution_count": 95,
   "metadata": {},
   "outputs": [],
   "source": [
    "html_doc = \"\"\"\n",
    "<div class=\"header\">\n",
    "  <h2>Blog Name</h2>\n",
    "</div>\n",
    "\n",
    "<div class=\"row\">\n",
    "  <div class=\"leftcolumn\">\n",
    "    <div class=\"card\">\n",
    "      <h2>TITLE HEADING</h2>\n",
    "      <h5>Title description, Dec 7, 2017</h5>\n",
    "      <div class=\"fakeimg\" style=\"height:200px;\">Image</div>\n",
    "      <p>Some text..</p>\n",
    "    </div>\n",
    "    <div class=\"card\">\n",
    "      <h2>TITLE HEADING</h2>\n",
    "      <h5>Title description, Sep 2, 2017</h5>\n",
    "      <div class=\"fakeimg\" style=\"height:200px;\">Image</div>\n",
    "      <p>Some text..</p>\n",
    "    </div>\n",
    "  </div>\n",
    "  <div class=\"rightcolumn\">\n",
    "    <div class=\"card\">\n",
    "      <h2>About Me</h2>\n",
    "      <div class=\"fakeimg\" style=\"height:100px;\">Image</div>\n",
    "      <p>Some text about me in culpa qui officia deserunt mollit anim..</p>\n",
    "    </div>\n",
    "    <div class=\"card\">\n",
    "      <h3>Popular Post</h3>\n",
    "      <div class=\"fakeimg\">Image</div><br>\n",
    "      <div class=\"fakeimg\">Image</div><br>\n",
    "      <div class=\"fakeimg\">Image</div>\n",
    "    </div>\n",
    "    <div class=\"stack-it\">\n",
    "      <span>    \n",
    "          <h3>Popular Post</h3>\n",
    "          <div class=\"fakeimg\">Image</div><br>\n",
    "          <div class=\"fakeimg\">Image</div><br>\n",
    "          <div class=\"fakeimg\">Image</div>\n",
    "      </span>\n",
    "    </div>\n",
    "    <div class=\"card\">\n",
    "      <h3 id=\"follow\">Follow Me</h3>\n",
    "      <p>Some text..</p>\n",
    "    </div>\n",
    "  </div>\n",
    "</div>\n",
    "\n",
    "<div class=\"footer\">\n",
    "  <h2>Footer</h2>\n",
    "</div>\n",
    "\"\"\""
   ]
  },
  {
   "cell_type": "markdown",
   "metadata": {},
   "source": [
    "### As you'll see BeautifulSoup makes sense of the html document\n",
    "        Even though html_doc is a string, bs4 parses it and converts it into\n",
    "        an object with certain attributes and methods that will help us\n",
    "        getting specific information.\n"
   ]
  },
  {
   "cell_type": "code",
   "execution_count": 96,
   "metadata": {},
   "outputs": [],
   "source": [
    "# ps: soup an instance.   BeautifulSoup is an object.\n",
    "soup = BeautifulSoup(html_doc, 'html.parser')"
   ]
  },
  {
   "cell_type": "code",
   "execution_count": 97,
   "metadata": {},
   "outputs": [
    {
     "name": "stdout",
     "output_type": "stream",
     "text": [
      "\n",
      "<div class=\"header\">\n",
      "<h2>Blog Name</h2>\n",
      "</div>\n",
      "<div class=\"row\">\n",
      "<div class=\"leftcolumn\">\n",
      "<div class=\"card\">\n",
      "<h2>TITLE HEADING</h2>\n",
      "<h5>Title description, Dec 7, 2017</h5>\n",
      "<div class=\"fakeimg\" style=\"height:200px;\">Image</div>\n",
      "<p>Some text..</p>\n",
      "</div>\n",
      "<div class=\"card\">\n",
      "<h2>TITLE HEADING</h2>\n",
      "<h5>Title description, Sep 2, 2017</h5>\n",
      "<div class=\"fakeimg\" style=\"height:200px;\">Image</div>\n",
      "<p>Some text..</p>\n",
      "</div>\n",
      "</div>\n",
      "<div class=\"rightcolumn\">\n",
      "<div class=\"card\">\n",
      "<h2>About Me</h2>\n",
      "<div class=\"fakeimg\" style=\"height:100px;\">Image</div>\n",
      "<p>Some text about me in culpa qui officia deserunt mollit anim..</p>\n",
      "</div>\n",
      "<div class=\"card\">\n",
      "<h3>Popular Post</h3>\n",
      "<div class=\"fakeimg\">Image</div><br/>\n",
      "<div class=\"fakeimg\">Image</div><br/>\n",
      "<div class=\"fakeimg\">Image</div>\n",
      "</div>\n",
      "<div class=\"stack-it\">\n",
      "<span>\n",
      "<h3>Popular Post</h3>\n",
      "<div class=\"fakeimg\">Image</div><br/>\n",
      "<div class=\"fakeimg\">Image</div><br/>\n",
      "<div class=\"fakeimg\">Image</div>\n",
      "</span>\n",
      "</div>\n",
      "<div class=\"card\">\n",
      "<h3 id=\"follow\">Follow Me</h3>\n",
      "<p>Some text..</p>\n",
      "</div>\n",
      "</div>\n",
      "</div>\n",
      "<div class=\"footer\">\n",
      "<h2>Footer</h2>\n",
      "</div>\n",
      "\n"
     ]
    }
   ],
   "source": [
    "# The content comes like this... but using .prettify()\n",
    "print(soup)"
   ]
  },
  {
   "cell_type": "code",
   "execution_count": 98,
   "metadata": {
    "scrolled": false
   },
   "outputs": [
    {
     "name": "stdout",
     "output_type": "stream",
     "text": [
      "<div class=\"header\">\n",
      " <h2>\n",
      "  Blog Name\n",
      " </h2>\n",
      "</div>\n",
      "<div class=\"row\">\n",
      " <div class=\"leftcolumn\">\n",
      "  <div class=\"card\">\n",
      "   <h2>\n",
      "    TITLE HEADING\n",
      "   </h2>\n",
      "   <h5>\n",
      "    Title description, Dec 7, 2017\n",
      "   </h5>\n",
      "   <div class=\"fakeimg\" style=\"height:200px;\">\n",
      "    Image\n",
      "   </div>\n",
      "   <p>\n",
      "    Some text..\n",
      "   </p>\n",
      "  </div>\n",
      "  <div class=\"card\">\n",
      "   <h2>\n",
      "    TITLE HEADING\n",
      "   </h2>\n",
      "   <h5>\n",
      "    Title description, Sep 2, 2017\n",
      "   </h5>\n",
      "   <div class=\"fakeimg\" style=\"height:200px;\">\n",
      "    Image\n",
      "   </div>\n",
      "   <p>\n",
      "    Some text..\n",
      "   </p>\n",
      "  </div>\n",
      " </div>\n",
      " <div class=\"rightcolumn\">\n",
      "  <div class=\"card\">\n",
      "   <h2>\n",
      "    About Me\n",
      "   </h2>\n",
      "   <div class=\"fakeimg\" style=\"height:100px;\">\n",
      "    Image\n",
      "   </div>\n",
      "   <p>\n",
      "    Some text about me in culpa qui officia deserunt mollit anim..\n",
      "   </p>\n",
      "  </div>\n",
      "  <div class=\"card\">\n",
      "   <h3>\n",
      "    Popular Post\n",
      "   </h3>\n",
      "   <div class=\"fakeimg\">\n",
      "    Image\n",
      "   </div>\n",
      "   <br/>\n",
      "   <div class=\"fakeimg\">\n",
      "    Image\n",
      "   </div>\n",
      "   <br/>\n",
      "   <div class=\"fakeimg\">\n",
      "    Image\n",
      "   </div>\n",
      "  </div>\n",
      "  <div class=\"stack-it\">\n",
      "   <span>\n",
      "    <h3>\n",
      "     Popular Post\n",
      "    </h3>\n",
      "    <div class=\"fakeimg\">\n",
      "     Image\n",
      "    </div>\n",
      "    <br/>\n",
      "    <div class=\"fakeimg\">\n",
      "     Image\n",
      "    </div>\n",
      "    <br/>\n",
      "    <div class=\"fakeimg\">\n",
      "     Image\n",
      "    </div>\n",
      "   </span>\n",
      "  </div>\n",
      "  <div class=\"card\">\n",
      "   <h3 id=\"follow\">\n",
      "    Follow Me\n",
      "   </h3>\n",
      "   <p>\n",
      "    Some text..\n",
      "   </p>\n",
      "  </div>\n",
      " </div>\n",
      "</div>\n",
      "<div class=\"footer\">\n",
      " <h2>\n",
      "  Footer\n",
      " </h2>\n",
      "</div>\n",
      "\n"
     ]
    }
   ],
   "source": [
    "# ...it' possible to see a better html version\n",
    "\n",
    "print(soup.prettify())"
   ]
  },
  {
   "cell_type": "markdown",
   "metadata": {},
   "source": [
    "#### Using the attributes from the bs4 object (tags from html) we can fetch the information we want"
   ]
  },
  {
   "cell_type": "code",
   "execution_count": 99,
   "metadata": {},
   "outputs": [
    {
     "data": {
      "text/plain": [
       "<div class=\"header\">\n",
       "<h2>Blog Name</h2>\n",
       "</div>"
      ]
     },
     "execution_count": 99,
     "metadata": {},
     "output_type": "execute_result"
    }
   ],
   "source": [
    "# This approach give us the first tag, but not always we're looking for the content on the first tag\n",
    "soup.div"
   ]
  },
  {
   "cell_type": "code",
   "execution_count": 100,
   "metadata": {},
   "outputs": [
    {
     "data": {
      "text/plain": [
       "<h2>Blog Name</h2>"
      ]
     },
     "execution_count": 100,
     "metadata": {},
     "output_type": "execute_result"
    }
   ],
   "source": [
    "# Let's say we need to have TITLE HEADING, we know it is inside a h2 tag, but as I said\n",
    "soup.h2 # First h2 tag"
   ]
  },
  {
   "cell_type": "code",
   "execution_count": 101,
   "metadata": {},
   "outputs": [
    {
     "data": {
      "text/plain": [
       "<div class=\"card\">\n",
       "<h2>TITLE HEADING</h2>\n",
       "<h5>Title description, Dec 7, 2017</h5>\n",
       "<div class=\"fakeimg\" style=\"height:200px;\">Image</div>\n",
       "<p>Some text..</p>\n",
       "</div>"
      ]
     },
     "execution_count": 101,
     "metadata": {},
     "output_type": "execute_result"
    }
   ],
   "source": [
    "# In order to get TITLE HEADING we can use find() method, passing a tag and an attribute as arguments\n",
    "# since TITLE HEADING h2 doesn't have an attribute, let's look for a tag it is in\n",
    "\n",
    "soup.find('div', class_= 'card')"
   ]
  },
  {
   "cell_type": "code",
   "execution_count": 102,
   "metadata": {},
   "outputs": [
    {
     "data": {
      "text/plain": [
       "<h2>TITLE HEADING</h2>"
      ]
     },
     "execution_count": 102,
     "metadata": {},
     "output_type": "execute_result"
    }
   ],
   "source": [
    "# We can also pass this result into a variable (still bs4 object)\n",
    "specific_heading = soup.find('div', class_= 'card')\n",
    "\n",
    "\n",
    "# and now we got it\n",
    "specific_heading.h2"
   ]
  },
  {
   "cell_type": "code",
   "execution_count": 103,
   "metadata": {},
   "outputs": [
    {
     "data": {
      "text/plain": [
       "'TITLE HEADING'"
      ]
     },
     "execution_count": 103,
     "metadata": {},
     "output_type": "execute_result"
    }
   ],
   "source": [
    "# To get only the actual content, you can use .text attribute \n",
    "\n",
    "specific_heading.h2.text"
   ]
  },
  {
   "cell_type": "markdown",
   "metadata": {},
   "source": [
    "#### .findAll() method ( or find_all() ) gives us a similar returning, but as its name says, it 'll return All the attributes/tags we passes as parameters. And It works just like an array."
   ]
  },
  {
   "cell_type": "code",
   "execution_count": 104,
   "metadata": {},
   "outputs": [
    {
     "data": {
      "text/plain": [
       "[<div class=\"header\">\n",
       " <h2>Blog Name</h2>\n",
       " </div>,\n",
       " <div class=\"row\">\n",
       " <div class=\"leftcolumn\">\n",
       " <div class=\"card\">\n",
       " <h2>TITLE HEADING</h2>\n",
       " <h5>Title description, Dec 7, 2017</h5>\n",
       " <div class=\"fakeimg\" style=\"height:200px;\">Image</div>\n",
       " <p>Some text..</p>\n",
       " </div>\n",
       " <div class=\"card\">\n",
       " <h2>TITLE HEADING</h2>\n",
       " <h5>Title description, Sep 2, 2017</h5>\n",
       " <div class=\"fakeimg\" style=\"height:200px;\">Image</div>\n",
       " <p>Some text..</p>\n",
       " </div>\n",
       " </div>\n",
       " <div class=\"rightcolumn\">\n",
       " <div class=\"card\">\n",
       " <h2>About Me</h2>\n",
       " <div class=\"fakeimg\" style=\"height:100px;\">Image</div>\n",
       " <p>Some text about me in culpa qui officia deserunt mollit anim..</p>\n",
       " </div>\n",
       " <div class=\"card\">\n",
       " <h3>Popular Post</h3>\n",
       " <div class=\"fakeimg\">Image</div><br/>\n",
       " <div class=\"fakeimg\">Image</div><br/>\n",
       " <div class=\"fakeimg\">Image</div>\n",
       " </div>\n",
       " <div class=\"stack-it\">\n",
       " <span>\n",
       " <h3>Popular Post</h3>\n",
       " <div class=\"fakeimg\">Image</div><br/>\n",
       " <div class=\"fakeimg\">Image</div><br/>\n",
       " <div class=\"fakeimg\">Image</div>\n",
       " </span>\n",
       " </div>\n",
       " <div class=\"card\">\n",
       " <h3 id=\"follow\">Follow Me</h3>\n",
       " <p>Some text..</p>\n",
       " </div>\n",
       " </div>\n",
       " </div>,\n",
       " <div class=\"leftcolumn\">\n",
       " <div class=\"card\">\n",
       " <h2>TITLE HEADING</h2>\n",
       " <h5>Title description, Dec 7, 2017</h5>\n",
       " <div class=\"fakeimg\" style=\"height:200px;\">Image</div>\n",
       " <p>Some text..</p>\n",
       " </div>\n",
       " <div class=\"card\">\n",
       " <h2>TITLE HEADING</h2>\n",
       " <h5>Title description, Sep 2, 2017</h5>\n",
       " <div class=\"fakeimg\" style=\"height:200px;\">Image</div>\n",
       " <p>Some text..</p>\n",
       " </div>\n",
       " </div>,\n",
       " <div class=\"card\">\n",
       " <h2>TITLE HEADING</h2>\n",
       " <h5>Title description, Dec 7, 2017</h5>\n",
       " <div class=\"fakeimg\" style=\"height:200px;\">Image</div>\n",
       " <p>Some text..</p>\n",
       " </div>,\n",
       " <div class=\"fakeimg\" style=\"height:200px;\">Image</div>,\n",
       " <div class=\"card\">\n",
       " <h2>TITLE HEADING</h2>\n",
       " <h5>Title description, Sep 2, 2017</h5>\n",
       " <div class=\"fakeimg\" style=\"height:200px;\">Image</div>\n",
       " <p>Some text..</p>\n",
       " </div>,\n",
       " <div class=\"fakeimg\" style=\"height:200px;\">Image</div>,\n",
       " <div class=\"rightcolumn\">\n",
       " <div class=\"card\">\n",
       " <h2>About Me</h2>\n",
       " <div class=\"fakeimg\" style=\"height:100px;\">Image</div>\n",
       " <p>Some text about me in culpa qui officia deserunt mollit anim..</p>\n",
       " </div>\n",
       " <div class=\"card\">\n",
       " <h3>Popular Post</h3>\n",
       " <div class=\"fakeimg\">Image</div><br/>\n",
       " <div class=\"fakeimg\">Image</div><br/>\n",
       " <div class=\"fakeimg\">Image</div>\n",
       " </div>\n",
       " <div class=\"stack-it\">\n",
       " <span>\n",
       " <h3>Popular Post</h3>\n",
       " <div class=\"fakeimg\">Image</div><br/>\n",
       " <div class=\"fakeimg\">Image</div><br/>\n",
       " <div class=\"fakeimg\">Image</div>\n",
       " </span>\n",
       " </div>\n",
       " <div class=\"card\">\n",
       " <h3 id=\"follow\">Follow Me</h3>\n",
       " <p>Some text..</p>\n",
       " </div>\n",
       " </div>,\n",
       " <div class=\"card\">\n",
       " <h2>About Me</h2>\n",
       " <div class=\"fakeimg\" style=\"height:100px;\">Image</div>\n",
       " <p>Some text about me in culpa qui officia deserunt mollit anim..</p>\n",
       " </div>,\n",
       " <div class=\"fakeimg\" style=\"height:100px;\">Image</div>,\n",
       " <div class=\"card\">\n",
       " <h3>Popular Post</h3>\n",
       " <div class=\"fakeimg\">Image</div><br/>\n",
       " <div class=\"fakeimg\">Image</div><br/>\n",
       " <div class=\"fakeimg\">Image</div>\n",
       " </div>,\n",
       " <div class=\"fakeimg\">Image</div>,\n",
       " <div class=\"fakeimg\">Image</div>,\n",
       " <div class=\"fakeimg\">Image</div>,\n",
       " <div class=\"stack-it\">\n",
       " <span>\n",
       " <h3>Popular Post</h3>\n",
       " <div class=\"fakeimg\">Image</div><br/>\n",
       " <div class=\"fakeimg\">Image</div><br/>\n",
       " <div class=\"fakeimg\">Image</div>\n",
       " </span>\n",
       " </div>,\n",
       " <div class=\"fakeimg\">Image</div>,\n",
       " <div class=\"fakeimg\">Image</div>,\n",
       " <div class=\"fakeimg\">Image</div>,\n",
       " <div class=\"card\">\n",
       " <h3 id=\"follow\">Follow Me</h3>\n",
       " <p>Some text..</p>\n",
       " </div>,\n",
       " <div class=\"footer\">\n",
       " <h2>Footer</h2>\n",
       " </div>]"
      ]
     },
     "execution_count": 104,
     "metadata": {},
     "output_type": "execute_result"
    }
   ],
   "source": [
    "# All divs\n",
    "soup.findAll('div')"
   ]
  },
  {
   "cell_type": "code",
   "execution_count": 105,
   "metadata": {},
   "outputs": [
    {
     "data": {
      "text/plain": [
       "[<h2>Blog Name</h2>,\n",
       " <h2>TITLE HEADING</h2>,\n",
       " <h2>TITLE HEADING</h2>,\n",
       " <h2>About Me</h2>,\n",
       " <h2>Footer</h2>]"
      ]
     },
     "execution_count": 105,
     "metadata": {},
     "output_type": "execute_result"
    }
   ],
   "source": [
    "# All h2s\n",
    "soup.findAll('h2')"
   ]
  },
  {
   "cell_type": "code",
   "execution_count": 106,
   "metadata": {},
   "outputs": [
    {
     "data": {
      "text/plain": [
       "[<div class=\"fakeimg\" style=\"height:200px;\">Image</div>,\n",
       " <div class=\"fakeimg\" style=\"height:200px;\">Image</div>,\n",
       " <div class=\"fakeimg\" style=\"height:100px;\">Image</div>,\n",
       " <div class=\"fakeimg\">Image</div>,\n",
       " <div class=\"fakeimg\">Image</div>,\n",
       " <div class=\"fakeimg\">Image</div>,\n",
       " <div class=\"fakeimg\">Image</div>,\n",
       " <div class=\"fakeimg\">Image</div>,\n",
       " <div class=\"fakeimg\">Image</div>]"
      ]
     },
     "execution_count": 106,
     "metadata": {},
     "output_type": "execute_result"
    }
   ],
   "source": [
    "# All divs where its class attribute is equal 'fakeimg'\n",
    "soup.findAll('div', class_=\"fakeimg\")"
   ]
  },
  {
   "cell_type": "markdown",
   "metadata": {},
   "source": [
    "#### Another way to get a specific information is 'stacking' the attributes"
   ]
  },
  {
   "cell_type": "code",
   "execution_count": 107,
   "metadata": {},
   "outputs": [
    {
     "data": {
      "text/plain": [
       "<div class=\"stack-it\">\n",
       "<span>\n",
       "<h3>Popular Post</h3>\n",
       "<div class=\"fakeimg\">Image</div><br/>\n",
       "<div class=\"fakeimg\">Image</div><br/>\n",
       "<div class=\"fakeimg\">Image</div>\n",
       "</span>\n",
       "</div>"
      ]
     },
     "execution_count": 107,
     "metadata": {},
     "output_type": "execute_result"
    }
   ],
   "source": [
    "soup.find('div', class_=\"stack-it\")"
   ]
  },
  {
   "cell_type": "code",
   "execution_count": 108,
   "metadata": {},
   "outputs": [
    {
     "data": {
      "text/plain": [
       "<span>\n",
       "<h3>Popular Post</h3>\n",
       "<div class=\"fakeimg\">Image</div><br/>\n",
       "<div class=\"fakeimg\">Image</div><br/>\n",
       "<div class=\"fakeimg\">Image</div>\n",
       "</span>"
      ]
     },
     "execution_count": 108,
     "metadata": {},
     "output_type": "execute_result"
    }
   ],
   "source": [
    "stacking_attributes = soup.find('div', class_=\"stack-it\")\n",
    "\n",
    "stacking_attributes.span"
   ]
  },
  {
   "cell_type": "code",
   "execution_count": 109,
   "metadata": {},
   "outputs": [
    {
     "data": {
      "text/plain": [
       "<h3>Popular Post</h3>"
      ]
     },
     "execution_count": 109,
     "metadata": {},
     "output_type": "execute_result"
    }
   ],
   "source": [
    "stacking_attributes.span.h3"
   ]
  },
  {
   "cell_type": "code",
   "execution_count": 110,
   "metadata": {},
   "outputs": [
    {
     "data": {
      "text/plain": [
       "'Popular Post'"
      ]
     },
     "execution_count": 110,
     "metadata": {},
     "output_type": "execute_result"
    }
   ],
   "source": [
    "stacking_attributes.span.h3.text"
   ]
  },
  {
   "cell_type": "markdown",
   "metadata": {},
   "source": [
    "#### .contents attribute return to us the tag's children (tags inside that tag)"
   ]
  },
  {
   "cell_type": "code",
   "execution_count": 158,
   "metadata": {},
   "outputs": [
    {
     "data": {
      "text/plain": [
       "['\\n',\n",
       " <span>\n",
       " <h3>Popular Post</h3>\n",
       " <div class=\"fakeimg\">Image</div><br/>\n",
       " <div class=\"fakeimg\">Image</div><br/>\n",
       " <div class=\"fakeimg\">Image</div>\n",
       " </span>,\n",
       " '\\n']"
      ]
     },
     "execution_count": 158,
     "metadata": {},
     "output_type": "execute_result"
    }
   ],
   "source": [
    "# in a list format\n",
    "stacking_attributes.contents"
   ]
  },
  {
   "cell_type": "code",
   "execution_count": 164,
   "metadata": {},
   "outputs": [
    {
     "data": {
      "text/plain": [
       "'\\n'"
      ]
     },
     "execution_count": 164,
     "metadata": {},
     "output_type": "execute_result"
    }
   ],
   "source": [
    "stacking_attributes.contents[0]"
   ]
  },
  {
   "cell_type": "code",
   "execution_count": 167,
   "metadata": {},
   "outputs": [
    {
     "data": {
      "text/plain": [
       "<span>\n",
       "<h3>Popular Post</h3>\n",
       "<div class=\"fakeimg\">Image</div><br/>\n",
       "<div class=\"fakeimg\">Image</div><br/>\n",
       "<div class=\"fakeimg\">Image</div>\n",
       "</span>"
      ]
     },
     "execution_count": 167,
     "metadata": {},
     "output_type": "execute_result"
    }
   ],
   "source": [
    "''' \n",
    "    Notice that <span> is a child, but <h3> and <<<divs>>> are children of <span>, \n",
    "    that's why the second item in the list is the whole <span>\n",
    "'''\n",
    "stacking_attributes.contents[1]"
   ]
  },
  {
   "cell_type": "markdown",
   "metadata": {},
   "source": [
    "#### We can use .select() to select the tags 'directly from the class'\n",
    "    ps: It returns a list"
   ]
  },
  {
   "cell_type": "code",
   "execution_count": 155,
   "metadata": {},
   "outputs": [
    {
     "data": {
      "text/plain": [
       "[<div class=\"stack-it\">\n",
       " <span>\n",
       " <h3>Popular Post</h3>\n",
       " <div class=\"fakeimg\">Image</div><br/>\n",
       " <div class=\"fakeimg\">Image</div><br/>\n",
       " <div class=\"fakeimg\">Image</div>\n",
       " </span>\n",
       " </div>]"
      ]
     },
     "execution_count": 155,
     "metadata": {},
     "output_type": "execute_result"
    }
   ],
   "source": [
    "soup.select(\".stack-it\")"
   ]
  },
  {
   "cell_type": "code",
   "execution_count": 119,
   "metadata": {},
   "outputs": [
    {
     "data": {
      "text/plain": [
       "[<div class=\"fakeimg\" style=\"height:200px;\">Image</div>,\n",
       " <div class=\"fakeimg\" style=\"height:200px;\">Image</div>,\n",
       " <div class=\"fakeimg\" style=\"height:100px;\">Image</div>,\n",
       " <div class=\"fakeimg\">Image</div>,\n",
       " <div class=\"fakeimg\">Image</div>,\n",
       " <div class=\"fakeimg\">Image</div>,\n",
       " <div class=\"fakeimg\">Image</div>,\n",
       " <div class=\"fakeimg\">Image</div>,\n",
       " <div class=\"fakeimg\">Image</div>]"
      ]
     },
     "execution_count": 119,
     "metadata": {},
     "output_type": "execute_result"
    }
   ],
   "source": [
    "soup.select(\".fakeimg\")"
   ]
  },
  {
   "cell_type": "markdown",
   "metadata": {},
   "source": [
    "List characteristics:"
   ]
  },
  {
   "cell_type": "code",
   "execution_count": 144,
   "metadata": {},
   "outputs": [
    {
     "data": {
      "text/plain": [
       "<div class=\"fakeimg\" style=\"height:200px;\">Image</div>"
      ]
     },
     "execution_count": 144,
     "metadata": {},
     "output_type": "execute_result"
    }
   ],
   "source": [
    "soup.select(\".fakeimg\")[0]"
   ]
  },
  {
   "cell_type": "code",
   "execution_count": 145,
   "metadata": {},
   "outputs": [
    {
     "data": {
      "text/plain": [
       "[<div class=\"fakeimg\" style=\"height:100px;\">Image</div>,\n",
       " <div class=\"fakeimg\">Image</div>,\n",
       " <div class=\"fakeimg\">Image</div>]"
      ]
     },
     "execution_count": 145,
     "metadata": {},
     "output_type": "execute_result"
    }
   ],
   "source": [
    "soup.select(\".fakeimg\")[2:5]"
   ]
  },
  {
   "cell_type": "markdown",
   "metadata": {},
   "source": [
    "#### .get_text() as you probrably think... yeah it gets the text\n",
    "    Just like the attribute .text\n",
    "    However, .get_text() can also support various keyword arguments to change how it behaves\n",
    "    (separator, strip, types). If you need more control over the result, then you need the functional form."
   ]
  },
  {
   "cell_type": "code",
   "execution_count": 120,
   "metadata": {},
   "outputs": [
    {
     "data": {
      "text/plain": [
       "'\\n\\nPopular Post\\nImage\\nImage\\nImage\\n\\n'"
      ]
     },
     "execution_count": 120,
     "metadata": {},
     "output_type": "execute_result"
    }
   ],
   "source": [
    "soup.find('div', class_=\"stack-it\").get_text()"
   ]
  },
  {
   "cell_type": "code",
   "execution_count": 121,
   "metadata": {},
   "outputs": [
    {
     "data": {
      "text/plain": [
       "'\\n\\nPopular Post\\nImage\\nImage\\nImage\\n\\n'"
      ]
     },
     "execution_count": 121,
     "metadata": {},
     "output_type": "execute_result"
    }
   ],
   "source": [
    "soup.find('div', class_=\"stack-it\").text"
   ]
  },
  {
   "cell_type": "code",
   "execution_count": 129,
   "metadata": {},
   "outputs": [
    {
     "data": {
      "text/plain": [
       "'\\n|\\n|Popular Post|\\n|Image|\\n|Image|\\n|Image|\\n|\\n'"
      ]
     },
     "execution_count": 129,
     "metadata": {},
     "output_type": "execute_result"
    }
   ],
   "source": [
    "# You can specify a string to be used to join the bits of text together:\n",
    "soup.find('div', class_=\"stack-it\").get_text('|')"
   ]
  },
  {
   "cell_type": "code",
   "execution_count": 130,
   "metadata": {},
   "outputs": [
    {
     "data": {
      "text/plain": [
       "'\\n \\n Popular Post \\n Image \\n Image \\n Image \\n \\n'"
      ]
     },
     "execution_count": 130,
     "metadata": {},
     "output_type": "execute_result"
    }
   ],
   "source": [
    "soup.find('div', class_=\"stack-it\").get_text(' ')"
   ]
  },
  {
   "cell_type": "code",
   "execution_count": 140,
   "metadata": {},
   "outputs": [
    {
     "data": {
      "text/plain": [
       "'Popular Post Image Image Image'"
      ]
     },
     "execution_count": 140,
     "metadata": {},
     "output_type": "execute_result"
    }
   ],
   "source": [
    "# You can remove \\n (Enter) too\n",
    "soup.find('div', class_=\"stack-it\").get_text(' ', strip=True)"
   ]
  },
  {
   "cell_type": "markdown",
   "metadata": {},
   "source": [
    "#### Let's make some tests hehe"
   ]
  },
  {
   "cell_type": "code",
   "execution_count": 143,
   "metadata": {},
   "outputs": [
    {
     "data": {
      "text/plain": [
       "[<div class=\"stack-it\">\n",
       " <span>\n",
       " <h3>Popular Post</h3>\n",
       " <div class=\"fakeimg\">Image</div><br/>\n",
       " <div class=\"fakeimg\">Image</div><br/>\n",
       " <div class=\"fakeimg\">Image</div>\n",
       " </span>\n",
       " </div>]"
      ]
     },
     "execution_count": 143,
     "metadata": {},
     "output_type": "execute_result"
    }
   ],
   "source": [
    "# A list\n",
    "soup.select(\".stack-it\")"
   ]
  },
  {
   "cell_type": "code",
   "execution_count": 147,
   "metadata": {},
   "outputs": [
    {
     "name": "stdout",
     "output_type": "stream",
     "text": [
      "<div class=\"stack-it\">\n",
      "<span>\n",
      "<h3>Popular Post</h3>\n",
      "<div class=\"fakeimg\">Image</div><br/>\n",
      "<div class=\"fakeimg\">Image</div><br/>\n",
      "<div class=\"fakeimg\">Image</div>\n",
      "</span>\n",
      "</div>\n"
     ]
    }
   ],
   "source": [
    "# Each item from that list\n",
    "for item in soup.select(\".stack-it\"):\n",
    "    print(item)    "
   ]
  },
  {
   "cell_type": "code",
   "execution_count": 148,
   "metadata": {},
   "outputs": [
    {
     "name": "stdout",
     "output_type": "stream",
     "text": [
      "\n",
      "\n",
      "Popular Post\n",
      "Image\n",
      "Image\n",
      "Image\n",
      "\n",
      "\n"
     ]
    }
   ],
   "source": [
    "# Since we're working with a bs4 object... only the content: \n",
    "for item in soup.select(\".stack-it\"):\n",
    "    print(item.text)"
   ]
  },
  {
   "cell_type": "code",
   "execution_count": 150,
   "metadata": {},
   "outputs": [
    {
     "name": "stdout",
     "output_type": "stream",
     "text": [
      "\n",
      "-\n",
      "-Popular Post-\n",
      "-Image-\n",
      "-Image-\n",
      "-Image-\n",
      "-\n",
      "\n"
     ]
    }
   ],
   "source": [
    "# Funny\n",
    "for item in soup.select(\".stack-it\"):\n",
    "    print(item.get_text('-'))"
   ]
  },
  {
   "cell_type": "code",
   "execution_count": 152,
   "metadata": {},
   "outputs": [
    {
     "name": "stdout",
     "output_type": "stream",
     "text": [
      "Popular Post-Image-Image-Image\n"
     ]
    }
   ],
   "source": [
    "# No '\\n'\n",
    "for item in soup.select(\".stack-it\"):\n",
    "    print(item.get_text('-', strip=True))"
   ]
  },
  {
   "cell_type": "markdown",
   "metadata": {},
   "source": [
    "#### Oh, with .find() we can also look for specific identifiers"
   ]
  },
  {
   "cell_type": "code",
   "execution_count": 172,
   "metadata": {},
   "outputs": [
    {
     "data": {
      "text/plain": [
       "<h3 id=\"follow\">Follow Me</h3>"
      ]
     },
     "execution_count": 172,
     "metadata": {},
     "output_type": "execute_result"
    }
   ],
   "source": [
    "soup.find(id='follow')"
   ]
  },
  {
   "cell_type": "code",
   "execution_count": 170,
   "metadata": {
    "scrolled": true
   },
   "outputs": [
    {
     "data": {
      "text/plain": [
       "[<h3 id=\"follow\">Follow Me</h3>]"
      ]
     },
     "execution_count": 170,
     "metadata": {},
     "output_type": "execute_result"
    }
   ],
   "source": [
    "# Same result? No! Here we have a list (of all 'follow' ids)\n",
    "soup.findAll(id='follow')"
   ]
  },
  {
   "cell_type": "markdown",
   "metadata": {},
   "source": [
    "#### Now, heading back to the .contents-children subject. We can find the parent from a tag (the tag that contains the tag we have) using .find_parent()"
   ]
  },
  {
   "cell_type": "code",
   "execution_count": 178,
   "metadata": {},
   "outputs": [
    {
     "data": {
      "text/plain": [
       "<div class=\"card\">\n",
       "<h3 id=\"follow\">Follow Me</h3>\n",
       "<p>Some text..</p>\n",
       "</div>"
      ]
     },
     "execution_count": 178,
     "metadata": {},
     "output_type": "execute_result"
    }
   ],
   "source": [
    "# div is {h3 id=\"follow\"}'s parent\n",
    "soup.find(id='follow').findParent()"
   ]
  },
  {
   "cell_type": "markdown",
   "metadata": {},
   "source": [
    "#### and it is possible to find its siblings with find_next_sibling()"
   ]
  },
  {
   "cell_type": "code",
   "execution_count": 179,
   "metadata": {},
   "outputs": [
    {
     "data": {
      "text/plain": [
       "<p>Some text..</p>"
      ]
     },
     "execution_count": 179,
     "metadata": {},
     "output_type": "execute_result"
    }
   ],
   "source": [
    "soup.find(id='follow').findNextSibling()"
   ]
  },
  {
   "cell_type": "code",
   "execution_count": 180,
   "metadata": {},
   "outputs": [
    {
     "data": {
      "text/plain": [
       "<p>Some text..</p>"
      ]
     },
     "execution_count": 180,
     "metadata": {},
     "output_type": "execute_result"
    }
   ],
   "source": [
    "soup.find(id='follow').find_next_sibling()"
   ]
  },
  {
   "cell_type": "markdown",
   "metadata": {},
   "source": [
    "### That's it. Of course there is a lot more, but those are the main methods and attributes you'll use "
   ]
  }
 ],
 "metadata": {
  "kernelspec": {
   "display_name": "Python 3",
   "language": "python",
   "name": "python3"
  },
  "language_info": {
   "codemirror_mode": {
    "name": "ipython",
    "version": 3
   },
   "file_extension": ".py",
   "mimetype": "text/x-python",
   "name": "python",
   "nbconvert_exporter": "python",
   "pygments_lexer": "ipython3",
   "version": "3.7.6"
  }
 },
 "nbformat": 4,
 "nbformat_minor": 4
}
