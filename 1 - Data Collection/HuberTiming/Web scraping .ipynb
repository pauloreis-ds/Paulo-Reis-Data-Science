{
 "cells": [
  {
   "cell_type": "markdown",
   "metadata": {},
   "source": [
    "# Web Scraping HuberTiming website\n",
    "    This is an overview about how to web scrape, pretty simple, we'll basically\n",
    "    Load the 'document' (html)\n",
    "    Parse it (well, not really, you must inspect the webpage to that)\n",
    "    Extract it\n",
    "    and transform it into a dataset\n",
    "\n",
    "Video that helped me: https://www.youtube.com/watch?v=88oMlkWSGz0&list=WL&index=20&t=485s"
   ]
  },
  {
   "cell_type": "code",
   "execution_count": 1,
   "metadata": {},
   "outputs": [],
   "source": [
    "# Imports needed for\n",
    "\n",
    "# Web scraping\n",
    "from urllib.request import urlopen as uReq\n",
    "from bs4 import BeautifulSoup\n",
    "import re\n",
    "\n",
    "# DataFrame creation\n",
    "import pandas as pd"
   ]
  },
  {
   "cell_type": "code",
   "execution_count": 2,
   "metadata": {},
   "outputs": [],
   "source": [
    "# Open link\n",
    "\n",
    "url = 'https://www.hubertiming.com/results/2018MLK'\n",
    "html = uReq(url)"
   ]
  },
  {
   "cell_type": "code",
   "execution_count": 3,
   "metadata": {},
   "outputs": [],
   "source": [
    "# Passing our html to an bs4 object that can make sense of it for us to use it\n",
    "\n",
    "soup = BeautifulSoup(html, 'lxml')"
   ]
  },
  {
   "cell_type": "code",
   "execution_count": 7,
   "metadata": {},
   "outputs": [
    {
     "name": "stdout",
     "output_type": "stream",
     "text": [
      "<!DOCTYPE html>\n",
      "<html>\n",
      " <head>\n",
      "  <meta content=\"Race results for the 2018 MLK Dream Run!\" property=\"og:title\"/>\n",
      "  <meta content=\"Results of the 2018 MLK Dream Run at Soul District in Portland, OR\" property=\"og:description\"/>\n",
      "  <meta content=\"https://www.hubertiming.com/results/2018MLKDreamRun.jpg\" property=\"og:image\"/>\n",
      "  <meta content=\"https://www.hubertiming.com/results/2018MLK\" property=\"og:url\"/>\n",
      "  <meta content=\"width=device-width, initial-scale=1, shrink-to-fit=no\" name=\"viewport\"/>\n",
      "  <title>\n"
     ]
    }
   ],
   "source": [
    "# As you can see, here's the html (try and print it without prettify)\n",
    "\n",
    "print(soup.prettify()[0:502])"
   ]
  },
  {
   "cell_type": "markdown",
   "metadata": {},
   "source": [
    "#### Now We can use bs4 attributes and methods to get what we want from the website \n"
   ]
  },
  {
   "cell_type": "code",
   "execution_count": 11,
   "metadata": {},
   "outputs": [
    {
     "data": {
      "text/plain": [
       "<title>Race results for the 2018 MLK Dream Run!</title>"
      ]
     },
     "execution_count": 11,
     "metadata": {},
     "output_type": "execute_result"
    }
   ],
   "source": [
    "# title tag\n",
    "soup.title"
   ]
  },
  {
   "cell_type": "code",
   "execution_count": 12,
   "metadata": {},
   "outputs": [
    {
     "data": {
      "text/plain": [
       "'Race results for the 2018 MLK Dream Run!'"
      ]
     },
     "execution_count": 12,
     "metadata": {},
     "output_type": "execute_result"
    }
   ],
   "source": [
    "# content from title tag\n",
    "soup.title.text"
   ]
  },
  {
   "cell_type": "markdown",
   "metadata": {},
   "source": [
    "#### We can also pass it into a variable and use the same attributes and methods. It's a way to store the data and create a dataset later"
   ]
  },
  {
   "cell_type": "code",
   "execution_count": 14,
   "metadata": {},
   "outputs": [
    {
     "data": {
      "text/plain": [
       "'Race results for the 2018 MLK Dream Run!'"
      ]
     },
     "execution_count": 14,
     "metadata": {},
     "output_type": "execute_result"
    }
   ],
   "source": [
    "title = soup.title\n",
    "title.text"
   ]
  },
  {
   "cell_type": "code",
   "execution_count": 20,
   "metadata": {},
   "outputs": [
    {
     "data": {
      "text/plain": [
       "[<a href=\"https://www.mlkdreamrun.com/\" target=\"_blank\">MLK Dream Run</a>,\n",
       " <a href=\"mailto:timing@hubertiming.com\">timing@hubertiming.com</a>,\n",
       " <a href=\"https://www.hubertiming.com/\">Huber Timing Home</a>,\n",
       " <a class=\"btn btn-primary btn-lg\" href=\"/results/2018MLK10K\" role=\"button\" style=\"margin: 0px 0px 5px 5px\"><i aria-hidden=\"true\" class=\"fa fa-user\"></i> 10K</a>,\n",
       " <a class=\"btn btn-primary btn-lg\" href=\"/results/2018MLK15K\" role=\"button\" style=\"margin: 0px 0px 5px 5px\"><i aria-hidden=\"true\" class=\"fa fa-user\"></i> 15K</a>,\n",
       " <a class=\"btn btn-primary btn-lg\" href=\"/results/summary/2018MLK\" role=\"button\" style=\"margin: 0px 0px 5px 5px\"><i class=\"fa fa-stream\"></i> Summary</a>,\n",
       " <a id=\"individual\" name=\"individual\"></a>,\n",
       " <a data-url=\"/results/2018MLK\" href=\"#tabs-1\" id=\"rootTab\" style=\"font-size: 18px\">5K Results</a>,\n",
       " <a href=\"https://www.hubertiming.com/\"><img height=\"65\" src=\"https://www.hubertiming.com//sites/all/themes/hubertiming/images/clockWithFinishSign_small.png\" width=\"50\"/>Huber Timing</a>,\n",
       " <a href=\"https://facebook.com/hubertiming/\"><img src=\"https://www.hubertiming.com/results/FB-f-Logo__blue_50.png\"/></a>,\n",
       " <a class=\"small\" id=\"bestFeatureEver\" style=\"color:#007bff\">Dark Mode</a>]"
      ]
     },
     "execution_count": 20,
     "metadata": {},
     "output_type": "execute_result"
    }
   ],
   "source": [
    "# .find_all() method returns to us all tags related with the argument we passed\n",
    "\n",
    "soup.find_all('a')"
   ]
  },
  {
   "cell_type": "markdown",
   "metadata": {},
   "source": [
    "#### If you want get all the links in a tag you can pass another argument specifying that"
   ]
  },
  {
   "cell_type": "code",
   "execution_count": 18,
   "metadata": {},
   "outputs": [
    {
     "name": "stdout",
     "output_type": "stream",
     "text": [
      "<a href=\"https://www.mlkdreamrun.com/\" target=\"_blank\">MLK Dream Run</a>\n",
      "<a href=\"mailto:timing@hubertiming.com\">timing@hubertiming.com</a>\n",
      "<a href=\"https://www.hubertiming.com/\">Huber Timing Home</a>\n",
      "<a class=\"btn btn-primary btn-lg\" href=\"/results/2018MLK10K\" role=\"button\" style=\"margin: 0px 0px 5px 5px\"><i aria-hidden=\"true\" class=\"fa fa-user\"></i> 10K</a>\n",
      "<a class=\"btn btn-primary btn-lg\" href=\"/results/2018MLK15K\" role=\"button\" style=\"margin: 0px 0px 5px 5px\"><i aria-hidden=\"true\" class=\"fa fa-user\"></i> 15K</a>\n",
      "<a class=\"btn btn-primary btn-lg\" href=\"/results/summary/2018MLK\" role=\"button\" style=\"margin: 0px 0px 5px 5px\"><i class=\"fa fa-stream\"></i> Summary</a>\n",
      "<a data-url=\"/results/2018MLK\" href=\"#tabs-1\" id=\"rootTab\" style=\"font-size: 18px\">5K Results</a>\n",
      "<a href=\"https://www.hubertiming.com/\"><img height=\"65\" src=\"https://www.hubertiming.com//sites/all/themes/hubertiming/images/clockWithFinishSign_small.png\" width=\"50\"/>Huber Timing</a>\n",
      "<a href=\"https://facebook.com/hubertiming/\"><img src=\"https://www.hubertiming.com/results/FB-f-Logo__blue_50.png\"/></a>\n"
     ]
    }
   ],
   "source": [
    "for link in soup.find_all('a', href=True):\n",
    "    print(link)"
   ]
  },
  {
   "cell_type": "code",
   "execution_count": 19,
   "metadata": {},
   "outputs": [
    {
     "name": "stdout",
     "output_type": "stream",
     "text": [
      "<a href=\"https://www.mlkdreamrun.com/\" target=\"_blank\">MLK Dream Run</a>\n",
      "<a href=\"mailto:timing@hubertiming.com\">timing@hubertiming.com</a>\n",
      "<a href=\"https://www.hubertiming.com/\">Huber Timing Home</a>\n",
      "<a class=\"btn btn-primary btn-lg\" href=\"/results/2018MLK10K\" role=\"button\" style=\"margin: 0px 0px 5px 5px\"><i aria-hidden=\"true\" class=\"fa fa-user\"></i> 10K</a>\n",
      "<a class=\"btn btn-primary btn-lg\" href=\"/results/2018MLK15K\" role=\"button\" style=\"margin: 0px 0px 5px 5px\"><i aria-hidden=\"true\" class=\"fa fa-user\"></i> 15K</a>\n",
      "<a class=\"btn btn-primary btn-lg\" href=\"/results/summary/2018MLK\" role=\"button\" style=\"margin: 0px 0px 5px 5px\"><i class=\"fa fa-stream\"></i> Summary</a>\n",
      "<a data-url=\"/results/2018MLK\" href=\"#tabs-1\" id=\"rootTab\" style=\"font-size: 18px\">5K Results</a>\n",
      "<a href=\"https://www.hubertiming.com/\"><img height=\"65\" src=\"https://www.hubertiming.com//sites/all/themes/hubertiming/images/clockWithFinishSign_small.png\" width=\"50\"/>Huber Timing</a>\n",
      "<a href=\"https://facebook.com/hubertiming/\"><img src=\"https://www.hubertiming.com/results/FB-f-Logo__blue_50.png\"/></a>\n"
     ]
    }
   ],
   "source": [
    "# Clean code (easier to understand)\n",
    "\n",
    "links = soup.find_all('a', href=True)\n",
    "\n",
    "for link in links:\n",
    "    print(link)"
   ]
  },
  {
   "cell_type": "markdown",
   "metadata": {},
   "source": [
    "#### It is important that you have some knowledge about HTML tags, because knowing about them will make your search easier"
   ]
  },
  {
   "cell_type": "code",
   "execution_count": 29,
   "metadata": {},
   "outputs": [
    {
     "data": {
      "text/plain": [
       "[<tr colspan=\"2\">\n",
       " <b>5K:</b>\n",
       " </tr>,\n",
       " <tr>\n",
       " <td>Finishers:</td>\n",
       " <td>191</td>\n",
       " </tr>,\n",
       " <tr>\n",
       " <td>Male:</td>\n",
       " <td>78</td>\n",
       " </tr>,\n",
       " <tr>\n",
       " <td>Female:</td>\n",
       " <td>113</td>\n",
       " </tr>,\n",
       " <tr class=\"header\">\n",
       " <th>Place</th>\n",
       " <th>Bib</th>\n",
       " <th>Name</th>\n",
       " <th>Gender</th>\n",
       " <th>Age</th>\n",
       " <th>City</th>\n",
       " <th>State</th>\n",
       " <th>Chip Time</th>\n",
       " <th>Chip Pace</th>\n",
       " <th>Gender Place</th>\n",
       " <th>Age Group</th>\n",
       " <th>Age Group Place</th>\n",
       " <th>Time to Start</th>\n",
       " <th>Gun Time</th>\n",
       " </tr>]"
      ]
     },
     "execution_count": 29,
     "metadata": {},
     "output_type": "execute_result"
    }
   ],
   "source": [
    "all_rows = soup.find_all('tr')\n",
    "all_rows[0:5]"
   ]
  },
  {
   "cell_type": "code",
   "execution_count": 31,
   "metadata": {},
   "outputs": [
    {
     "name": "stdout",
     "output_type": "stream",
     "text": [
      "[<td>191</td>, <td>1216</td>, <td>\r\n",
      "\r\n",
      "                    ZULMA OCHOA\r\n",
      "\r\n",
      "                </td>, <td>F</td>, <td>40</td>, <td>GRESHAM</td>, <td>OR</td>, <td>1:43:27</td>, <td>33:22</td>, <td>\r\n",
      "\r\n",
      "                    113 of 113\r\n",
      "\r\n",
      "                </td>, <td>F 40-54</td>, <td>\r\n",
      "\r\n",
      "                    37 of 37\r\n",
      "\r\n",
      "                </td>, <td>0:00</td>, <td>1:43:27</td>]\n"
     ]
    }
   ],
   "source": [
    "''' Each 'tr' tag has a 'td' tag, so we can iterate over them and get the values in the rows '''\n",
    "\n",
    "for row in all_rows:\n",
    "    row_list = row.find_all('td')\n",
    "    \n",
    "'''\n",
    "    We didn't append the values in a list, then here there is the last row value.\n",
    "    And also, we should use a different sintax to get the actual values (without tags)\n",
    "    You'll see it in the cell below\n",
    "'''\n",
    "print(row_list)"
   ]
  },
  {
   "cell_type": "code",
   "execution_count": 32,
   "metadata": {},
   "outputs": [
    {
     "name": "stdout",
     "output_type": "stream",
     "text": [
      "191\n",
      "1216\n",
      "\r\n",
      "\r\n",
      "                    ZULMA OCHOA\r\n",
      "\r\n",
      "                \n",
      "F\n",
      "40\n",
      "GRESHAM\n",
      "OR\n",
      "1:43:27\n",
      "33:22\n",
      "\r\n",
      "\r\n",
      "                    113 of 113\r\n",
      "\r\n",
      "                \n",
      "F 40-54\n",
      "\r\n",
      "\r\n",
      "                    37 of 37\r\n",
      "\r\n",
      "                \n",
      "0:00\n",
      "1:43:27\n"
     ]
    }
   ],
   "source": [
    "for cell in row_list:\n",
    "    print(cell.text)"
   ]
  },
  {
   "cell_type": "markdown",
   "metadata": {},
   "source": [
    "#### Now, to actually get all the records, this is one way to do it:"
   ]
  },
  {
   "cell_type": "code",
   "execution_count": 55,
   "metadata": {},
   "outputs": [
    {
     "name": "stdout",
     "output_type": "stream",
     "text": [
      "[['190', '2087', '\\r\\n\\r\\n                    LEESHA POSEY\\r\\n\\r\\n                ', 'F', '43', 'PORTLAND', 'OR', '1:33:53', '30:17', '\\r\\n\\r\\n                    112 of 113\\r\\n\\r\\n                ', 'F 40-54', '\\r\\n\\r\\n                    36 of 37\\r\\n\\r\\n                ', '0:00', '1:33:53'], ['191', '1216', '\\r\\n\\r\\n                    ZULMA OCHOA\\r\\n\\r\\n                ', 'F', '40', 'GRESHAM', 'OR', '1:43:27', '33:22', '\\r\\n\\r\\n                    113 of 113\\r\\n\\r\\n                ', 'F 40-54', '\\r\\n\\r\\n                    37 of 37\\r\\n\\r\\n                ', '0:00', '1:43:27']]\n"
     ]
    }
   ],
   "source": [
    "# tag with the rows and columns we need\n",
    "all_rows = soup.find_all('tr')\n",
    "\n",
    "# List to store all the values (organized)\n",
    "data = []\n",
    "\n",
    "\n",
    "for row in all_rows:\n",
    "    row_list = row.find_all('td') # tag for each row\n",
    "    \n",
    "    data_row = [] # List to store each row \n",
    "    \n",
    "    for cell in row_list:\n",
    "        data_row.append(cell.text) # Getting the values from 1 row and storing it.\n",
    "    \n",
    "    data.append(data_row) # Saving each row (with only values)\n",
    "\n",
    "    \n",
    "title = data[0:2]\n",
    "data = data[1:] # Getting rid of the 0th index\n",
    "print(data[-2:]) # Showing the last two rows"
   ]
  },
  {
   "cell_type": "code",
   "execution_count": 56,
   "metadata": {},
   "outputs": [
    {
     "data": {
      "text/plain": [
       "[[], ['Finishers:', '191']]"
      ]
     },
     "execution_count": 56,
     "metadata": {},
     "output_type": "execute_result"
    }
   ],
   "source": [
    "title # 0th row '-'"
   ]
  },
  {
   "cell_type": "code",
   "execution_count": 59,
   "metadata": {
    "scrolled": true
   },
   "outputs": [
    {
     "data": {
      "text/plain": [
       "[['191',\n",
       "  '1216',\n",
       "  '\\r\\n\\r\\n                    ZULMA OCHOA\\r\\n\\r\\n                ',\n",
       "  'F',\n",
       "  '40',\n",
       "  'GRESHAM',\n",
       "  'OR',\n",
       "  '1:43:27',\n",
       "  '33:22',\n",
       "  '\\r\\n\\r\\n                    113 of 113\\r\\n\\r\\n                ',\n",
       "  'F 40-54',\n",
       "  '\\r\\n\\r\\n                    37 of 37\\r\\n\\r\\n                ',\n",
       "  '0:00',\n",
       "  '1:43:27']]"
      ]
     },
     "execution_count": 59,
     "metadata": {},
     "output_type": "execute_result"
    }
   ],
   "source": [
    "data[-1:]"
   ]
  },
  {
   "cell_type": "markdown",
   "metadata": {},
   "source": [
    "#### Creating a DataFrame\n",
    "    Notice that the first rows are just informations about the whole dataset.\n",
    "    If you look at the website, they're not even rows. Those information are\n",
    "    located on the top of the page, but because of the html structure used to\n",
    "    create the page, we receive them like this:\n",
    "    \n",
    "( Website: https://www.hubertiming.com/results/2018MLK )"
   ]
  },
  {
   "cell_type": "code",
   "execution_count": 79,
   "metadata": {},
   "outputs": [
    {
     "data": {
      "text/html": [
       "<div>\n",
       "<style scoped>\n",
       "    .dataframe tbody tr th:only-of-type {\n",
       "        vertical-align: middle;\n",
       "    }\n",
       "\n",
       "    .dataframe tbody tr th {\n",
       "        vertical-align: top;\n",
       "    }\n",
       "\n",
       "    .dataframe thead th {\n",
       "        text-align: right;\n",
       "    }\n",
       "</style>\n",
       "<table border=\"1\" class=\"dataframe\">\n",
       "  <thead>\n",
       "    <tr style=\"text-align: right;\">\n",
       "      <th></th>\n",
       "      <th>0</th>\n",
       "      <th>1</th>\n",
       "      <th>2</th>\n",
       "      <th>3</th>\n",
       "      <th>4</th>\n",
       "      <th>5</th>\n",
       "      <th>6</th>\n",
       "      <th>7</th>\n",
       "      <th>8</th>\n",
       "      <th>9</th>\n",
       "      <th>10</th>\n",
       "      <th>11</th>\n",
       "      <th>12</th>\n",
       "      <th>13</th>\n",
       "    </tr>\n",
       "  </thead>\n",
       "  <tbody>\n",
       "    <tr>\n",
       "      <th>0</th>\n",
       "      <td>Finishers:</td>\n",
       "      <td>191</td>\n",
       "      <td>None</td>\n",
       "      <td>None</td>\n",
       "      <td>None</td>\n",
       "      <td>None</td>\n",
       "      <td>None</td>\n",
       "      <td>None</td>\n",
       "      <td>None</td>\n",
       "      <td>None</td>\n",
       "      <td>None</td>\n",
       "      <td>None</td>\n",
       "      <td>None</td>\n",
       "      <td>None</td>\n",
       "    </tr>\n",
       "    <tr>\n",
       "      <th>1</th>\n",
       "      <td>Male:</td>\n",
       "      <td>78</td>\n",
       "      <td>None</td>\n",
       "      <td>None</td>\n",
       "      <td>None</td>\n",
       "      <td>None</td>\n",
       "      <td>None</td>\n",
       "      <td>None</td>\n",
       "      <td>None</td>\n",
       "      <td>None</td>\n",
       "      <td>None</td>\n",
       "      <td>None</td>\n",
       "      <td>None</td>\n",
       "      <td>None</td>\n",
       "    </tr>\n",
       "    <tr>\n",
       "      <th>2</th>\n",
       "      <td>Female:</td>\n",
       "      <td>113</td>\n",
       "      <td>None</td>\n",
       "      <td>None</td>\n",
       "      <td>None</td>\n",
       "      <td>None</td>\n",
       "      <td>None</td>\n",
       "      <td>None</td>\n",
       "      <td>None</td>\n",
       "      <td>None</td>\n",
       "      <td>None</td>\n",
       "      <td>None</td>\n",
       "      <td>None</td>\n",
       "      <td>None</td>\n",
       "    </tr>\n",
       "    <tr>\n",
       "      <th>3</th>\n",
       "      <td>None</td>\n",
       "      <td>None</td>\n",
       "      <td>None</td>\n",
       "      <td>None</td>\n",
       "      <td>None</td>\n",
       "      <td>None</td>\n",
       "      <td>None</td>\n",
       "      <td>None</td>\n",
       "      <td>None</td>\n",
       "      <td>None</td>\n",
       "      <td>None</td>\n",
       "      <td>None</td>\n",
       "      <td>None</td>\n",
       "      <td>None</td>\n",
       "    </tr>\n",
       "    <tr>\n",
       "      <th>4</th>\n",
       "      <td>1</td>\n",
       "      <td>1191</td>\n",
       "      <td>\\r\\n\\r\\n                    MAX RANDOLPH\\r\\n\\r...</td>\n",
       "      <td>M</td>\n",
       "      <td>29</td>\n",
       "      <td>WASHINGTON</td>\n",
       "      <td>DC</td>\n",
       "      <td>16:48</td>\n",
       "      <td>5:25</td>\n",
       "      <td>\\r\\n\\r\\n                    1 of 78\\r\\n\\r\\n   ...</td>\n",
       "      <td>M 21-39</td>\n",
       "      <td>\\r\\n\\r\\n                    1 of 33\\r\\n\\r\\n   ...</td>\n",
       "      <td>0:08</td>\n",
       "      <td>16:56</td>\n",
       "    </tr>\n",
       "    <tr>\n",
       "      <th>5</th>\n",
       "      <td>2</td>\n",
       "      <td>1080</td>\n",
       "      <td>\\r\\n\\r\\n                    NEED NAME KAISER R...</td>\n",
       "      <td>M</td>\n",
       "      <td>25</td>\n",
       "      <td>PORTLAND</td>\n",
       "      <td>OR</td>\n",
       "      <td>17:31</td>\n",
       "      <td>5:39</td>\n",
       "      <td>\\r\\n\\r\\n                    2 of 78\\r\\n\\r\\n   ...</td>\n",
       "      <td>M 21-39</td>\n",
       "      <td>\\r\\n\\r\\n                    2 of 33\\r\\n\\r\\n   ...</td>\n",
       "      <td>0:09</td>\n",
       "      <td>17:40</td>\n",
       "    </tr>\n",
       "  </tbody>\n",
       "</table>\n",
       "</div>"
      ],
      "text/plain": [
       "            0     1                                                  2     3  \\\n",
       "0  Finishers:   191                                               None  None   \n",
       "1       Male:    78                                               None  None   \n",
       "2     Female:   113                                               None  None   \n",
       "3        None  None                                               None  None   \n",
       "4           1  1191  \\r\\n\\r\\n                    MAX RANDOLPH\\r\\n\\r...     M   \n",
       "5           2  1080  \\r\\n\\r\\n                    NEED NAME KAISER R...     M   \n",
       "\n",
       "      4           5     6      7     8  \\\n",
       "0  None        None  None   None  None   \n",
       "1  None        None  None   None  None   \n",
       "2  None        None  None   None  None   \n",
       "3  None        None  None   None  None   \n",
       "4    29  WASHINGTON    DC  16:48  5:25   \n",
       "5    25    PORTLAND    OR  17:31  5:39   \n",
       "\n",
       "                                                   9       10  \\\n",
       "0                                               None     None   \n",
       "1                                               None     None   \n",
       "2                                               None     None   \n",
       "3                                               None     None   \n",
       "4  \\r\\n\\r\\n                    1 of 78\\r\\n\\r\\n   ...  M 21-39   \n",
       "5  \\r\\n\\r\\n                    2 of 78\\r\\n\\r\\n   ...  M 21-39   \n",
       "\n",
       "                                                  11    12     13  \n",
       "0                                               None  None   None  \n",
       "1                                               None  None   None  \n",
       "2                                               None  None   None  \n",
       "3                                               None  None   None  \n",
       "4  \\r\\n\\r\\n                    1 of 33\\r\\n\\r\\n   ...  0:08  16:56  \n",
       "5  \\r\\n\\r\\n                    2 of 33\\r\\n\\r\\n   ...  0:09  17:40  "
      ]
     },
     "execution_count": 79,
     "metadata": {},
     "output_type": "execute_result"
    }
   ],
   "source": [
    "df = pd.DataFrame(data)\n",
    "df.head(6)"
   ]
  },
  {
   "cell_type": "markdown",
   "metadata": {},
   "source": [
    "Solving that is pretty simple:"
   ]
  },
  {
   "cell_type": "code",
   "execution_count": 80,
   "metadata": {},
   "outputs": [
    {
     "data": {
      "text/html": [
       "<div>\n",
       "<style scoped>\n",
       "    .dataframe tbody tr th:only-of-type {\n",
       "        vertical-align: middle;\n",
       "    }\n",
       "\n",
       "    .dataframe tbody tr th {\n",
       "        vertical-align: top;\n",
       "    }\n",
       "\n",
       "    .dataframe thead th {\n",
       "        text-align: right;\n",
       "    }\n",
       "</style>\n",
       "<table border=\"1\" class=\"dataframe\">\n",
       "  <thead>\n",
       "    <tr style=\"text-align: right;\">\n",
       "      <th></th>\n",
       "      <th>0</th>\n",
       "      <th>1</th>\n",
       "      <th>2</th>\n",
       "      <th>3</th>\n",
       "      <th>4</th>\n",
       "      <th>5</th>\n",
       "      <th>6</th>\n",
       "      <th>7</th>\n",
       "      <th>8</th>\n",
       "      <th>9</th>\n",
       "      <th>10</th>\n",
       "      <th>11</th>\n",
       "      <th>12</th>\n",
       "      <th>13</th>\n",
       "    </tr>\n",
       "  </thead>\n",
       "  <tbody>\n",
       "    <tr>\n",
       "      <th>0</th>\n",
       "      <td>1</td>\n",
       "      <td>1191</td>\n",
       "      <td>\\r\\n\\r\\n                    MAX RANDOLPH\\r\\n\\r...</td>\n",
       "      <td>M</td>\n",
       "      <td>29</td>\n",
       "      <td>WASHINGTON</td>\n",
       "      <td>DC</td>\n",
       "      <td>16:48</td>\n",
       "      <td>5:25</td>\n",
       "      <td>\\r\\n\\r\\n                    1 of 78\\r\\n\\r\\n   ...</td>\n",
       "      <td>M 21-39</td>\n",
       "      <td>\\r\\n\\r\\n                    1 of 33\\r\\n\\r\\n   ...</td>\n",
       "      <td>0:08</td>\n",
       "      <td>16:56</td>\n",
       "    </tr>\n",
       "    <tr>\n",
       "      <th>1</th>\n",
       "      <td>2</td>\n",
       "      <td>1080</td>\n",
       "      <td>\\r\\n\\r\\n                    NEED NAME KAISER R...</td>\n",
       "      <td>M</td>\n",
       "      <td>25</td>\n",
       "      <td>PORTLAND</td>\n",
       "      <td>OR</td>\n",
       "      <td>17:31</td>\n",
       "      <td>5:39</td>\n",
       "      <td>\\r\\n\\r\\n                    2 of 78\\r\\n\\r\\n   ...</td>\n",
       "      <td>M 21-39</td>\n",
       "      <td>\\r\\n\\r\\n                    2 of 33\\r\\n\\r\\n   ...</td>\n",
       "      <td>0:09</td>\n",
       "      <td>17:40</td>\n",
       "    </tr>\n",
       "    <tr>\n",
       "      <th>2</th>\n",
       "      <td>3</td>\n",
       "      <td>1275</td>\n",
       "      <td>\\r\\n\\r\\n                    DAN FRANEK\\r\\n\\r\\n...</td>\n",
       "      <td>M</td>\n",
       "      <td>52</td>\n",
       "      <td>PORTLAND</td>\n",
       "      <td>OR</td>\n",
       "      <td>18:15</td>\n",
       "      <td>5:53</td>\n",
       "      <td>\\r\\n\\r\\n                    3 of 78\\r\\n\\r\\n   ...</td>\n",
       "      <td>M 40-54</td>\n",
       "      <td>\\r\\n\\r\\n                    1 of 27\\r\\n\\r\\n   ...</td>\n",
       "      <td>0:07</td>\n",
       "      <td>18:22</td>\n",
       "    </tr>\n",
       "    <tr>\n",
       "      <th>3</th>\n",
       "      <td>4</td>\n",
       "      <td>1223</td>\n",
       "      <td>\\r\\n\\r\\n                    PAUL TAYLOR\\r\\n\\r\\...</td>\n",
       "      <td>M</td>\n",
       "      <td>54</td>\n",
       "      <td>PORTLAND</td>\n",
       "      <td>OR</td>\n",
       "      <td>18:31</td>\n",
       "      <td>5:58</td>\n",
       "      <td>\\r\\n\\r\\n                    4 of 78\\r\\n\\r\\n   ...</td>\n",
       "      <td>M 40-54</td>\n",
       "      <td>\\r\\n\\r\\n                    2 of 27\\r\\n\\r\\n   ...</td>\n",
       "      <td>0:07</td>\n",
       "      <td>18:38</td>\n",
       "    </tr>\n",
       "    <tr>\n",
       "      <th>4</th>\n",
       "      <td>5</td>\n",
       "      <td>1245</td>\n",
       "      <td>\\r\\n\\r\\n                    THEO KINMAN\\r\\n\\r\\...</td>\n",
       "      <td>M</td>\n",
       "      <td>22</td>\n",
       "      <td></td>\n",
       "      <td></td>\n",
       "      <td>19:31</td>\n",
       "      <td>6:17</td>\n",
       "      <td>\\r\\n\\r\\n                    5 of 78\\r\\n\\r\\n   ...</td>\n",
       "      <td>M 21-39</td>\n",
       "      <td>\\r\\n\\r\\n                    3 of 33\\r\\n\\r\\n   ...</td>\n",
       "      <td>0:09</td>\n",
       "      <td>19:40</td>\n",
       "    </tr>\n",
       "  </tbody>\n",
       "</table>\n",
       "</div>"
      ],
      "text/plain": [
       "   0     1                                                  2  3   4  \\\n",
       "0  1  1191  \\r\\n\\r\\n                    MAX RANDOLPH\\r\\n\\r...  M  29   \n",
       "1  2  1080  \\r\\n\\r\\n                    NEED NAME KAISER R...  M  25   \n",
       "2  3  1275  \\r\\n\\r\\n                    DAN FRANEK\\r\\n\\r\\n...  M  52   \n",
       "3  4  1223  \\r\\n\\r\\n                    PAUL TAYLOR\\r\\n\\r\\...  M  54   \n",
       "4  5  1245  \\r\\n\\r\\n                    THEO KINMAN\\r\\n\\r\\...  M  22   \n",
       "\n",
       "            5   6      7     8  \\\n",
       "0  WASHINGTON  DC  16:48  5:25   \n",
       "1    PORTLAND  OR  17:31  5:39   \n",
       "2    PORTLAND  OR  18:15  5:53   \n",
       "3    PORTLAND  OR  18:31  5:58   \n",
       "4                  19:31  6:17   \n",
       "\n",
       "                                                   9       10  \\\n",
       "0  \\r\\n\\r\\n                    1 of 78\\r\\n\\r\\n   ...  M 21-39   \n",
       "1  \\r\\n\\r\\n                    2 of 78\\r\\n\\r\\n   ...  M 21-39   \n",
       "2  \\r\\n\\r\\n                    3 of 78\\r\\n\\r\\n   ...  M 40-54   \n",
       "3  \\r\\n\\r\\n                    4 of 78\\r\\n\\r\\n   ...  M 40-54   \n",
       "4  \\r\\n\\r\\n                    5 of 78\\r\\n\\r\\n   ...  M 21-39   \n",
       "\n",
       "                                                  11    12     13  \n",
       "0  \\r\\n\\r\\n                    1 of 33\\r\\n\\r\\n   ...  0:08  16:56  \n",
       "1  \\r\\n\\r\\n                    2 of 33\\r\\n\\r\\n   ...  0:09  17:40  \n",
       "2  \\r\\n\\r\\n                    1 of 27\\r\\n\\r\\n   ...  0:07  18:22  \n",
       "3  \\r\\n\\r\\n                    2 of 27\\r\\n\\r\\n   ...  0:07  18:38  \n",
       "4  \\r\\n\\r\\n                    3 of 33\\r\\n\\r\\n   ...  0:09  19:40  "
      ]
     },
     "execution_count": 80,
     "metadata": {},
     "output_type": "execute_result"
    }
   ],
   "source": [
    "# data = data[1:] # Getting rid of the 0th index   [We had done this in previews cells, remember?]\n",
    "\n",
    "data = data[4:] # Getting rid of the those index\n",
    "\n",
    "# The result\n",
    "df = pd.DataFrame(data)\n",
    "df.head()"
   ]
  },
  {
   "cell_type": "code",
   "execution_count": 82,
   "metadata": {},
   "outputs": [
    {
     "data": {
      "text/html": [
       "<div>\n",
       "<style scoped>\n",
       "    .dataframe tbody tr th:only-of-type {\n",
       "        vertical-align: middle;\n",
       "    }\n",
       "\n",
       "    .dataframe tbody tr th {\n",
       "        vertical-align: top;\n",
       "    }\n",
       "\n",
       "    .dataframe thead th {\n",
       "        text-align: right;\n",
       "    }\n",
       "</style>\n",
       "<table border=\"1\" class=\"dataframe\">\n",
       "  <thead>\n",
       "    <tr style=\"text-align: right;\">\n",
       "      <th></th>\n",
       "      <th>0</th>\n",
       "      <th>1</th>\n",
       "      <th>2</th>\n",
       "      <th>3</th>\n",
       "      <th>4</th>\n",
       "      <th>5</th>\n",
       "      <th>6</th>\n",
       "      <th>7</th>\n",
       "      <th>8</th>\n",
       "      <th>9</th>\n",
       "      <th>10</th>\n",
       "      <th>11</th>\n",
       "      <th>12</th>\n",
       "      <th>13</th>\n",
       "    </tr>\n",
       "  </thead>\n",
       "  <tbody>\n",
       "    <tr>\n",
       "      <th>186</th>\n",
       "      <td>187</td>\n",
       "      <td>1254</td>\n",
       "      <td>\\r\\n\\r\\n                    CYNTHIA HARRIS\\r\\n...</td>\n",
       "      <td>F</td>\n",
       "      <td>64</td>\n",
       "      <td>PORTLAND</td>\n",
       "      <td>OR</td>\n",
       "      <td>1:07:51</td>\n",
       "      <td>21:53</td>\n",
       "      <td>\\r\\n\\r\\n                    110 of 113\\r\\n\\r\\n...</td>\n",
       "      <td>F 55+</td>\n",
       "      <td>\\r\\n\\r\\n                    14 of 14\\r\\n\\r\\n  ...</td>\n",
       "      <td>1:19</td>\n",
       "      <td>1:09:10</td>\n",
       "    </tr>\n",
       "    <tr>\n",
       "      <th>187</th>\n",
       "      <td>188</td>\n",
       "      <td>1085</td>\n",
       "      <td>\\r\\n\\r\\n                    EBONY LAWRENCE\\r\\n...</td>\n",
       "      <td>F</td>\n",
       "      <td>30</td>\n",
       "      <td>PORTLAND</td>\n",
       "      <td>OR</td>\n",
       "      <td>1:08:12</td>\n",
       "      <td>22:00</td>\n",
       "      <td>\\r\\n\\r\\n                    111 of 113\\r\\n\\r\\n...</td>\n",
       "      <td>F 21-39</td>\n",
       "      <td>\\r\\n\\r\\n                    53 of 53\\r\\n\\r\\n  ...</td>\n",
       "      <td>0:58</td>\n",
       "      <td>1:09:10</td>\n",
       "    </tr>\n",
       "    <tr>\n",
       "      <th>188</th>\n",
       "      <td>189</td>\n",
       "      <td>1170</td>\n",
       "      <td>\\r\\n\\r\\n                    ANTHONY WILLIAMS\\r...</td>\n",
       "      <td>M</td>\n",
       "      <td>39</td>\n",
       "      <td>PORTLAND</td>\n",
       "      <td>OR</td>\n",
       "      <td>1:09:11</td>\n",
       "      <td>22:19</td>\n",
       "      <td>\\r\\n\\r\\n                    78 of 78\\r\\n\\r\\n  ...</td>\n",
       "      <td>M 21-39</td>\n",
       "      <td>\\r\\n\\r\\n                    33 of 33\\r\\n\\r\\n  ...</td>\n",
       "      <td>0:08</td>\n",
       "      <td>1:09:19</td>\n",
       "    </tr>\n",
       "    <tr>\n",
       "      <th>189</th>\n",
       "      <td>190</td>\n",
       "      <td>2087</td>\n",
       "      <td>\\r\\n\\r\\n                    LEESHA POSEY\\r\\n\\r...</td>\n",
       "      <td>F</td>\n",
       "      <td>43</td>\n",
       "      <td>PORTLAND</td>\n",
       "      <td>OR</td>\n",
       "      <td>1:33:53</td>\n",
       "      <td>30:17</td>\n",
       "      <td>\\r\\n\\r\\n                    112 of 113\\r\\n\\r\\n...</td>\n",
       "      <td>F 40-54</td>\n",
       "      <td>\\r\\n\\r\\n                    36 of 37\\r\\n\\r\\n  ...</td>\n",
       "      <td>0:00</td>\n",
       "      <td>1:33:53</td>\n",
       "    </tr>\n",
       "    <tr>\n",
       "      <th>190</th>\n",
       "      <td>191</td>\n",
       "      <td>1216</td>\n",
       "      <td>\\r\\n\\r\\n                    ZULMA OCHOA\\r\\n\\r\\...</td>\n",
       "      <td>F</td>\n",
       "      <td>40</td>\n",
       "      <td>GRESHAM</td>\n",
       "      <td>OR</td>\n",
       "      <td>1:43:27</td>\n",
       "      <td>33:22</td>\n",
       "      <td>\\r\\n\\r\\n                    113 of 113\\r\\n\\r\\n...</td>\n",
       "      <td>F 40-54</td>\n",
       "      <td>\\r\\n\\r\\n                    37 of 37\\r\\n\\r\\n  ...</td>\n",
       "      <td>0:00</td>\n",
       "      <td>1:43:27</td>\n",
       "    </tr>\n",
       "  </tbody>\n",
       "</table>\n",
       "</div>"
      ],
      "text/plain": [
       "       0     1                                                  2  3   4  \\\n",
       "186  187  1254  \\r\\n\\r\\n                    CYNTHIA HARRIS\\r\\n...  F  64   \n",
       "187  188  1085  \\r\\n\\r\\n                    EBONY LAWRENCE\\r\\n...  F  30   \n",
       "188  189  1170  \\r\\n\\r\\n                    ANTHONY WILLIAMS\\r...  M  39   \n",
       "189  190  2087  \\r\\n\\r\\n                    LEESHA POSEY\\r\\n\\r...  F  43   \n",
       "190  191  1216  \\r\\n\\r\\n                    ZULMA OCHOA\\r\\n\\r\\...  F  40   \n",
       "\n",
       "            5   6        7      8  \\\n",
       "186  PORTLAND  OR  1:07:51  21:53   \n",
       "187  PORTLAND  OR  1:08:12  22:00   \n",
       "188  PORTLAND  OR  1:09:11  22:19   \n",
       "189  PORTLAND  OR  1:33:53  30:17   \n",
       "190   GRESHAM  OR  1:43:27  33:22   \n",
       "\n",
       "                                                     9       10  \\\n",
       "186  \\r\\n\\r\\n                    110 of 113\\r\\n\\r\\n...    F 55+   \n",
       "187  \\r\\n\\r\\n                    111 of 113\\r\\n\\r\\n...  F 21-39   \n",
       "188  \\r\\n\\r\\n                    78 of 78\\r\\n\\r\\n  ...  M 21-39   \n",
       "189  \\r\\n\\r\\n                    112 of 113\\r\\n\\r\\n...  F 40-54   \n",
       "190  \\r\\n\\r\\n                    113 of 113\\r\\n\\r\\n...  F 40-54   \n",
       "\n",
       "                                                    11    12       13  \n",
       "186  \\r\\n\\r\\n                    14 of 14\\r\\n\\r\\n  ...  1:19  1:09:10  \n",
       "187  \\r\\n\\r\\n                    53 of 53\\r\\n\\r\\n  ...  0:58  1:09:10  \n",
       "188  \\r\\n\\r\\n                    33 of 33\\r\\n\\r\\n  ...  0:08  1:09:19  \n",
       "189  \\r\\n\\r\\n                    36 of 37\\r\\n\\r\\n  ...  0:00  1:33:53  \n",
       "190  \\r\\n\\r\\n                    37 of 37\\r\\n\\r\\n  ...  0:00  1:43:27  "
      ]
     },
     "execution_count": 82,
     "metadata": {},
     "output_type": "execute_result"
    }
   ],
   "source": [
    "# At the end of the dataset it is possible for us to find extra data too. So to confirm if there are extra data:\n",
    "df.tail()"
   ]
  },
  {
   "cell_type": "markdown",
   "metadata": {},
   "source": [
    "#### The last thing we should do is: getting the headers right \n",
    "        We could add them manually (not good option, mainly if the data have lots of headers)\n",
    "        or..."
   ]
  },
  {
   "cell_type": "code",
   "execution_count": 84,
   "metadata": {},
   "outputs": [
    {
     "data": {
      "text/plain": [
       "[<th>Place</th>,\n",
       " <th>Bib</th>,\n",
       " <th>Name</th>,\n",
       " <th>Gender</th>,\n",
       " <th>Age</th>,\n",
       " <th>City</th>,\n",
       " <th>State</th>,\n",
       " <th>Chip Time</th>,\n",
       " <th>Chip Pace</th>,\n",
       " <th>Gender Place</th>,\n",
       " <th>Age Group</th>,\n",
       " <th>Age Group Place</th>,\n",
       " <th>Time to Start</th>,\n",
       " <th>Gun Time</th>]"
      ]
     },
     "execution_count": 84,
     "metadata": {},
     "output_type": "execute_result"
    }
   ],
   "source": [
    "# Fetching headers\n",
    "column_headers = soup.find_all('th')\n",
    "column_headers"
   ]
  },
  {
   "cell_type": "code",
   "execution_count": 85,
   "metadata": {},
   "outputs": [
    {
     "data": {
      "text/plain": [
       "['Place',\n",
       " 'Bib',\n",
       " 'Name',\n",
       " 'Gender',\n",
       " 'Age',\n",
       " 'City',\n",
       " 'State',\n",
       " 'Chip Time',\n",
       " 'Chip Pace',\n",
       " 'Gender Place',\n",
       " 'Age Group',\n",
       " 'Age Group Place',\n",
       " 'Time to Start',\n",
       " 'Gun Time']"
      ]
     },
     "execution_count": 85,
     "metadata": {},
     "output_type": "execute_result"
    }
   ],
   "source": [
    "header_list = []\n",
    "\n",
    "for header in column_headers:\n",
    "    header_list.append(header.text)\n",
    "\n",
    "header_list"
   ]
  },
  {
   "cell_type": "code",
   "execution_count": 87,
   "metadata": {},
   "outputs": [
    {
     "data": {
      "text/html": [
       "<div>\n",
       "<style scoped>\n",
       "    .dataframe tbody tr th:only-of-type {\n",
       "        vertical-align: middle;\n",
       "    }\n",
       "\n",
       "    .dataframe tbody tr th {\n",
       "        vertical-align: top;\n",
       "    }\n",
       "\n",
       "    .dataframe thead th {\n",
       "        text-align: right;\n",
       "    }\n",
       "</style>\n",
       "<table border=\"1\" class=\"dataframe\">\n",
       "  <thead>\n",
       "    <tr style=\"text-align: right;\">\n",
       "      <th></th>\n",
       "      <th>Place</th>\n",
       "      <th>Bib</th>\n",
       "      <th>Name</th>\n",
       "      <th>Gender</th>\n",
       "      <th>Age</th>\n",
       "      <th>City</th>\n",
       "      <th>State</th>\n",
       "      <th>Chip Time</th>\n",
       "      <th>Chip Pace</th>\n",
       "      <th>Gender Place</th>\n",
       "      <th>Age Group</th>\n",
       "      <th>Age Group Place</th>\n",
       "      <th>Time to Start</th>\n",
       "      <th>Gun Time</th>\n",
       "    </tr>\n",
       "  </thead>\n",
       "  <tbody>\n",
       "    <tr>\n",
       "      <th>0</th>\n",
       "      <td>1</td>\n",
       "      <td>1191</td>\n",
       "      <td>\\r\\n\\r\\n                    MAX RANDOLPH\\r\\n\\r...</td>\n",
       "      <td>M</td>\n",
       "      <td>29</td>\n",
       "      <td>WASHINGTON</td>\n",
       "      <td>DC</td>\n",
       "      <td>16:48</td>\n",
       "      <td>5:25</td>\n",
       "      <td>\\r\\n\\r\\n                    1 of 78\\r\\n\\r\\n   ...</td>\n",
       "      <td>M 21-39</td>\n",
       "      <td>\\r\\n\\r\\n                    1 of 33\\r\\n\\r\\n   ...</td>\n",
       "      <td>0:08</td>\n",
       "      <td>16:56</td>\n",
       "    </tr>\n",
       "    <tr>\n",
       "      <th>1</th>\n",
       "      <td>2</td>\n",
       "      <td>1080</td>\n",
       "      <td>\\r\\n\\r\\n                    NEED NAME KAISER R...</td>\n",
       "      <td>M</td>\n",
       "      <td>25</td>\n",
       "      <td>PORTLAND</td>\n",
       "      <td>OR</td>\n",
       "      <td>17:31</td>\n",
       "      <td>5:39</td>\n",
       "      <td>\\r\\n\\r\\n                    2 of 78\\r\\n\\r\\n   ...</td>\n",
       "      <td>M 21-39</td>\n",
       "      <td>\\r\\n\\r\\n                    2 of 33\\r\\n\\r\\n   ...</td>\n",
       "      <td>0:09</td>\n",
       "      <td>17:40</td>\n",
       "    </tr>\n",
       "    <tr>\n",
       "      <th>2</th>\n",
       "      <td>3</td>\n",
       "      <td>1275</td>\n",
       "      <td>\\r\\n\\r\\n                    DAN FRANEK\\r\\n\\r\\n...</td>\n",
       "      <td>M</td>\n",
       "      <td>52</td>\n",
       "      <td>PORTLAND</td>\n",
       "      <td>OR</td>\n",
       "      <td>18:15</td>\n",
       "      <td>5:53</td>\n",
       "      <td>\\r\\n\\r\\n                    3 of 78\\r\\n\\r\\n   ...</td>\n",
       "      <td>M 40-54</td>\n",
       "      <td>\\r\\n\\r\\n                    1 of 27\\r\\n\\r\\n   ...</td>\n",
       "      <td>0:07</td>\n",
       "      <td>18:22</td>\n",
       "    </tr>\n",
       "    <tr>\n",
       "      <th>3</th>\n",
       "      <td>4</td>\n",
       "      <td>1223</td>\n",
       "      <td>\\r\\n\\r\\n                    PAUL TAYLOR\\r\\n\\r\\...</td>\n",
       "      <td>M</td>\n",
       "      <td>54</td>\n",
       "      <td>PORTLAND</td>\n",
       "      <td>OR</td>\n",
       "      <td>18:31</td>\n",
       "      <td>5:58</td>\n",
       "      <td>\\r\\n\\r\\n                    4 of 78\\r\\n\\r\\n   ...</td>\n",
       "      <td>M 40-54</td>\n",
       "      <td>\\r\\n\\r\\n                    2 of 27\\r\\n\\r\\n   ...</td>\n",
       "      <td>0:07</td>\n",
       "      <td>18:38</td>\n",
       "    </tr>\n",
       "    <tr>\n",
       "      <th>4</th>\n",
       "      <td>5</td>\n",
       "      <td>1245</td>\n",
       "      <td>\\r\\n\\r\\n                    THEO KINMAN\\r\\n\\r\\...</td>\n",
       "      <td>M</td>\n",
       "      <td>22</td>\n",
       "      <td></td>\n",
       "      <td></td>\n",
       "      <td>19:31</td>\n",
       "      <td>6:17</td>\n",
       "      <td>\\r\\n\\r\\n                    5 of 78\\r\\n\\r\\n   ...</td>\n",
       "      <td>M 21-39</td>\n",
       "      <td>\\r\\n\\r\\n                    3 of 33\\r\\n\\r\\n   ...</td>\n",
       "      <td>0:09</td>\n",
       "      <td>19:40</td>\n",
       "    </tr>\n",
       "  </tbody>\n",
       "</table>\n",
       "</div>"
      ],
      "text/plain": [
       "  Place   Bib                                               Name Gender Age  \\\n",
       "0     1  1191  \\r\\n\\r\\n                    MAX RANDOLPH\\r\\n\\r...      M  29   \n",
       "1     2  1080  \\r\\n\\r\\n                    NEED NAME KAISER R...      M  25   \n",
       "2     3  1275  \\r\\n\\r\\n                    DAN FRANEK\\r\\n\\r\\n...      M  52   \n",
       "3     4  1223  \\r\\n\\r\\n                    PAUL TAYLOR\\r\\n\\r\\...      M  54   \n",
       "4     5  1245  \\r\\n\\r\\n                    THEO KINMAN\\r\\n\\r\\...      M  22   \n",
       "\n",
       "         City State Chip Time Chip Pace  \\\n",
       "0  WASHINGTON    DC     16:48      5:25   \n",
       "1    PORTLAND    OR     17:31      5:39   \n",
       "2    PORTLAND    OR     18:15      5:53   \n",
       "3    PORTLAND    OR     18:31      5:58   \n",
       "4                       19:31      6:17   \n",
       "\n",
       "                                        Gender Place Age Group  \\\n",
       "0  \\r\\n\\r\\n                    1 of 78\\r\\n\\r\\n   ...   M 21-39   \n",
       "1  \\r\\n\\r\\n                    2 of 78\\r\\n\\r\\n   ...   M 21-39   \n",
       "2  \\r\\n\\r\\n                    3 of 78\\r\\n\\r\\n   ...   M 40-54   \n",
       "3  \\r\\n\\r\\n                    4 of 78\\r\\n\\r\\n   ...   M 40-54   \n",
       "4  \\r\\n\\r\\n                    5 of 78\\r\\n\\r\\n   ...   M 21-39   \n",
       "\n",
       "                                     Age Group Place Time to Start Gun Time  \n",
       "0  \\r\\n\\r\\n                    1 of 33\\r\\n\\r\\n   ...          0:08    16:56  \n",
       "1  \\r\\n\\r\\n                    2 of 33\\r\\n\\r\\n   ...          0:09    17:40  \n",
       "2  \\r\\n\\r\\n                    1 of 27\\r\\n\\r\\n   ...          0:07    18:22  \n",
       "3  \\r\\n\\r\\n                    2 of 27\\r\\n\\r\\n   ...          0:07    18:38  \n",
       "4  \\r\\n\\r\\n                    3 of 33\\r\\n\\r\\n   ...          0:09    19:40  "
      ]
     },
     "execution_count": 87,
     "metadata": {},
     "output_type": "execute_result"
    }
   ],
   "source": [
    "''' And now, using pandas we just need to do this: '''\n",
    "\n",
    "df.columns = header_list\n",
    "\n",
    "# \\(*O*)/\n",
    "df.head()"
   ]
  },
  {
   "cell_type": "code",
   "execution_count": 88,
   "metadata": {},
   "outputs": [],
   "source": [
    "# Finally, creating a csv file with all data we need.\n",
    "\n",
    "df.to_csv('race timings.csv')"
   ]
  }
 ],
 "metadata": {
  "kernelspec": {
   "display_name": "Python 3",
   "language": "python",
   "name": "python3"
  },
  "language_info": {
   "codemirror_mode": {
    "name": "ipython",
    "version": 3
   },
   "file_extension": ".py",
   "mimetype": "text/x-python",
   "name": "python",
   "nbconvert_exporter": "python",
   "pygments_lexer": "ipython3",
   "version": "3.7.6"
  }
 },
 "nbformat": 4,
 "nbformat_minor": 4
}
