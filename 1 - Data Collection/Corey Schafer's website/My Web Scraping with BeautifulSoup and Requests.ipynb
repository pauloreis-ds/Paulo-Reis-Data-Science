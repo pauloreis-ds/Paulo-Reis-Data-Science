{
 "cells": [
  {
   "cell_type": "markdown",
   "metadata": {},
   "source": [
    "# Web Scraping with BeautifulSoup and Requests\n",
    "\n",
    "    Practicing web scraping. \n",
    "    \n",
    "Video that helped me: https://www.youtube.com/watch?v=ng2o98k983k&list=WL&index=32&t=0s\n",
    "\n",
    "## Agenda\n",
    "        Context\n",
    "        1 - Getting the post title\n",
    "        2 - Getting the post date\n",
    "        3 - Getting the post description\n",
    "        4 - Getting the post tags\n",
    "        5 - Modeling?\n",
    "        6 - Joining information in a DataFrame"
   ]
  },
  {
   "cell_type": "code",
   "execution_count": 1,
   "metadata": {},
   "outputs": [],
   "source": [
    "# Imports\n",
    "\n",
    "# Web scraping tools\n",
    "import requests\n",
    "from bs4 import BeautifulSoup\n",
    "\n",
    "# To create the DataFrame\n",
    "import pandas as pd"
   ]
  },
  {
   "cell_type": "markdown",
   "metadata": {},
   "source": [
    "## Context \n",
    "    Let's say We are looking for creating a dataset with information about\n",
    "    Corey Schafer's website. And that We specifically want the articles \n",
    "    title, post date, description and tags.    \n",
    "        \n",
    "    \n",
    "    So, requests.get().text  will basically get all of the HTML from the web page\n",
    "    \n",
    "    and BeautifulSoup() is responsible for making sense of it, so we'll be \n",
    "    able to use methods and attributes (from BeautifulSoup() object) in order\n",
    "    to obtain all the data we need."
   ]
  },
  {
   "cell_type": "code",
   "execution_count": 2,
   "metadata": {},
   "outputs": [],
   "source": [
    "# Requesting access to the connection and html content\n",
    "\n",
    "source = requests.get('http://coreyms.com').text"
   ]
  },
  {
   "cell_type": "code",
   "execution_count": 3,
   "metadata": {},
   "outputs": [],
   "source": [
    "# Tranforming the raw content into a BeautifulSoup object\n",
    "\n",
    "soup = BeautifulSoup(source, 'lxml')"
   ]
  },
  {
   "cell_type": "code",
   "execution_count": 4,
   "metadata": {},
   "outputs": [
    {
     "name": "stdout",
     "output_type": "stream",
     "text": [
      "<!DOCTYPE html>\n",
      "<html lang=\"en-US\">\n",
      " <head>\n",
      "  <meta charset=\"utf-8\"/>\n",
      "  <meta content=\"width=device-width, initial-scale=1\" name=\"viewport\"/>\n",
      "  <!-- This site is optimized with the Yoast SEO plugin v14.4.1 - https://yoast.com/wordpress/plugins/seo/ -->\n",
      "  <title>\n",
      "   CoreyMS - Development, Design, DIY, and more\n",
      "  </title>\n",
      "  <meta content=\"Development, Design, DIY, and more\" name=\"description\"/>\n",
      "  <meta content=\"index, follow\" name=\"robots\"/>\n",
      "  <meta content=\"index, follow, max-snippet:-1, max-imag\n"
     ]
    }
   ],
   "source": [
    "# With .prettify() we can see the HTML better structured (try and print only 'soup')\n",
    "\n",
    "print(soup.prettify()[0:500])"
   ]
  },
  {
   "cell_type": "markdown",
   "metadata": {},
   "source": [
    "    The easiest way to get information from a tag is just access it \n",
    "    like an attribute"
   ]
  },
  {
   "cell_type": "code",
   "execution_count": 5,
   "metadata": {
    "scrolled": true
   },
   "outputs": [
    {
     "data": {
      "text/plain": [
       "<title>CoreyMS - Development, Design, DIY, and more</title>"
      ]
     },
     "execution_count": 5,
     "metadata": {},
     "output_type": "execute_result"
    }
   ],
   "source": [
    "soup.title"
   ]
  },
  {
   "cell_type": "code",
   "execution_count": 6,
   "metadata": {},
   "outputs": [
    {
     "data": {
      "text/plain": [
       "'CoreyMS - Development, Design, DIY, and more'"
      ]
     },
     "execution_count": 6,
     "metadata": {},
     "output_type": "execute_result"
    }
   ],
   "source": [
    "# Now, to get the actual content (without <title>tags</title>) we need to use the attribute .text\n",
    "\n",
    "soup.title.text"
   ]
  },
  {
   "cell_type": "markdown",
   "metadata": {},
   "source": [
    "    If you notice, soup.title returns to us the first title tag in the html\n",
    "    (look back at soup.prettify()[0:500])\n",
    "    \n",
    "    but the first tag is not always what we want. Then we can use \n",
    "    .find() method while passing some arguments to find the exact\n",
    "    tag we're looking for."
   ]
  },
  {
   "cell_type": "code",
   "execution_count": 7,
   "metadata": {},
   "outputs": [
    {
     "data": {
      "text/plain": [
       "<div class=\"entry-content\" itemprop=\"text\">\n",
       "<p>In this video, we will be learning how to create and extract zip archives. We will start by using the zipfile module, and then we will see how to do this using the shutil module. We will learn how to do this with single files and directories, as well as learning how to use gzip as well. Let’s get started…<br/></p>\n",
       "<span class=\"embed-youtube\" style=\"text-align:center; display: block;\"><iframe allowfullscreen=\"true\" class=\"youtube-player\" height=\"360\" src=\"https://www.youtube.com/embed/z0gguhEmWiY?version=3&amp;rel=1&amp;fs=1&amp;autohide=2&amp;showsearch=0&amp;showinfo=1&amp;iv_load_policy=1&amp;wmode=transparent\" style=\"border:0;\" width=\"640\"></iframe></span>\n",
       "</div>"
      ]
     },
     "execution_count": 7,
     "metadata": {},
     "output_type": "execute_result"
    }
   ],
   "source": [
    "'''\n",
    "    soup.find('div') will give us the first (and long) div of the page.\n",
    "    Let's take a look at a specific div with a class called 'entry-content'\n",
    "    \n",
    "    We can pass to the parameter attrs (attributes) a dictionary containing\n",
    "    the html attribute name an its value\n",
    "'''\n",
    "soup.find('div', attrs = {'class':'entry-content'})"
   ]
  },
  {
   "cell_type": "code",
   "execution_count": 8,
   "metadata": {},
   "outputs": [
    {
     "data": {
      "text/plain": [
       "<div class=\"entry-content\" itemprop=\"text\">\n",
       "<p>In this video, we will be learning how to create and extract zip archives. We will start by using the zipfile module, and then we will see how to do this using the shutil module. We will learn how to do this with single files and directories, as well as learning how to use gzip as well. Let’s get started…<br/></p>\n",
       "<span class=\"embed-youtube\" style=\"text-align:center; display: block;\"><iframe allowfullscreen=\"true\" class=\"youtube-player\" height=\"360\" src=\"https://www.youtube.com/embed/z0gguhEmWiY?version=3&amp;rel=1&amp;fs=1&amp;autohide=2&amp;showsearch=0&amp;showinfo=1&amp;iv_load_policy=1&amp;wmode=transparent\" style=\"border:0;\" width=\"640\"></iframe></span>\n",
       "</div>"
      ]
     },
     "execution_count": 8,
     "metadata": {},
     "output_type": "execute_result"
    }
   ],
   "source": [
    "# Shorter way to achieve the same result   attribute_ = 'attrs name'    \n",
    "# ps: the underscore_ is essencial, it is how bs4 knows the attrs is an attrsan not another variable\n",
    "\n",
    "soup.find('div', class_ = 'entry-content')"
   ]
  },
  {
   "cell_type": "markdown",
   "metadata": {},
   "source": [
    "### 1 - Getting the post title\n",
    "    If we want to get multiple things from a page, a good way to start is just to get\n",
    "    one of whatever it is we want to parse and then use a loop to get all of them."
   ]
  },
  {
   "cell_type": "code",
   "execution_count": 9,
   "metadata": {},
   "outputs": [
    {
     "data": {
      "text/plain": [
       "<a class=\"entry-title-link\" href=\"https://coreyms.com/development/python/python-tutorial-zip-files-creating-and-extracting-zip-archives\" rel=\"bookmark\">Python Tutorial: Zip Files – Creating and Extracting Zip Archives</a>"
      ]
     },
     "execution_count": 9,
     "metadata": {},
     "output_type": "execute_result"
    }
   ],
   "source": [
    "title = soup.find('a', class_ = 'entry-title-link')\n",
    "title"
   ]
  },
  {
   "cell_type": "code",
   "execution_count": 10,
   "metadata": {},
   "outputs": [
    {
     "data": {
      "text/plain": [
       "'Python Tutorial: Zip Files – Creating and Extracting Zip Archives'"
      ]
     },
     "execution_count": 10,
     "metadata": {},
     "output_type": "execute_result"
    }
   ],
   "source": [
    "# We did it, one of the titles from the page\n",
    "\n",
    "title.contents[0]"
   ]
  },
  {
   "cell_type": "code",
   "execution_count": 11,
   "metadata": {},
   "outputs": [
    {
     "data": {
      "text/plain": [
       "[<a class=\"entry-title-link\" href=\"https://coreyms.com/development/python/python-tutorial-zip-files-creating-and-extracting-zip-archives\" rel=\"bookmark\">Python Tutorial: Zip Files – Creating and Extracting Zip Archives</a>,\n",
       " <a class=\"entry-title-link\" href=\"https://coreyms.com/development/python/python-data-science-tutorial-analyzing-the-2019-stack-overflow-developer-survey\" rel=\"bookmark\">Python Data Science Tutorial: Analyzing the 2019 Stack Overflow Developer Survey</a>,\n",
       " <a class=\"entry-title-link\" href=\"https://coreyms.com/development/python/python-multiprocessing-tutorial-run-code-in-parallel-using-the-multiprocessing-module\" rel=\"bookmark\">Python Multiprocessing Tutorial: Run Code in Parallel Using the Multiprocessing Module</a>,\n",
       " <a class=\"entry-title-link\" href=\"https://coreyms.com/development/python/python-threading-tutorial-run-code-concurrently-using-the-threading-module\" rel=\"bookmark\">Python Threading Tutorial: Run Code Concurrently Using the Threading Module</a>,\n",
       " <a class=\"entry-title-link\" href=\"https://coreyms.com/general/update-2019-09-03\" rel=\"bookmark\">Update (2019-09-03)</a>,\n",
       " <a class=\"entry-title-link\" href=\"https://coreyms.com/development/python/python-quick-tip-the-difference-between-and-is-equality-vs-identity\" rel=\"bookmark\">Python Quick Tip: The Difference Between “==” and “is” (Equality vs Identity)</a>,\n",
       " <a class=\"entry-title-link\" href=\"https://coreyms.com/development/python/python-tutorial-calling-external-commands-using-the-subprocess-module\" rel=\"bookmark\">Python Tutorial: Calling External Commands Using the Subprocess Module</a>,\n",
       " <a class=\"entry-title-link\" href=\"https://coreyms.com/development/python/visual-studio-code-windows-setting-up-a-python-development-environment-and-complete-overview\" rel=\"bookmark\">Visual Studio Code (Windows) – Setting up a Python Development Environment and Complete Overview</a>,\n",
       " <a class=\"entry-title-link\" href=\"https://coreyms.com/development/python/visual-studio-code-mac-setting-up-a-python-development-environment-and-complete-overview\" rel=\"bookmark\">Visual Studio Code (Mac) – Setting up a Python Development Environment and Complete Overview</a>,\n",
       " <a class=\"entry-title-link\" href=\"https://coreyms.com/development/python/clarifying-the-issues-with-mutable-default-arguments\" rel=\"bookmark\">Clarifying the Issues with Mutable Default Arguments</a>]"
      ]
     },
     "execution_count": 11,
     "metadata": {},
     "output_type": "execute_result"
    }
   ],
   "source": [
    "'''\n",
    "    To fetch all of the 'a' tags with the 'entry-title-link' class attribute\n",
    "    We need to use .find_all() method\n",
    "'''\n",
    "soup.find_all('a', class_ = 'entry-title-link')"
   ]
  },
  {
   "cell_type": "code",
   "execution_count": 12,
   "metadata": {},
   "outputs": [
    {
     "data": {
      "text/plain": [
       "['Python Tutorial: Zip Files – Creating and Extracting Zip Archives',\n",
       " 'Python Data Science Tutorial: Analyzing the 2019 Stack Overflow Developer Survey',\n",
       " 'Python Multiprocessing Tutorial: Run Code in Parallel Using the Multiprocessing Module',\n",
       " 'Python Threading Tutorial: Run Code Concurrently Using the Threading Module',\n",
       " 'Update (2019-09-03)',\n",
       " 'Python Quick Tip: The Difference Between “==” and “is” (Equality vs Identity)',\n",
       " 'Python Tutorial: Calling External Commands Using the Subprocess Module',\n",
       " 'Visual Studio Code (Windows) – Setting up a Python Development Environment and Complete Overview',\n",
       " 'Visual Studio Code (Mac) – Setting up a Python Development Environment and Complete Overview',\n",
       " 'Clarifying the Issues with Mutable Default Arguments']"
      ]
     },
     "execution_count": 12,
     "metadata": {},
     "output_type": "execute_result"
    }
   ],
   "source": [
    "# Now, using a loop, let's put them into a list \n",
    "\n",
    "page_titles = soup.find_all('a', class_ = 'entry-title-link')\n",
    "\n",
    "titles = []\n",
    "\n",
    "for title in page_titles:\n",
    "    titles.append(title.contents[0])\n",
    "    \n",
    "\n",
    "# YEEAAHHHH \\(*O*)/ IT WORKED!!!\n",
    "titles"
   ]
  },
  {
   "cell_type": "markdown",
   "metadata": {},
   "source": [
    "### 2 - Getting the post date\n",
    "    it's basically the same process"
   ]
  },
  {
   "cell_type": "code",
   "execution_count": 13,
   "metadata": {
    "scrolled": true
   },
   "outputs": [
    {
     "data": {
      "text/plain": [
       "<time class=\"entry-time\" datetime=\"2019-11-19T13:02:37-05:00\" itemprop=\"datePublished\">November 19, 2019</time>"
      ]
     },
     "execution_count": 13,
     "metadata": {},
     "output_type": "execute_result"
    }
   ],
   "source": [
    "# Looking for one\n",
    "\n",
    "soup.find('time', class_='entry-time')"
   ]
  },
  {
   "cell_type": "code",
   "execution_count": 14,
   "metadata": {},
   "outputs": [
    {
     "data": {
      "text/plain": [
       "'November 19, 2019'"
      ]
     },
     "execution_count": 14,
     "metadata": {},
     "output_type": "execute_result"
    }
   ],
   "source": [
    "# Getting only the information we aim for\n",
    "\n",
    "date = soup.find('time', class_='entry-time')\n",
    "\n",
    "date.contents[0]"
   ]
  },
  {
   "cell_type": "code",
   "execution_count": 15,
   "metadata": {},
   "outputs": [
    {
     "data": {
      "text/plain": [
       "[<time class=\"entry-time\" datetime=\"2019-11-19T13:02:37-05:00\" itemprop=\"datePublished\">November 19, 2019</time>,\n",
       " <time class=\"entry-time\" datetime=\"2019-10-17T12:35:51-04:00\" itemprop=\"datePublished\">October 17, 2019</time>,\n",
       " <time class=\"entry-time\" datetime=\"2019-09-21T10:59:18-04:00\" itemprop=\"datePublished\">September 21, 2019</time>,\n",
       " <time class=\"entry-time\" datetime=\"2019-09-12T10:49:54-04:00\" itemprop=\"datePublished\">September 12, 2019</time>,\n",
       " <time class=\"entry-time\" datetime=\"2019-09-03T16:42:01-04:00\" itemprop=\"datePublished\">September 3, 2019</time>,\n",
       " <time class=\"entry-time\" datetime=\"2019-08-06T12:17:28-04:00\" itemprop=\"datePublished\">August 6, 2019</time>,\n",
       " <time class=\"entry-time\" datetime=\"2019-07-24T15:26:19-04:00\" itemprop=\"datePublished\">July 24, 2019</time>,\n",
       " <time class=\"entry-time\" datetime=\"2019-05-01T14:03:24-04:00\" itemprop=\"datePublished\">May 1, 2019</time>,\n",
       " <time class=\"entry-time\" datetime=\"2019-05-01T14:01:45-04:00\" itemprop=\"datePublished\">May 1, 2019</time>,\n",
       " <time class=\"entry-time\" datetime=\"2019-04-24T11:46:42-04:00\" itemprop=\"datePublished\">April 24, 2019</time>]"
      ]
     },
     "execution_count": 15,
     "metadata": {},
     "output_type": "execute_result"
    }
   ],
   "source": [
    "# Finding all\n",
    "\n",
    "soup.find_all('time', class_='entry-time')"
   ]
  },
  {
   "cell_type": "code",
   "execution_count": 16,
   "metadata": {},
   "outputs": [
    {
     "data": {
      "text/plain": [
       "['November 19, 2019',\n",
       " 'October 17, 2019',\n",
       " 'September 21, 2019',\n",
       " 'September 12, 2019',\n",
       " 'September 3, 2019',\n",
       " 'August 6, 2019',\n",
       " 'July 24, 2019',\n",
       " 'May 1, 2019',\n",
       " 'May 1, 2019',\n",
       " 'April 24, 2019']"
      ]
     },
     "execution_count": 16,
     "metadata": {},
     "output_type": "execute_result"
    }
   ],
   "source": [
    "# Looping through to get all data, bust this time I had to use .text (yet not sure why)\n",
    "\n",
    "page_post_dates = soup.find_all('time', class_ = 'entry-time')\n",
    "post_dates = []\n",
    "\n",
    "for post_date in page_post_dates:\n",
    "    \n",
    "    post_dates.append(post_date.text)\n",
    "    \n",
    "post_dates"
   ]
  },
  {
   "cell_type": "markdown",
   "metadata": {},
   "source": [
    "### 3 - Getting the post description"
   ]
  },
  {
   "cell_type": "code",
   "execution_count": 17,
   "metadata": {},
   "outputs": [],
   "source": [
    "description = soup.find('div', class_='entry-content')"
   ]
  },
  {
   "cell_type": "code",
   "execution_count": 18,
   "metadata": {
    "scrolled": true
   },
   "outputs": [
    {
     "data": {
      "text/plain": [
       "<div class=\"entry-content\" itemprop=\"text\">\n",
       "<p>In this video, we will be learning how to create and extract zip archives. We will start by using the zipfile module, and then we will see how to do this using the shutil module. We will learn how to do this with single files and directories, as well as learning how to use gzip as well. Let’s get started…<br/></p>\n",
       "<span class=\"embed-youtube\" style=\"text-align:center; display: block;\"><iframe allowfullscreen=\"true\" class=\"youtube-player\" height=\"360\" src=\"https://www.youtube.com/embed/z0gguhEmWiY?version=3&amp;rel=1&amp;fs=1&amp;autohide=2&amp;showsearch=0&amp;showinfo=1&amp;iv_load_policy=1&amp;wmode=transparent\" style=\"border:0;\" width=\"640\"></iframe></span>\n",
       "</div>"
      ]
     },
     "execution_count": 18,
     "metadata": {},
     "output_type": "execute_result"
    }
   ],
   "source": [
    "description"
   ]
  },
  {
   "cell_type": "code",
   "execution_count": 19,
   "metadata": {},
   "outputs": [
    {
     "data": {
      "text/plain": [
       "<p>In this video, we will be learning how to create and extract zip archives. We will start by using the zipfile module, and then we will see how to do this using the shutil module. We will learn how to do this with single files and directories, as well as learning how to use gzip as well. Let’s get started…<br/></p>"
      ]
     },
     "execution_count": 19,
     "metadata": {},
     "output_type": "execute_result"
    }
   ],
   "source": [
    "description.p"
   ]
  },
  {
   "cell_type": "code",
   "execution_count": 20,
   "metadata": {},
   "outputs": [
    {
     "data": {
      "text/plain": [
       "'In this video, we will be learning how to create and extract zip archives. We will start by using the zipfile module, and then we will see how to do this using the shutil module. We will learn how to do this with single files and directories, as well as learning how to use gzip as well. Let’s get started…'"
      ]
     },
     "execution_count": 20,
     "metadata": {},
     "output_type": "execute_result"
    }
   ],
   "source": [
    "description.p.text"
   ]
  },
  {
   "cell_type": "code",
   "execution_count": 21,
   "metadata": {},
   "outputs": [
    {
     "data": {
      "text/plain": [
       "['In this video, we will be learning how to create and extract zip archives. We will start by using the zipfile module, and then we will see how to do this using the shutil module. We will learn how to do this with single files and directories, as well as learning how to use gzip as well. Let’s get started…',\n",
       " 'In this Python Programming video, we will be learning how to download and analyze real-world data from the 2019 Stack Overflow Developer Survey. This is terrific practice for anyone getting into the data science field. We will learn different ways to analyze this data and also some best practices. Let’s get started…',\n",
       " 'In this Python Programming video, we will be learning how to run code in parallel using the multiprocessing module. We will also look at how to process multiple high-resolution images at the same time using a ProcessPoolExecutor from the concurrent.futures module. Let’s get started…',\n",
       " 'In this Python Programming video, we will be learning how to run threads concurrently using the threading module. We will also look at how to download multiple high-resolution images online using a ThreadPoolExecutor from the concurrent.futures module. Let’s get started…',\n",
       " 'Hey everyone. I wanted to give you an update on my videos. I will be releasing videos on threading and multiprocessing within the next week. Thanks so much for your patience. I currently have a temporary recording studio setup at my Airbnb that will allow me to record and edit the threading/multiprocessing videos. I am going to be moving into my new house in 10 days and once I have my recording studio setup then you can expect much faster video releases. I really appreciate how patient everyone has been while I go through this move, especially those of you who are contributing monthly through YouTube ',\n",
       " 'In this Python Programming Tutorial, we will be learning the difference between using “==” and the “is” keyword when doing comparisons. The difference between these is that “==” checks to see if values are equal, and the “is” keyword checks their identity, which means it’s going to check if the values are identical in terms of being the same object in memory. We’ll learn more in the video. Let’s get started…',\n",
       " 'In this Python Programming Tutorial, we will be learning how to run external commands using the subprocess module from the standard library. We will learn how to run commands, capture the output, handle errors, and also how to pipe output into other commands. Let’s get started…',\n",
       " 'In this Python Programming Tutorial, we will be learning how to set up a Python development environment in VSCode on Windows. VSCode is a very nice free editor for writing Python applications and many developers are now switching over to this editor. In this video, we will learn how to install VSCode, get the Python extension installed, how to change Python interpreters, create virtual environments, format/lint our code, how to use Git within VSCode, how to debug our programs, how unit testing works, and more. We have a lot to cover, so let’s go ahead and get started…',\n",
       " 'In this Python Programming Tutorial, we will be learning how to set up a Python development environment in VSCode on MacOS. VSCode is a very nice free editor for writing Python applications and many developers are now switching over to this editor. In this video, we will learn how to install VSCode, get the Python extension installed, how to change Python interpreters, create virtual environments, format/lint our code, how to use Git within VSCode, how to debug our programs, how unit testing works, and more. We have a lot to cover, so let’s go ahead and get started…',\n",
       " 'In this Python Programming Tutorial, we will be clarifying the issues with mutable default arguments. We discussed this in my last video titled “5 Common Python Mistakes and How to Fix Them”, but I received many comments from people who were still confused. So we will be doing a deeper dive to explain exactly what is going on here. Let’s get started…']"
      ]
     },
     "execution_count": 21,
     "metadata": {},
     "output_type": "execute_result"
    }
   ],
   "source": [
    "post_descriptions = soup.find_all('div', class_='entry-content')\n",
    "\n",
    "descriptions = []\n",
    "\n",
    "for description in post_descriptions:\n",
    "    descriptions.append(description.p.text)\n",
    "    \n",
    "descriptions"
   ]
  },
  {
   "cell_type": "code",
   "execution_count": 22,
   "metadata": {
    "scrolled": true
   },
   "outputs": [
    {
     "data": {
      "text/plain": [
       "'In this video, we will be learning how to create and extract zip archives. We will start by using the zipfile module, and then we will see how to do this using the shutil module. We will learn how to do this with single files and directories, as well as learning how to use gzip as well. Let’s get started…'"
      ]
     },
     "execution_count": 22,
     "metadata": {},
     "output_type": "execute_result"
    }
   ],
   "source": [
    "descriptions[0]"
   ]
  },
  {
   "cell_type": "markdown",
   "metadata": {},
   "source": [
    "### 4 - Getting the post tags\n",
    "    There's a different approach here, I don't know how to explain the technical details\n",
    "    about the structure of .contents and .text\n",
    "    So I encorage you to change the code and try to see the differences and understand what\n",
    "    is happening."
   ]
  },
  {
   "cell_type": "code",
   "execution_count": 23,
   "metadata": {},
   "outputs": [
    {
     "data": {
      "text/plain": [
       "<span class=\"entry-tags\">Tagged With: <a href=\"https://coreyms.com/tag/gzip\" rel=\"tag\">gzip</a>, <a href=\"https://coreyms.com/tag/shutil\" rel=\"tag\">shutil</a>, <a href=\"https://coreyms.com/tag/zip\" rel=\"tag\">zip</a>, <a href=\"https://coreyms.com/tag/zipfile\" rel=\"tag\">zipfile</a></span>"
      ]
     },
     "execution_count": 23,
     "metadata": {},
     "output_type": "execute_result"
    }
   ],
   "source": [
    "soup.find('span',class_ = 'entry-tags')"
   ]
  },
  {
   "cell_type": "code",
   "execution_count": 24,
   "metadata": {},
   "outputs": [
    {
     "data": {
      "text/plain": [
       "'Tagged With: gzip, shutil, zip, zipfile'"
      ]
     },
     "execution_count": 24,
     "metadata": {},
     "output_type": "execute_result"
    }
   ],
   "source": [
    "tag = soup.find('span',class_ = 'entry-tags')\n",
    "tag.text"
   ]
  },
  {
   "cell_type": "code",
   "execution_count": 25,
   "metadata": {},
   "outputs": [
    {
     "data": {
      "text/plain": [
       "'gzip, shutil, zip, zipfil'"
      ]
     },
     "execution_count": 25,
     "metadata": {},
     "output_type": "execute_result"
    }
   ],
   "source": [
    "tags = soup.find_all('span',class_ = 'entry-tags')\n",
    "tags[0].text[13:-1]"
   ]
  },
  {
   "cell_type": "code",
   "execution_count": 26,
   "metadata": {
    "scrolled": true
   },
   "outputs": [
    {
     "data": {
      "text/plain": [
       "['gzip, shutil, zip, zipfil',\n",
       " 'data analysis, Data Science, stack overflo',\n",
       " 'asynchronous, concurrent.futures, multiprocessing, parallel, threadin',\n",
       " 'asynchronous, concurrency, multiprocessing, threadin',\n",
       " '== vs is, equality, identit',\n",
       " 'standard library, subproces',\n",
       " 'Development Environment, visual studio code, visual studios, vs code, vscod',\n",
       " 'Development Environment, visual studio code, visual studios, vs code, vscod',\n",
       " 'common errors, common mistakes, functions, mutable default argument']"
      ]
     },
     "execution_count": 26,
     "metadata": {},
     "output_type": "execute_result"
    }
   ],
   "source": [
    "page_tags = soup.find_all('span',class_ = 'entry-tags')\n",
    "\n",
    "tags = []\n",
    "\n",
    "for tag in page_tags:\n",
    "    tags.append(tag.text[13:-1])\n",
    "\n",
    "tags"
   ]
  },
  {
   "cell_type": "markdown",
   "metadata": {},
   "source": [
    "## Modeling?\n",
    "    Now We can kind of create a model where we will be able to\n",
    "    scrape again and again. It's sort of a code optimization.\n",
    "    Well, not really, reviewing I can see it is a long way to do it.\n",
    "    Since I basically just appended the for loops...\n",
    "    \n",
    "    ps: there were a problem with the structure of one article.\n",
    "        I solved it manually, but that is not the best solution.\n",
    "        We are always trying to automate thing"
   ]
  },
  {
   "cell_type": "code",
   "execution_count": 33,
   "metadata": {},
   "outputs": [],
   "source": [
    "#      Titles\n",
    "page_title_records = soup.find_all('a', class_ = 'entry-title-link')\n",
    "titles = []\n",
    "\n",
    "for title in page_title_records:\n",
    "    if title.contents[0] == 'Update (2019-09-03)':\n",
    "        continue\n",
    "    else:\n",
    "        titles.append(title.contents[0])\n",
    "\n",
    "    \n",
    "#      Post dates\n",
    "page_post_dates = soup.find_all('time', class_ = 'entry-time')\n",
    "post_dates = []\n",
    "\n",
    "for post_date in page_post_dates:\n",
    "    if  post_date.text == 'September 3, 2019':\n",
    "        continue\n",
    "    else:\n",
    "        post_dates.append(post_date.text)\n",
    "    \n",
    "\n",
    "#      Descriptions\n",
    "post_descriptions = soup.find_all('div', class_='entry-content')\n",
    "descriptions = []\n",
    "not_wanted_description = 'Hey everyone. I wanted to give you an update on my videos. I will be releasing videos on threading and multiprocessing within the next week. Thanks so much for your patience. I currently have a temporary recording studio setup at my Airbnb that will allow me to record and edit the threading/multiprocessing videos. I am going to be moving into my new house in 10 days and once I have my recording studio setup then you can expect much faster video releases. I really appreciate how patient everyone has been while I go through this move, especially those of you who are contributing monthly through YouTube '\n",
    "for description in post_descriptions:\n",
    "    if description.p.text == not_wanted_description:\n",
    "        continue\n",
    "    else:\n",
    "        descriptions.append(description.p.text)\n",
    "    \n",
    "\n",
    "#      Tags\n",
    "page_tags = soup.find_all('span',class_ = 'entry-tags')\n",
    "tags = []\n",
    "\n",
    "for tag in page_tags:\n",
    "    tags.append(tag.text[13:-1])"
   ]
  },
  {
   "cell_type": "markdown",
   "metadata": {},
   "source": [
    "## Joining information in a DataFrame"
   ]
  },
  {
   "cell_type": "code",
   "execution_count": 34,
   "metadata": {},
   "outputs": [
    {
     "data": {
      "text/html": [
       "<div>\n",
       "<style scoped>\n",
       "    .dataframe tbody tr th:only-of-type {\n",
       "        vertical-align: middle;\n",
       "    }\n",
       "\n",
       "    .dataframe tbody tr th {\n",
       "        vertical-align: top;\n",
       "    }\n",
       "\n",
       "    .dataframe thead th {\n",
       "        text-align: right;\n",
       "    }\n",
       "</style>\n",
       "<table border=\"1\" class=\"dataframe\">\n",
       "  <thead>\n",
       "    <tr style=\"text-align: right;\">\n",
       "      <th></th>\n",
       "      <th>title</th>\n",
       "    </tr>\n",
       "  </thead>\n",
       "  <tbody>\n",
       "    <tr>\n",
       "      <th>0</th>\n",
       "      <td>Python Tutorial: Zip Files – Creating and Extr...</td>\n",
       "    </tr>\n",
       "    <tr>\n",
       "      <th>1</th>\n",
       "      <td>Python Data Science Tutorial: Analyzing the 20...</td>\n",
       "    </tr>\n",
       "    <tr>\n",
       "      <th>2</th>\n",
       "      <td>Python Multiprocessing Tutorial: Run Code in P...</td>\n",
       "    </tr>\n",
       "    <tr>\n",
       "      <th>3</th>\n",
       "      <td>Python Threading Tutorial: Run Code Concurrent...</td>\n",
       "    </tr>\n",
       "    <tr>\n",
       "      <th>4</th>\n",
       "      <td>Python Quick Tip: The Difference Between “==” ...</td>\n",
       "    </tr>\n",
       "    <tr>\n",
       "      <th>5</th>\n",
       "      <td>Python Tutorial: Calling External Commands Usi...</td>\n",
       "    </tr>\n",
       "    <tr>\n",
       "      <th>6</th>\n",
       "      <td>Visual Studio Code (Windows) – Setting up a Py...</td>\n",
       "    </tr>\n",
       "    <tr>\n",
       "      <th>7</th>\n",
       "      <td>Visual Studio Code (Mac) – Setting up a Python...</td>\n",
       "    </tr>\n",
       "    <tr>\n",
       "      <th>8</th>\n",
       "      <td>Clarifying the Issues with Mutable Default Arg...</td>\n",
       "    </tr>\n",
       "  </tbody>\n",
       "</table>\n",
       "</div>"
      ],
      "text/plain": [
       "                                               title\n",
       "0  Python Tutorial: Zip Files – Creating and Extr...\n",
       "1  Python Data Science Tutorial: Analyzing the 20...\n",
       "2  Python Multiprocessing Tutorial: Run Code in P...\n",
       "3  Python Threading Tutorial: Run Code Concurrent...\n",
       "4  Python Quick Tip: The Difference Between “==” ...\n",
       "5  Python Tutorial: Calling External Commands Usi...\n",
       "6  Visual Studio Code (Windows) – Setting up a Py...\n",
       "7  Visual Studio Code (Mac) – Setting up a Python...\n",
       "8  Clarifying the Issues with Mutable Default Arg..."
      ]
     },
     "execution_count": 34,
     "metadata": {},
     "output_type": "execute_result"
    }
   ],
   "source": [
    "data_frame = pd.DataFrame(data=titles, columns=['title'])\n",
    "data_frame"
   ]
  },
  {
   "cell_type": "code",
   "execution_count": 35,
   "metadata": {},
   "outputs": [
    {
     "data": {
      "text/html": [
       "<div>\n",
       "<style scoped>\n",
       "    .dataframe tbody tr th:only-of-type {\n",
       "        vertical-align: middle;\n",
       "    }\n",
       "\n",
       "    .dataframe tbody tr th {\n",
       "        vertical-align: top;\n",
       "    }\n",
       "\n",
       "    .dataframe thead th {\n",
       "        text-align: right;\n",
       "    }\n",
       "</style>\n",
       "<table border=\"1\" class=\"dataframe\">\n",
       "  <thead>\n",
       "    <tr style=\"text-align: right;\">\n",
       "      <th></th>\n",
       "      <th>title</th>\n",
       "      <th>post_dates</th>\n",
       "    </tr>\n",
       "  </thead>\n",
       "  <tbody>\n",
       "    <tr>\n",
       "      <th>0</th>\n",
       "      <td>Python Tutorial: Zip Files – Creating and Extr...</td>\n",
       "      <td>November 19, 2019</td>\n",
       "    </tr>\n",
       "    <tr>\n",
       "      <th>1</th>\n",
       "      <td>Python Data Science Tutorial: Analyzing the 20...</td>\n",
       "      <td>October 17, 2019</td>\n",
       "    </tr>\n",
       "    <tr>\n",
       "      <th>2</th>\n",
       "      <td>Python Multiprocessing Tutorial: Run Code in P...</td>\n",
       "      <td>September 21, 2019</td>\n",
       "    </tr>\n",
       "    <tr>\n",
       "      <th>3</th>\n",
       "      <td>Python Threading Tutorial: Run Code Concurrent...</td>\n",
       "      <td>September 12, 2019</td>\n",
       "    </tr>\n",
       "    <tr>\n",
       "      <th>4</th>\n",
       "      <td>Python Quick Tip: The Difference Between “==” ...</td>\n",
       "      <td>August 6, 2019</td>\n",
       "    </tr>\n",
       "    <tr>\n",
       "      <th>5</th>\n",
       "      <td>Python Tutorial: Calling External Commands Usi...</td>\n",
       "      <td>July 24, 2019</td>\n",
       "    </tr>\n",
       "    <tr>\n",
       "      <th>6</th>\n",
       "      <td>Visual Studio Code (Windows) – Setting up a Py...</td>\n",
       "      <td>May 1, 2019</td>\n",
       "    </tr>\n",
       "    <tr>\n",
       "      <th>7</th>\n",
       "      <td>Visual Studio Code (Mac) – Setting up a Python...</td>\n",
       "      <td>May 1, 2019</td>\n",
       "    </tr>\n",
       "    <tr>\n",
       "      <th>8</th>\n",
       "      <td>Clarifying the Issues with Mutable Default Arg...</td>\n",
       "      <td>April 24, 2019</td>\n",
       "    </tr>\n",
       "  </tbody>\n",
       "</table>\n",
       "</div>"
      ],
      "text/plain": [
       "                                               title          post_dates\n",
       "0  Python Tutorial: Zip Files – Creating and Extr...   November 19, 2019\n",
       "1  Python Data Science Tutorial: Analyzing the 20...    October 17, 2019\n",
       "2  Python Multiprocessing Tutorial: Run Code in P...  September 21, 2019\n",
       "3  Python Threading Tutorial: Run Code Concurrent...  September 12, 2019\n",
       "4  Python Quick Tip: The Difference Between “==” ...      August 6, 2019\n",
       "5  Python Tutorial: Calling External Commands Usi...       July 24, 2019\n",
       "6  Visual Studio Code (Windows) – Setting up a Py...         May 1, 2019\n",
       "7  Visual Studio Code (Mac) – Setting up a Python...         May 1, 2019\n",
       "8  Clarifying the Issues with Mutable Default Arg...      April 24, 2019"
      ]
     },
     "execution_count": 35,
     "metadata": {},
     "output_type": "execute_result"
    }
   ],
   "source": [
    "data_frame = data_frame.join(pd.DataFrame(data=post_dates, columns=['post_dates']))\n",
    "data_frame"
   ]
  },
  {
   "cell_type": "code",
   "execution_count": 36,
   "metadata": {},
   "outputs": [
    {
     "data": {
      "text/html": [
       "<div>\n",
       "<style scoped>\n",
       "    .dataframe tbody tr th:only-of-type {\n",
       "        vertical-align: middle;\n",
       "    }\n",
       "\n",
       "    .dataframe tbody tr th {\n",
       "        vertical-align: top;\n",
       "    }\n",
       "\n",
       "    .dataframe thead th {\n",
       "        text-align: right;\n",
       "    }\n",
       "</style>\n",
       "<table border=\"1\" class=\"dataframe\">\n",
       "  <thead>\n",
       "    <tr style=\"text-align: right;\">\n",
       "      <th></th>\n",
       "      <th>title</th>\n",
       "      <th>post_dates</th>\n",
       "      <th>descriptions</th>\n",
       "    </tr>\n",
       "  </thead>\n",
       "  <tbody>\n",
       "    <tr>\n",
       "      <th>0</th>\n",
       "      <td>Python Tutorial: Zip Files – Creating and Extr...</td>\n",
       "      <td>November 19, 2019</td>\n",
       "      <td>In this video, we will be learning how to crea...</td>\n",
       "    </tr>\n",
       "    <tr>\n",
       "      <th>1</th>\n",
       "      <td>Python Data Science Tutorial: Analyzing the 20...</td>\n",
       "      <td>October 17, 2019</td>\n",
       "      <td>In this Python Programming video, we will be l...</td>\n",
       "    </tr>\n",
       "    <tr>\n",
       "      <th>2</th>\n",
       "      <td>Python Multiprocessing Tutorial: Run Code in P...</td>\n",
       "      <td>September 21, 2019</td>\n",
       "      <td>In this Python Programming video, we will be l...</td>\n",
       "    </tr>\n",
       "    <tr>\n",
       "      <th>3</th>\n",
       "      <td>Python Threading Tutorial: Run Code Concurrent...</td>\n",
       "      <td>September 12, 2019</td>\n",
       "      <td>In this Python Programming video, we will be l...</td>\n",
       "    </tr>\n",
       "    <tr>\n",
       "      <th>4</th>\n",
       "      <td>Python Quick Tip: The Difference Between “==” ...</td>\n",
       "      <td>August 6, 2019</td>\n",
       "      <td>In this Python Programming Tutorial, we will b...</td>\n",
       "    </tr>\n",
       "    <tr>\n",
       "      <th>5</th>\n",
       "      <td>Python Tutorial: Calling External Commands Usi...</td>\n",
       "      <td>July 24, 2019</td>\n",
       "      <td>In this Python Programming Tutorial, we will b...</td>\n",
       "    </tr>\n",
       "    <tr>\n",
       "      <th>6</th>\n",
       "      <td>Visual Studio Code (Windows) – Setting up a Py...</td>\n",
       "      <td>May 1, 2019</td>\n",
       "      <td>In this Python Programming Tutorial, we will b...</td>\n",
       "    </tr>\n",
       "    <tr>\n",
       "      <th>7</th>\n",
       "      <td>Visual Studio Code (Mac) – Setting up a Python...</td>\n",
       "      <td>May 1, 2019</td>\n",
       "      <td>In this Python Programming Tutorial, we will b...</td>\n",
       "    </tr>\n",
       "    <tr>\n",
       "      <th>8</th>\n",
       "      <td>Clarifying the Issues with Mutable Default Arg...</td>\n",
       "      <td>April 24, 2019</td>\n",
       "      <td>In this Python Programming Tutorial, we will b...</td>\n",
       "    </tr>\n",
       "  </tbody>\n",
       "</table>\n",
       "</div>"
      ],
      "text/plain": [
       "                                               title          post_dates  \\\n",
       "0  Python Tutorial: Zip Files – Creating and Extr...   November 19, 2019   \n",
       "1  Python Data Science Tutorial: Analyzing the 20...    October 17, 2019   \n",
       "2  Python Multiprocessing Tutorial: Run Code in P...  September 21, 2019   \n",
       "3  Python Threading Tutorial: Run Code Concurrent...  September 12, 2019   \n",
       "4  Python Quick Tip: The Difference Between “==” ...      August 6, 2019   \n",
       "5  Python Tutorial: Calling External Commands Usi...       July 24, 2019   \n",
       "6  Visual Studio Code (Windows) – Setting up a Py...         May 1, 2019   \n",
       "7  Visual Studio Code (Mac) – Setting up a Python...         May 1, 2019   \n",
       "8  Clarifying the Issues with Mutable Default Arg...      April 24, 2019   \n",
       "\n",
       "                                        descriptions  \n",
       "0  In this video, we will be learning how to crea...  \n",
       "1  In this Python Programming video, we will be l...  \n",
       "2  In this Python Programming video, we will be l...  \n",
       "3  In this Python Programming video, we will be l...  \n",
       "4  In this Python Programming Tutorial, we will b...  \n",
       "5  In this Python Programming Tutorial, we will b...  \n",
       "6  In this Python Programming Tutorial, we will b...  \n",
       "7  In this Python Programming Tutorial, we will b...  \n",
       "8  In this Python Programming Tutorial, we will b...  "
      ]
     },
     "execution_count": 36,
     "metadata": {},
     "output_type": "execute_result"
    }
   ],
   "source": [
    "data_frame = data_frame.join(pd.DataFrame(data=descriptions, columns=['descriptions']))\n",
    "data_frame"
   ]
  },
  {
   "cell_type": "code",
   "execution_count": 37,
   "metadata": {},
   "outputs": [
    {
     "data": {
      "text/html": [
       "<div>\n",
       "<style scoped>\n",
       "    .dataframe tbody tr th:only-of-type {\n",
       "        vertical-align: middle;\n",
       "    }\n",
       "\n",
       "    .dataframe tbody tr th {\n",
       "        vertical-align: top;\n",
       "    }\n",
       "\n",
       "    .dataframe thead th {\n",
       "        text-align: right;\n",
       "    }\n",
       "</style>\n",
       "<table border=\"1\" class=\"dataframe\">\n",
       "  <thead>\n",
       "    <tr style=\"text-align: right;\">\n",
       "      <th></th>\n",
       "      <th>title</th>\n",
       "      <th>post_dates</th>\n",
       "      <th>descriptions</th>\n",
       "      <th>tags</th>\n",
       "    </tr>\n",
       "  </thead>\n",
       "  <tbody>\n",
       "    <tr>\n",
       "      <th>0</th>\n",
       "      <td>Python Tutorial: Zip Files – Creating and Extr...</td>\n",
       "      <td>November 19, 2019</td>\n",
       "      <td>In this video, we will be learning how to crea...</td>\n",
       "      <td>gzip, shutil, zip, zipfil</td>\n",
       "    </tr>\n",
       "    <tr>\n",
       "      <th>1</th>\n",
       "      <td>Python Data Science Tutorial: Analyzing the 20...</td>\n",
       "      <td>October 17, 2019</td>\n",
       "      <td>In this Python Programming video, we will be l...</td>\n",
       "      <td>data analysis, Data Science, stack overflo</td>\n",
       "    </tr>\n",
       "    <tr>\n",
       "      <th>2</th>\n",
       "      <td>Python Multiprocessing Tutorial: Run Code in P...</td>\n",
       "      <td>September 21, 2019</td>\n",
       "      <td>In this Python Programming video, we will be l...</td>\n",
       "      <td>asynchronous, concurrent.futures, multiprocess...</td>\n",
       "    </tr>\n",
       "    <tr>\n",
       "      <th>3</th>\n",
       "      <td>Python Threading Tutorial: Run Code Concurrent...</td>\n",
       "      <td>September 12, 2019</td>\n",
       "      <td>In this Python Programming video, we will be l...</td>\n",
       "      <td>asynchronous, concurrency, multiprocessing, th...</td>\n",
       "    </tr>\n",
       "    <tr>\n",
       "      <th>4</th>\n",
       "      <td>Python Quick Tip: The Difference Between “==” ...</td>\n",
       "      <td>August 6, 2019</td>\n",
       "      <td>In this Python Programming Tutorial, we will b...</td>\n",
       "      <td>== vs is, equality, identit</td>\n",
       "    </tr>\n",
       "    <tr>\n",
       "      <th>5</th>\n",
       "      <td>Python Tutorial: Calling External Commands Usi...</td>\n",
       "      <td>July 24, 2019</td>\n",
       "      <td>In this Python Programming Tutorial, we will b...</td>\n",
       "      <td>standard library, subproces</td>\n",
       "    </tr>\n",
       "    <tr>\n",
       "      <th>6</th>\n",
       "      <td>Visual Studio Code (Windows) – Setting up a Py...</td>\n",
       "      <td>May 1, 2019</td>\n",
       "      <td>In this Python Programming Tutorial, we will b...</td>\n",
       "      <td>Development Environment, visual studio code, v...</td>\n",
       "    </tr>\n",
       "    <tr>\n",
       "      <th>7</th>\n",
       "      <td>Visual Studio Code (Mac) – Setting up a Python...</td>\n",
       "      <td>May 1, 2019</td>\n",
       "      <td>In this Python Programming Tutorial, we will b...</td>\n",
       "      <td>Development Environment, visual studio code, v...</td>\n",
       "    </tr>\n",
       "    <tr>\n",
       "      <th>8</th>\n",
       "      <td>Clarifying the Issues with Mutable Default Arg...</td>\n",
       "      <td>April 24, 2019</td>\n",
       "      <td>In this Python Programming Tutorial, we will b...</td>\n",
       "      <td>common errors, common mistakes, functions, mut...</td>\n",
       "    </tr>\n",
       "  </tbody>\n",
       "</table>\n",
       "</div>"
      ],
      "text/plain": [
       "                                               title          post_dates  \\\n",
       "0  Python Tutorial: Zip Files – Creating and Extr...   November 19, 2019   \n",
       "1  Python Data Science Tutorial: Analyzing the 20...    October 17, 2019   \n",
       "2  Python Multiprocessing Tutorial: Run Code in P...  September 21, 2019   \n",
       "3  Python Threading Tutorial: Run Code Concurrent...  September 12, 2019   \n",
       "4  Python Quick Tip: The Difference Between “==” ...      August 6, 2019   \n",
       "5  Python Tutorial: Calling External Commands Usi...       July 24, 2019   \n",
       "6  Visual Studio Code (Windows) – Setting up a Py...         May 1, 2019   \n",
       "7  Visual Studio Code (Mac) – Setting up a Python...         May 1, 2019   \n",
       "8  Clarifying the Issues with Mutable Default Arg...      April 24, 2019   \n",
       "\n",
       "                                        descriptions  \\\n",
       "0  In this video, we will be learning how to crea...   \n",
       "1  In this Python Programming video, we will be l...   \n",
       "2  In this Python Programming video, we will be l...   \n",
       "3  In this Python Programming video, we will be l...   \n",
       "4  In this Python Programming Tutorial, we will b...   \n",
       "5  In this Python Programming Tutorial, we will b...   \n",
       "6  In this Python Programming Tutorial, we will b...   \n",
       "7  In this Python Programming Tutorial, we will b...   \n",
       "8  In this Python Programming Tutorial, we will b...   \n",
       "\n",
       "                                                tags  \n",
       "0                          gzip, shutil, zip, zipfil  \n",
       "1         data analysis, Data Science, stack overflo  \n",
       "2  asynchronous, concurrent.futures, multiprocess...  \n",
       "3  asynchronous, concurrency, multiprocessing, th...  \n",
       "4                        == vs is, equality, identit  \n",
       "5                        standard library, subproces  \n",
       "6  Development Environment, visual studio code, v...  \n",
       "7  Development Environment, visual studio code, v...  \n",
       "8  common errors, common mistakes, functions, mut...  "
      ]
     },
     "execution_count": 37,
     "metadata": {},
     "output_type": "execute_result"
    }
   ],
   "source": [
    "data_frame = data_frame.join(pd.DataFrame(data=tags, columns=['tags']))\n",
    "data_frame"
   ]
  },
  {
   "cell_type": "code",
   "execution_count": 32,
   "metadata": {},
   "outputs": [],
   "source": [
    "# Finally we can create a csv with our collected data\n",
    "\n",
    "data_frame.to_csv('Corey_Schafer_Articles.csv')"
   ]
  }
 ],
 "metadata": {
  "kernelspec": {
   "display_name": "Python 3",
   "language": "python",
   "name": "python3"
  },
  "language_info": {
   "codemirror_mode": {
    "name": "ipython",
    "version": 3
   },
   "file_extension": ".py",
   "mimetype": "text/x-python",
   "name": "python",
   "nbconvert_exporter": "python",
   "pygments_lexer": "ipython3",
   "version": "3.7.6"
  }
 },
 "nbformat": 4,
 "nbformat_minor": 4
}
