{
 "cells": [
  {
   "cell_type": "markdown",
   "metadata": {},
   "source": [
    "# Neural network with Fashion_mnist dataset\n",
    "\n",
    "## Agenda\n",
    "        1 - Loading data\n",
    "            Splitting data into training and test data\n",
    "        2 - Creating model\n",
    "            Training model.\n",
    "            Testing model.\n",
    "        3 - Using the Model"
   ]
  },
  {
   "cell_type": "code",
   "execution_count": 19,
   "metadata": {},
   "outputs": [],
   "source": [
    "# Numeric Python\n",
    "import numpy as np \n",
    "# Graphs\n",
    "import matplotlib.pyplot as plt\n",
    "\n",
    "# Machine Learning\n",
    "import tensorflow as tf\n",
    "\n",
    "# API for tensorflow (it allows us to write less code)\n",
    "from tensorflow import keras"
   ]
  },
  {
   "cell_type": "code",
   "execution_count": 2,
   "metadata": {},
   "outputs": [],
   "source": [
    "# Loading data from keras\n",
    "data = keras.datasets.fashion_mnist"
   ]
  },
  {
   "cell_type": "markdown",
   "metadata": {},
   "source": [
    "**Splitting data into training and test data**\n",
    "\n",
    "    Basically:\n",
    "        training: Runs the model.\n",
    "        test: Validates the model."
   ]
  },
  {
   "cell_type": "code",
   "execution_count": 3,
   "metadata": {
    "scrolled": true
   },
   "outputs": [],
   "source": [
    "(train_images, train_labels), (test_images, test_labels) = data.load_data()"
   ]
  },
  {
   "cell_type": "code",
   "execution_count": 4,
   "metadata": {},
   "outputs": [
    {
     "name": "stdout",
     "output_type": "stream",
     "text": [
      "9\n",
      "0\n",
      "0\n",
      "3\n",
      "0\n",
      "2\n"
     ]
    }
   ],
   "source": [
    "break_point = 0\n",
    "for category in train_labels:\n",
    "    print(category)\n",
    "    if break_point == 5: break\n",
    "    break_point+=1"
   ]
  },
  {
   "cell_type": "markdown",
   "metadata": {},
   "source": [
    "    As you can see, the labels are in numerical format. This is good for our computation,\n",
    "    but we also need meaningful names so we can know what is happening.\n",
    "\n",
    "    Let's define a list of the class names and pre-process images. The documentation tell\n",
    "    us what these are, so I'll just copy and paste."
   ]
  },
  {
   "cell_type": "code",
   "execution_count": 5,
   "metadata": {},
   "outputs": [],
   "source": [
    "class_names = ['T-shirt/top', 'Trouser', 'Pullover', 'Dress', 'Coat',\n",
    "               'Sandal', 'Shirt', 'Sneaker', 'Bag', 'Ankle boot']"
   ]
  },
  {
   "cell_type": "code",
   "execution_count": 6,
   "metadata": {},
   "outputs": [
    {
     "data": {
      "image/png": "[encoded data removed]",
      "text/plain": [
       "<Figure size 432x288 with 1 Axes>"
      ]
     },
     "metadata": {
      "needs_background": "light"
     },
     "output_type": "display_data"
    }
   ],
   "source": [
    "plt.imshow(train_images[1])\n",
    "plt.show()"
   ]
  },
  {
   "cell_type": "code",
   "execution_count": 7,
   "metadata": {},
   "outputs": [
    {
     "name": "stdout",
     "output_type": "stream",
     "text": [
      "[[  0   0   0   0   0   1   0   0   0   0  41 188 103  54  48  43  87 168\n",
      "  133  16   0   0   0   0   0   0   0   0]\n",
      " [  0   0   0   1   0   0   0  49 136 219 216 228 236 255 255 255 255 217\n",
      "  215 254 231 160  45   0   0   0   0   0]\n",
      " [  0   0   0   0   0  14 176 222 224 212 203 198 196 200 215 204 202 201\n",
      "  201 201 209 218 224 164   0   0   0   0]\n",
      " [  0   0   0   0   0 188 219 200 198 202 198 199 199 201 196 198 198 200\n",
      "  200 200 200 201 200 225  41   0   0   0]\n",
      " [  0   0   0   0  51 219 199 203 203 212 238 248 250 245 249 246 247 252\n",
      "  248 235 207 203 203 222 140   0   0   0]\n",
      " [  0   0   0   0 116 226 206 204 207 204 101  75  47  73  48  50  45  51\n",
      "   63 113 222 202 206 220 224   0   0   0]\n",
      " [  0   0   0   0 200 222 209 203 215 200   0  70  98   0 103  59  68  71\n",
      "   49   0 219 206 214 210 250  38   0   0]\n",
      " [  0   0   0   0 247 218 212 210 215 214   0 254 243 139 255 174 251 255\n",
      "  205   0 215 217 214 208 220  95   0   0]\n",
      " [  0   0   0  45 226 214 214 215 224 205   0  42  35  60  16  17  12  13\n",
      "   70   0 189 216 212 206 212 156   0   0]\n",
      " [  0   0   0 164 235 214 211 220 216 201  52  71  89  94  83  78  70  76\n",
      "   92  87 206 207 222 213 219 208   0   0]\n",
      " [  0   0   0 106 187 223 237 248 211 198 252 250 248 245 248 252 253 250\n",
      "  252 239 201 212 225 215 193 113   0   0]\n",
      " [  0   0   0   0   0  17  54 159 222 193 208 192 197 200 200 200 200 201\n",
      "  203 195 210 165   0   0   0   0   0   0]\n",
      " [  0   0   0   0   0   0   0  47 225 192 214 203 206 204 204 205 206 204\n",
      "  212 197 218 107   0   0   0   0   0   0]\n",
      " [  0   0   0   0   1   6   0  46 212 195 212 202 206 205 204 205 206 204\n",
      "  212 200 218  91   0   3   1   0   0   0]\n",
      " [  0   0   0   0   0   1   0  11 197 199 205 202 205 206 204 205 207 204\n",
      "  205 205 218  77   0   5   0   0   0   0]\n",
      " [  0   0   0   0   0   3   0   2 191 198 201 205 206 205 205 206 209 206\n",
      "  199 209 219  74   0   5   0   0   0   0]\n",
      " [  0   0   0   0   0   2   0   0 188 197 200 207 207 204 207 207 210 208\n",
      "  198 207 221  72   0   4   0   0   0   0]\n",
      " [  0   0   0   0   0   2   0   0 215 198 203 206 208 205 207 207 210 208\n",
      "  200 202 222  75   0   4   0   0   0   0]\n",
      " [  0   0   0   0   0   1   0   0 212 198 209 206 209 206 208 207 211 206\n",
      "  205 198 221  80   0   3   0   0   0   0]\n",
      " [  0   0   0   0   0   1   0   0 204 201 205 208 207 205 211 205 210 210\n",
      "  209 195 221  96   0   3   0   0   0   0]\n",
      " [  0   0   0   0   0   1   0   0 202 201 205 209 207 205 213 206 210 209\n",
      "  210 194 217 105   0   2   0   0   0   0]\n",
      " [  0   0   0   0   0   1   0   0 204 204 205 208 207 205 215 207 210 208\n",
      "  211 193 213 115   0   2   0   0   0   0]\n",
      " [  0   0   0   0   0   0   0   0 204 207 207 208 206 206 215 210 210 207\n",
      "  212 195 210 118   0   2   0   0   0   0]\n",
      " [  0   0   0   0   0   1   0   0 198 208 208 208 204 207 212 212 210 207\n",
      "  211 196 207 121   0   1   0   0   0   0]\n",
      " [  0   0   0   0   0   1   0   0 198 210 207 208 206 209 213 212 211 207\n",
      "  210 197 207 124   0   1   0   0   0   0]\n",
      " [  0   0   0   0   0   0   0   0 172 210 203 201 199 204 207 205 204 201\n",
      "  205 197 206 127   0   0   0   0   0   0]\n",
      " [  0   0   0   0   0   0   0   0 188 221 214 234 236 238 244 244 244 240\n",
      "  243 214 224 162   0   2   0   0   0   0]\n",
      " [  0   0   0   0   0   1   0   0 139 146 130 135 135 137 125 124 125 121\n",
      "  119 114 130  76   0   0   0   0   0   0]]\n"
     ]
    }
   ],
   "source": [
    "# Image's matrix\n",
    "print(train_images[1])"
   ]
  },
  {
   "cell_type": "markdown",
   "metadata": {},
   "source": [
    "**Dividing each image by 255 we'll scaling the pixel values down to make computations easier for our model.**"
   ]
  },
  {
   "cell_type": "code",
   "execution_count": 8,
   "metadata": {},
   "outputs": [],
   "source": [
    "train_images = train_images/255.0\n",
    "test_images = test_images/255.0"
   ]
  },
  {
   "cell_type": "markdown",
   "metadata": {},
   "source": [
    "**As I said, it won't really change anything to us, just make the computations easier**"
   ]
  },
  {
   "cell_type": "code",
   "execution_count": 9,
   "metadata": {},
   "outputs": [
    {
     "data": {
      "image/png": "[encoded data removed]",
      "text/plain": [
       "<Figure size 432x288 with 1 Axes>"
      ]
     },
     "metadata": {
      "needs_background": "light"
     },
     "output_type": "display_data"
    }
   ],
   "source": [
    "plt.imshow(train_images[1])\n",
    "plt.show()"
   ]
  },
  {
   "cell_type": "code",
   "execution_count": 12,
   "metadata": {},
   "outputs": [
    {
     "name": "stdout",
     "output_type": "stream",
     "text": [
      "[[0.         0.         0.         0.         0.         0.00392157\n",
      "  0.         0.         0.         0.         0.16078431 0.7372549\n",
      "  0.40392157 0.21176471 0.18823529 0.16862745 0.34117647 0.65882353\n",
      "  0.52156863 0.0627451  0.         0.         0.         0.\n",
      "  0.         0.         0.         0.        ]\n",
      " [0.         0.         0.         0.00392157 0.         0.\n",
      "  0.         0.19215686 0.53333333 0.85882353 0.84705882 0.89411765\n",
      "  0.9254902  1.         1.         1.         1.         0.85098039\n",
      "  0.84313725 0.99607843 0.90588235 0.62745098 0.17647059 0.\n",
      "  0.         0.         0.         0.        ]\n",
      " [0.         0.         0.         0.         0.         0.05490196\n",
      "  0.69019608 0.87058824 0.87843137 0.83137255 0.79607843 0.77647059\n",
      "  0.76862745 0.78431373 0.84313725 0.8        0.79215686 0.78823529\n",
      "  0.78823529 0.78823529 0.81960784 0.85490196 0.87843137 0.64313725\n",
      "  0.         0.         0.         0.        ]\n",
      " [0.         0.         0.         0.         0.         0.7372549\n",
      "  0.85882353 0.78431373 0.77647059 0.79215686 0.77647059 0.78039216\n",
      "  0.78039216 0.78823529 0.76862745 0.77647059 0.77647059 0.78431373\n",
      "  0.78431373 0.78431373 0.78431373 0.78823529 0.78431373 0.88235294\n",
      "  0.16078431 0.         0.         0.        ]\n",
      " [0.         0.         0.         0.         0.2        0.85882353\n",
      "  0.78039216 0.79607843 0.79607843 0.83137255 0.93333333 0.97254902\n",
      "  0.98039216 0.96078431 0.97647059 0.96470588 0.96862745 0.98823529\n",
      "  0.97254902 0.92156863 0.81176471 0.79607843 0.79607843 0.87058824\n",
      "  0.54901961 0.         0.         0.        ]\n",
      " [0.         0.         0.         0.         0.45490196 0.88627451\n",
      "  0.80784314 0.8        0.81176471 0.8        0.39607843 0.29411765\n",
      "  0.18431373 0.28627451 0.18823529 0.19607843 0.17647059 0.2\n",
      "  0.24705882 0.44313725 0.87058824 0.79215686 0.80784314 0.8627451\n",
      "  0.87843137 0.         0.         0.        ]\n",
      " [0.         0.         0.         0.         0.78431373 0.87058824\n",
      "  0.81960784 0.79607843 0.84313725 0.78431373 0.         0.2745098\n",
      "  0.38431373 0.         0.40392157 0.23137255 0.26666667 0.27843137\n",
      "  0.19215686 0.         0.85882353 0.80784314 0.83921569 0.82352941\n",
      "  0.98039216 0.14901961 0.         0.        ]\n",
      " [0.         0.         0.         0.         0.96862745 0.85490196\n",
      "  0.83137255 0.82352941 0.84313725 0.83921569 0.         0.99607843\n",
      "  0.95294118 0.54509804 1.         0.68235294 0.98431373 1.\n",
      "  0.80392157 0.         0.84313725 0.85098039 0.83921569 0.81568627\n",
      "  0.8627451  0.37254902 0.         0.        ]\n",
      " [0.         0.         0.         0.17647059 0.88627451 0.83921569\n",
      "  0.83921569 0.84313725 0.87843137 0.80392157 0.         0.16470588\n",
      "  0.1372549  0.23529412 0.0627451  0.06666667 0.04705882 0.05098039\n",
      "  0.2745098  0.         0.74117647 0.84705882 0.83137255 0.80784314\n",
      "  0.83137255 0.61176471 0.         0.        ]\n",
      " [0.         0.         0.         0.64313725 0.92156863 0.83921569\n",
      "  0.82745098 0.8627451  0.84705882 0.78823529 0.20392157 0.27843137\n",
      "  0.34901961 0.36862745 0.3254902  0.30588235 0.2745098  0.29803922\n",
      "  0.36078431 0.34117647 0.80784314 0.81176471 0.87058824 0.83529412\n",
      "  0.85882353 0.81568627 0.         0.        ]\n",
      " [0.         0.         0.         0.41568627 0.73333333 0.8745098\n",
      "  0.92941176 0.97254902 0.82745098 0.77647059 0.98823529 0.98039216\n",
      "  0.97254902 0.96078431 0.97254902 0.98823529 0.99215686 0.98039216\n",
      "  0.98823529 0.9372549  0.78823529 0.83137255 0.88235294 0.84313725\n",
      "  0.75686275 0.44313725 0.         0.        ]\n",
      " [0.         0.         0.         0.         0.         0.06666667\n",
      "  0.21176471 0.62352941 0.87058824 0.75686275 0.81568627 0.75294118\n",
      "  0.77254902 0.78431373 0.78431373 0.78431373 0.78431373 0.78823529\n",
      "  0.79607843 0.76470588 0.82352941 0.64705882 0.         0.\n",
      "  0.         0.         0.         0.        ]\n",
      " [0.         0.         0.         0.         0.         0.\n",
      "  0.         0.18431373 0.88235294 0.75294118 0.83921569 0.79607843\n",
      "  0.80784314 0.8        0.8        0.80392157 0.80784314 0.8\n",
      "  0.83137255 0.77254902 0.85490196 0.41960784 0.         0.\n",
      "  0.         0.         0.         0.        ]\n",
      " [0.         0.         0.         0.         0.00392157 0.02352941\n",
      "  0.         0.18039216 0.83137255 0.76470588 0.83137255 0.79215686\n",
      "  0.80784314 0.80392157 0.8        0.80392157 0.80784314 0.8\n",
      "  0.83137255 0.78431373 0.85490196 0.35686275 0.         0.01176471\n",
      "  0.00392157 0.         0.         0.        ]\n",
      " [0.         0.         0.         0.         0.         0.00392157\n",
      "  0.         0.04313725 0.77254902 0.78039216 0.80392157 0.79215686\n",
      "  0.80392157 0.80784314 0.8        0.80392157 0.81176471 0.8\n",
      "  0.80392157 0.80392157 0.85490196 0.30196078 0.         0.01960784\n",
      "  0.         0.         0.         0.        ]\n",
      " [0.         0.         0.         0.         0.         0.01176471\n",
      "  0.         0.00784314 0.74901961 0.77647059 0.78823529 0.80392157\n",
      "  0.80784314 0.80392157 0.80392157 0.80784314 0.81960784 0.80784314\n",
      "  0.78039216 0.81960784 0.85882353 0.29019608 0.         0.01960784\n",
      "  0.         0.         0.         0.        ]\n",
      " [0.         0.         0.         0.         0.         0.00784314\n",
      "  0.         0.         0.7372549  0.77254902 0.78431373 0.81176471\n",
      "  0.81176471 0.8        0.81176471 0.81176471 0.82352941 0.81568627\n",
      "  0.77647059 0.81176471 0.86666667 0.28235294 0.         0.01568627\n",
      "  0.         0.         0.         0.        ]\n",
      " [0.         0.         0.         0.         0.         0.00784314\n",
      "  0.         0.         0.84313725 0.77647059 0.79607843 0.80784314\n",
      "  0.81568627 0.80392157 0.81176471 0.81176471 0.82352941 0.81568627\n",
      "  0.78431373 0.79215686 0.87058824 0.29411765 0.         0.01568627\n",
      "  0.         0.         0.         0.        ]\n",
      " [0.         0.         0.         0.         0.         0.00392157\n",
      "  0.         0.         0.83137255 0.77647059 0.81960784 0.80784314\n",
      "  0.81960784 0.80784314 0.81568627 0.81176471 0.82745098 0.80784314\n",
      "  0.80392157 0.77647059 0.86666667 0.31372549 0.         0.01176471\n",
      "  0.         0.         0.         0.        ]\n",
      " [0.         0.         0.         0.         0.         0.00392157\n",
      "  0.         0.         0.8        0.78823529 0.80392157 0.81568627\n",
      "  0.81176471 0.80392157 0.82745098 0.80392157 0.82352941 0.82352941\n",
      "  0.81960784 0.76470588 0.86666667 0.37647059 0.         0.01176471\n",
      "  0.         0.         0.         0.        ]\n",
      " [0.         0.         0.         0.         0.         0.00392157\n",
      "  0.         0.         0.79215686 0.78823529 0.80392157 0.81960784\n",
      "  0.81176471 0.80392157 0.83529412 0.80784314 0.82352941 0.81960784\n",
      "  0.82352941 0.76078431 0.85098039 0.41176471 0.         0.00784314\n",
      "  0.         0.         0.         0.        ]\n",
      " [0.         0.         0.         0.         0.         0.00392157\n",
      "  0.         0.         0.8        0.8        0.80392157 0.81568627\n",
      "  0.81176471 0.80392157 0.84313725 0.81176471 0.82352941 0.81568627\n",
      "  0.82745098 0.75686275 0.83529412 0.45098039 0.         0.00784314\n",
      "  0.         0.         0.         0.        ]\n",
      " [0.         0.         0.         0.         0.         0.\n",
      "  0.         0.         0.8        0.81176471 0.81176471 0.81568627\n",
      "  0.80784314 0.80784314 0.84313725 0.82352941 0.82352941 0.81176471\n",
      "  0.83137255 0.76470588 0.82352941 0.4627451  0.         0.00784314\n",
      "  0.         0.         0.         0.        ]\n",
      " [0.         0.         0.         0.         0.         0.00392157\n",
      "  0.         0.         0.77647059 0.81568627 0.81568627 0.81568627\n",
      "  0.8        0.81176471 0.83137255 0.83137255 0.82352941 0.81176471\n",
      "  0.82745098 0.76862745 0.81176471 0.4745098  0.         0.00392157\n",
      "  0.         0.         0.         0.        ]\n",
      " [0.         0.         0.         0.         0.         0.00392157\n",
      "  0.         0.         0.77647059 0.82352941 0.81176471 0.81568627\n",
      "  0.80784314 0.81960784 0.83529412 0.83137255 0.82745098 0.81176471\n",
      "  0.82352941 0.77254902 0.81176471 0.48627451 0.         0.00392157\n",
      "  0.         0.         0.         0.        ]\n",
      " [0.         0.         0.         0.         0.         0.\n",
      "  0.         0.         0.6745098  0.82352941 0.79607843 0.78823529\n",
      "  0.78039216 0.8        0.81176471 0.80392157 0.8        0.78823529\n",
      "  0.80392157 0.77254902 0.80784314 0.49803922 0.         0.\n",
      "  0.         0.         0.         0.        ]\n",
      " [0.         0.         0.         0.         0.         0.\n",
      "  0.         0.         0.7372549  0.86666667 0.83921569 0.91764706\n",
      "  0.9254902  0.93333333 0.95686275 0.95686275 0.95686275 0.94117647\n",
      "  0.95294118 0.83921569 0.87843137 0.63529412 0.         0.00784314\n",
      "  0.         0.         0.         0.        ]\n",
      " [0.         0.         0.         0.         0.         0.00392157\n",
      "  0.         0.         0.54509804 0.57254902 0.50980392 0.52941176\n",
      "  0.52941176 0.5372549  0.49019608 0.48627451 0.49019608 0.4745098\n",
      "  0.46666667 0.44705882 0.50980392 0.29803922 0.         0.\n",
      "  0.         0.         0.         0.        ]]\n"
     ]
    }
   ],
   "source": [
    "# Same Matrix divided\n",
    "print(train_images[1])"
   ]
  },
  {
   "cell_type": "markdown",
   "metadata": {},
   "source": [
    "## 2 - Creating model\n",
    "\n",
    "    Now, We want to pass those information into a model, so it can\n",
    "    decide what class each image is. (remember that those classes \n",
    "    are in between 0 and 9 and we labeled them to see names and not numbers)."
   ]
  },
  {
   "cell_type": "code",
   "execution_count": 21,
   "metadata": {},
   "outputs": [],
   "source": [
    "# Defining architecture\n",
    "model = keras.Sequential([keras.layers.Flatten(input_shape=(28,28)),    # input layer with 784 neurons(28*28)\n",
    "                         keras.layers.Dense(128, activation='relu'),     # hidden layer with 128 neurons (15% of input)\n",
    "                         keras.layers.Dense(10, activation='softmax')]) # output layer of 10 neurons representing... \n",
    "                                                                        #...the probability of the picture being...\n",
    "                                                                        #...each of the 10 classes."
   ]
  },
  {
   "cell_type": "markdown",
   "metadata": {},
   "source": [
    "**Training model.** Now that we have defined the model it is time to compile and train it.\n",
    "        \n",
    "        Compiling the model is just picking the optimizer,\n",
    "        loss function and metrics to keep track of. \n",
    "        Training is the process of passing our data to the model."
   ]
  },
  {
   "cell_type": "code",
   "execution_count": 22,
   "metadata": {},
   "outputs": [
    {
     "name": "stdout",
     "output_type": "stream",
     "text": [
      "Train on 60000 samples\n",
      "Epoch 1/5\n",
      "60000/60000 [==============================] - 24s 398us/sample - loss: 0.4937 - accuracy: 0.8264\n",
      "Epoch 2/5\n",
      "60000/60000 [==============================] - 17s 279us/sample - loss: 0.3735 - accuracy: 0.8641\n",
      "Epoch 3/5\n",
      "60000/60000 [==============================] - 21s 358us/sample - loss: 0.3346 - accuracy: 0.8786\n",
      "Epoch 4/5\n",
      "60000/60000 [==============================] - 20s 328us/sample - loss: 0.3119 - accuracy: 0.8850\n",
      "Epoch 5/5\n",
      "60000/60000 [==============================] - 18s 308us/sample - loss: 0.2919 - accuracy: 0.8920\n"
     ]
    },
    {
     "data": {
      "text/plain": [
       "<tensorflow.python.keras.callbacks.History at 0x15a9d8c8>"
      ]
     },
     "execution_count": 22,
     "metadata": {},
     "output_type": "execute_result"
    }
   ],
   "source": [
    "model.compile(optimizer='adam', loss='sparse_categorical_crossentropy', metrics=['accuracy'])\n",
    "\n",
    "# Actual Training\n",
    "model.fit(train_images, train_labels, epochs=5)"
   ]
  },
  {
   "cell_type": "markdown",
   "metadata": {},
   "source": [
    "**Testing the Model**\n",
    "    \n",
    "    Now that the model has been trained it is time to test it for accuracy.\n",
    "    We will give it the a new set of images test_images(wich it has never seen)\n",
    "    and the correct labels, so It'll use what it has learned from the training\n",
    "    to classify the new data."
   ]
  },
  {
   "cell_type": "code",
   "execution_count": 26,
   "metadata": {},
   "outputs": [
    {
     "name": "stdout",
     "output_type": "stream",
     "text": [
      "10000/10000 [==============================] - 2s 207us/sample - loss: 0.3570 - accuracy: 0.8689\n",
      "\n",
      " Test accuracy:  0.8689 % of acerts\n"
     ]
    }
   ],
   "source": [
    "test_loss, test_accuracy = model.evaluate(test_images, test_labels)\n",
    "\n",
    "print('\\n Test accuracy: ', test_accuracy, '% of right predictions/classifications')"
   ]
  },
  {
   "cell_type": "markdown",
   "metadata": {},
   "source": [
    "### 3 - Using the Model\n",
    "\n",
    "     We will pick a few images from our testing data, \n",
    "     show them on the screen and then use the model to predict what they are.\n",
    "\n",
    "    To make predictions we use .predict() passing it a list of data to predict.\n",
    "    It is important that we understand it is used to make MULTIPLE predictions \n",
    "    and that whatever data it is expecting must be inside of a list. \n",
    "    Since it is making multiple predictions it will also return to use a list of predicted values."
   ]
  },
  {
   "cell_type": "code",
   "execution_count": 31,
   "metadata": {},
   "outputs": [
    {
     "data": {
      "text/plain": [
       "array([[7.9601587e-06, 1.9940748e-08, 4.3534439e-07, 7.2631750e-08,\n",
       "        5.7852134e-07, 5.7343165e-03, 6.6112074e-07, 5.9663840e-02,\n",
       "        1.8109009e-05, 9.3457401e-01],\n",
       "       [3.5338828e-05, 5.2200900e-11, 9.9795270e-01, 7.3816624e-09,\n",
       "        1.6421102e-03, 1.9319475e-11, 3.6981708e-04, 5.0963099e-14,\n",
       "        2.8182615e-08, 1.8535042e-11],\n",
       "       [8.2229280e-07, 9.9999917e-01, 3.1856655e-09, 2.4666605e-08,\n",
       "        3.5281900e-08, 5.3835335e-15, 7.4853290e-10, 1.3588811e-17,\n",
       "        3.1940874e-12, 1.9846227e-13],\n",
       "       [3.8795133e-06, 9.9998844e-01, 7.3464307e-08, 7.2744069e-06,\n",
       "        2.6964801e-07, 4.1460130e-12, 3.3196432e-08, 7.4736994e-16,\n",
       "        6.3636686e-11, 2.3062850e-11],\n",
       "       [3.3779082e-01, 3.6414237e-06, 9.4004795e-02, 6.5320646e-03,\n",
       "        1.9522086e-02, 3.0084209e-05, 5.3660786e-01, 1.8950925e-05,\n",
       "        5.4800324e-03, 9.7486645e-06]], dtype=float32)"
      ]
     },
     "execution_count": 31,
     "metadata": {},
     "output_type": "execute_result"
    }
   ],
   "source": [
    "predictions = model.predict(test_images)\n",
    "predictions[0:5]"
   ]
  },
  {
   "cell_type": "markdown",
   "metadata": {},
   "source": [
    "**Now let's display the first 5 images and their predictions using matplotlib.**"
   ]
  },
  {
   "cell_type": "code",
   "execution_count": 42,
   "metadata": {},
   "outputs": [
    {
     "name": "stdout",
     "output_type": "stream",
     "text": [
      "matrix: [7.9601587e-06 1.9940748e-08 4.3534439e-07 7.2631750e-08 5.7852134e-07\n",
      " 5.7343165e-03 6.6112074e-07 5.9663840e-02 1.8109009e-05 9.3457401e-01]\n"
     ]
    },
    {
     "data": {
      "image/png": "[encoded data removed]",
      "text/plain": [
       "<Figure size 360x360 with 1 Axes>"
      ]
     },
     "metadata": {
      "needs_background": "light"
     },
     "output_type": "display_data"
    },
    {
     "name": "stdout",
     "output_type": "stream",
     "text": [
      "matrix: [3.5338828e-05 5.2200900e-11 9.9795270e-01 7.3816624e-09 1.6421102e-03\n",
      " 1.9319475e-11 3.6981708e-04 5.0963099e-14 2.8182615e-08 1.8535042e-11]\n"
     ]
    },
    {
     "data": {
      "image/png": "[encoded data removed]",
      "text/plain": [
       "<Figure size 432x288 with 1 Axes>"
      ]
     },
     "metadata": {
      "needs_background": "light"
     },
     "output_type": "display_data"
    },
    {
     "name": "stdout",
     "output_type": "stream",
     "text": [
      "matrix: [8.2229280e-07 9.9999917e-01 3.1856655e-09 2.4666605e-08 3.5281900e-08\n",
      " 5.3835335e-15 7.4853290e-10 1.3588811e-17 3.1940874e-12 1.9846227e-13]\n"
     ]
    },
    {
     "data": {
      "image/png": "[encoded data removed]",
      "text/plain": [
       "<Figure size 432x288 with 1 Axes>"
      ]
     },
     "metadata": {
      "needs_background": "light"
     },
     "output_type": "display_data"
    },
    {
     "name": "stdout",
     "output_type": "stream",
     "text": [
      "matrix: [3.8795133e-06 9.9998844e-01 7.3464307e-08 7.2744069e-06 2.6964801e-07\n",
      " 4.1460130e-12 3.3196432e-08 7.4736994e-16 6.3636686e-11 2.3062850e-11]\n"
     ]
    },
    {
     "data": {
      "image/png": "[encoded data removed]",
      "text/plain": [
       "<Figure size 432x288 with 1 Axes>"
      ]
     },
     "metadata": {
      "needs_background": "light"
     },
     "output_type": "display_data"
    },
    {
     "name": "stdout",
     "output_type": "stream",
     "text": [
      "matrix: [3.3779082e-01 3.6414237e-06 9.4004795e-02 6.5320646e-03 1.9522086e-02\n",
      " 3.0084209e-05 5.3660786e-01 1.8950925e-05 5.4800324e-03 9.7486645e-06]\n"
     ]
    },
    {
     "data": {
      "image/png": "[encoded data removed]",
      "text/plain": [
       "<Figure size 432x288 with 1 Axes>"
      ]
     },
     "metadata": {
      "needs_background": "light"
     },
     "output_type": "display_data"
    }
   ],
   "source": [
    "plt.figure(figsize=(5,5))\n",
    "\n",
    "for image in range(5):\n",
    "    print(f'matrix: {predictions[image]}')\n",
    "    plt.grid(False)\n",
    "    plt.imshow(test_images[image])\n",
    "    plt.xlabel(f'Actual item/label: {class_names[test_labels[image]]}')\n",
    "    plt.title(f'Prediction: {class_names[np.argmax(predictions[image])]}')\n",
    "    plt.show()"
   ]
  }
 ],
 "metadata": {
  "kernelspec": {
   "display_name": "Python 3",
   "language": "python",
   "name": "python3"
  },
  "language_info": {
   "codemirror_mode": {
    "name": "ipython",
    "version": 3
   },
   "file_extension": ".py",
   "mimetype": "text/x-python",
   "name": "python",
   "nbconvert_exporter": "python",
   "pygments_lexer": "ipython3",
   "version": "3.7.7"
  }
 },
 "nbformat": 4,
 "nbformat_minor": 4
}
