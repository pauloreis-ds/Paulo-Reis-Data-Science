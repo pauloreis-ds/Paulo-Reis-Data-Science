{
 "cells": [
  {
   "cell_type": "markdown",
   "metadata": {},
   "source": [
    "# Classifying cars\n",
    "\n",
    "## Agenda\n",
    "        1 - Data Exploration\n",
    "        2 - Encoding features\n",
    "                zip() Short Exemple - just see what is happening\n",
    "        3 - Training the model\n",
    "                training and test subsets Short Exemple - just see what is happening \n",
    "            3.1 Implementing K-Nearest Neighbors\n",
    "        4 - Predictions vs Actual Values"
   ]
  },
  {
   "cell_type": "code",
   "execution_count": 58,
   "metadata": {},
   "outputs": [],
   "source": [
    "# Data manipulation\n",
    "import pandas as pd\n",
    "# Numerical python\n",
    "import numpy as np\n",
    "\n",
    "# Machine Learning\n",
    "import sklearn\n",
    "from sklearn.utils import shuffle\n",
    "from sklearn.neighbors import KNeighborsClassifier\n",
    "from sklearn import linear_model, preprocessing"
   ]
  },
  {
   "cell_type": "code",
   "execution_count": 2,
   "metadata": {},
   "outputs": [],
   "source": [
    "data = pd.read_csv('car.data')"
   ]
  },
  {
   "cell_type": "code",
   "execution_count": 6,
   "metadata": {},
   "outputs": [
    {
     "data": {
      "text/html": [
       "<div>\n",
       "<style scoped>\n",
       "    .dataframe tbody tr th:only-of-type {\n",
       "        vertical-align: middle;\n",
       "    }\n",
       "\n",
       "    .dataframe tbody tr th {\n",
       "        vertical-align: top;\n",
       "    }\n",
       "\n",
       "    .dataframe thead th {\n",
       "        text-align: right;\n",
       "    }\n",
       "</style>\n",
       "<table border=\"1\" class=\"dataframe\">\n",
       "  <thead>\n",
       "    <tr style=\"text-align: right;\">\n",
       "      <th></th>\n",
       "      <th>buying</th>\n",
       "      <th>maint</th>\n",
       "      <th>door</th>\n",
       "      <th>persons</th>\n",
       "      <th>lug_boot</th>\n",
       "      <th>safety</th>\n",
       "      <th>class</th>\n",
       "    </tr>\n",
       "  </thead>\n",
       "  <tbody>\n",
       "    <tr>\n",
       "      <th>0</th>\n",
       "      <td>vhigh</td>\n",
       "      <td>vhigh</td>\n",
       "      <td>2</td>\n",
       "      <td>2</td>\n",
       "      <td>small</td>\n",
       "      <td>low</td>\n",
       "      <td>unacc</td>\n",
       "    </tr>\n",
       "    <tr>\n",
       "      <th>1</th>\n",
       "      <td>vhigh</td>\n",
       "      <td>vhigh</td>\n",
       "      <td>2</td>\n",
       "      <td>2</td>\n",
       "      <td>small</td>\n",
       "      <td>med</td>\n",
       "      <td>unacc</td>\n",
       "    </tr>\n",
       "    <tr>\n",
       "      <th>2</th>\n",
       "      <td>vhigh</td>\n",
       "      <td>vhigh</td>\n",
       "      <td>2</td>\n",
       "      <td>2</td>\n",
       "      <td>small</td>\n",
       "      <td>high</td>\n",
       "      <td>unacc</td>\n",
       "    </tr>\n",
       "    <tr>\n",
       "      <th>3</th>\n",
       "      <td>vhigh</td>\n",
       "      <td>vhigh</td>\n",
       "      <td>2</td>\n",
       "      <td>2</td>\n",
       "      <td>med</td>\n",
       "      <td>low</td>\n",
       "      <td>unacc</td>\n",
       "    </tr>\n",
       "    <tr>\n",
       "      <th>4</th>\n",
       "      <td>vhigh</td>\n",
       "      <td>vhigh</td>\n",
       "      <td>2</td>\n",
       "      <td>2</td>\n",
       "      <td>med</td>\n",
       "      <td>med</td>\n",
       "      <td>unacc</td>\n",
       "    </tr>\n",
       "  </tbody>\n",
       "</table>\n",
       "</div>"
      ],
      "text/plain": [
       "  buying  maint door persons lug_boot safety  class\n",
       "0  vhigh  vhigh    2       2    small    low  unacc\n",
       "1  vhigh  vhigh    2       2    small    med  unacc\n",
       "2  vhigh  vhigh    2       2    small   high  unacc\n",
       "3  vhigh  vhigh    2       2      med    low  unacc\n",
       "4  vhigh  vhigh    2       2      med    med  unacc"
      ]
     },
     "execution_count": 6,
     "metadata": {},
     "output_type": "execute_result"
    }
   ],
   "source": [
    "data.head()"
   ]
  },
  {
   "cell_type": "markdown",
   "metadata": {},
   "source": [
    "## 1 - Data Exploration"
   ]
  },
  {
   "cell_type": "code",
   "execution_count": 7,
   "metadata": {},
   "outputs": [
    {
     "data": {
      "text/plain": [
       "(1728, 7)"
      ]
     },
     "execution_count": 7,
     "metadata": {},
     "output_type": "execute_result"
    }
   ],
   "source": [
    "# Number of (rows, columns)\n",
    "\n",
    "data.shape"
   ]
  },
  {
   "cell_type": "code",
   "execution_count": 8,
   "metadata": {
    "scrolled": true
   },
   "outputs": [
    {
     "name": "stdout",
     "output_type": "stream",
     "text": [
      "<class 'pandas.core.frame.DataFrame'>\n",
      "RangeIndex: 1728 entries, 0 to 1727\n",
      "Data columns (total 7 columns):\n",
      " #   Column    Non-Null Count  Dtype \n",
      "---  ------    --------------  ----- \n",
      " 0   buying    1728 non-null   object\n",
      " 1   maint     1728 non-null   object\n",
      " 2   door      1728 non-null   object\n",
      " 3   persons   1728 non-null   object\n",
      " 4   lug_boot  1728 non-null   object\n",
      " 5   safety    1728 non-null   object\n",
      " 6   class     1728 non-null   object\n",
      "dtypes: object(7)\n",
      "memory usage: 94.6+ KB\n"
     ]
    }
   ],
   "source": [
    "# Basic information on all columns (No Null values, this is good hehe)\n",
    "\n",
    "data.info()"
   ]
  },
  {
   "cell_type": "code",
   "execution_count": 16,
   "metadata": {},
   "outputs": [
    {
     "data": {
      "text/html": [
       "<div>\n",
       "<style scoped>\n",
       "    .dataframe tbody tr th:only-of-type {\n",
       "        vertical-align: middle;\n",
       "    }\n",
       "\n",
       "    .dataframe tbody tr th {\n",
       "        vertical-align: top;\n",
       "    }\n",
       "\n",
       "    .dataframe thead th {\n",
       "        text-align: right;\n",
       "    }\n",
       "</style>\n",
       "<table border=\"1\" class=\"dataframe\">\n",
       "  <thead>\n",
       "    <tr style=\"text-align: right;\">\n",
       "      <th></th>\n",
       "      <th>buying</th>\n",
       "      <th>maint</th>\n",
       "      <th>door</th>\n",
       "      <th>persons</th>\n",
       "      <th>lug_boot</th>\n",
       "      <th>safety</th>\n",
       "      <th>class</th>\n",
       "    </tr>\n",
       "  </thead>\n",
       "  <tbody>\n",
       "    <tr>\n",
       "      <th>count</th>\n",
       "      <td>1728</td>\n",
       "      <td>1728</td>\n",
       "      <td>1728</td>\n",
       "      <td>1728</td>\n",
       "      <td>1728</td>\n",
       "      <td>1728</td>\n",
       "      <td>1728</td>\n",
       "    </tr>\n",
       "    <tr>\n",
       "      <th>unique</th>\n",
       "      <td>4</td>\n",
       "      <td>4</td>\n",
       "      <td>5</td>\n",
       "      <td>3</td>\n",
       "      <td>3</td>\n",
       "      <td>3</td>\n",
       "      <td>4</td>\n",
       "    </tr>\n",
       "    <tr>\n",
       "      <th>top</th>\n",
       "      <td>med</td>\n",
       "      <td>med</td>\n",
       "      <td>4</td>\n",
       "      <td>4</td>\n",
       "      <td>big</td>\n",
       "      <td>med</td>\n",
       "      <td>unacc</td>\n",
       "    </tr>\n",
       "    <tr>\n",
       "      <th>freq</th>\n",
       "      <td>432</td>\n",
       "      <td>432</td>\n",
       "      <td>432</td>\n",
       "      <td>576</td>\n",
       "      <td>576</td>\n",
       "      <td>576</td>\n",
       "      <td>1210</td>\n",
       "    </tr>\n",
       "  </tbody>\n",
       "</table>\n",
       "</div>"
      ],
      "text/plain": [
       "       buying maint  door persons lug_boot safety  class\n",
       "count    1728  1728  1728    1728     1728   1728   1728\n",
       "unique      4     4     5       3        3      3      4\n",
       "top       med   med     4       4      big    med  unacc\n",
       "freq      432   432   432     576      576    576   1210"
      ]
     },
     "execution_count": 16,
     "metadata": {},
     "output_type": "execute_result"
    }
   ],
   "source": [
    "# Basic statistics on numeric columns (as it is a 'classifier' dataset we have few unique values)\n",
    "\n",
    "data.describe()"
   ]
  },
  {
   "cell_type": "markdown",
   "metadata": {},
   "source": [
    "## 2 - Encoding features        \n",
    "        We Want to avoid using features with non-numerical data,\n",
    "        because we're doing computations with them and we can't \n",
    "        do operations with data that is not numerical. That means\n",
    "        we'll have to convert these non-numerical data into numerical data.\n",
    "\n",
    "**Here's where the sklearn preprocessing acts. Its method can help us in this task** "
   ]
  },
  {
   "cell_type": "code",
   "execution_count": 21,
   "metadata": {},
   "outputs": [],
   "source": [
    "# LabelEncoder() will be responsible for turning the labels into appropriate integer values\n",
    "\n",
    "label_encoder = preprocessing.LabelEncoder()"
   ]
  },
  {
   "cell_type": "markdown",
   "metadata": {},
   "source": [
    "**Encoding the levels of categorical features into numeric values**"
   ]
  },
  {
   "cell_type": "code",
   "execution_count": 25,
   "metadata": {},
   "outputs": [],
   "source": [
    "# fit_transform() takes a list(each_of_our['columns']) and will return to us an array containing our new numerical values.\n",
    "\n",
    "buying = label_encoder.fit_transform(list(data['buying']))\n",
    "maint = label_encoder.fit_transform(list(data[\"maint\"]))\n",
    "door = label_encoder.fit_transform(list(data[\"door\"]))\n",
    "persons = label_encoder.fit_transform(list(data[\"persons\"]))\n",
    "lug_boot = label_encoder.fit_transform(list(data[\"lug_boot\"]))\n",
    "safety = label_encoder.fit_transform(list(data[\"safety\"]))\n",
    "class_ = label_encoder.fit_transform(list(data[\"class\"]))"
   ]
  },
  {
   "cell_type": "markdown",
   "metadata": {},
   "source": [
    "The result:"
   ]
  },
  {
   "cell_type": "code",
   "execution_count": 40,
   "metadata": {},
   "outputs": [
    {
     "data": {
      "text/plain": [
       "0       vhigh\n",
       "1       vhigh\n",
       "100     vhigh\n",
       "800      high\n",
       "900       med\n",
       "1400      low\n",
       "Name: buying, dtype: object"
      ]
     },
     "execution_count": 40,
     "metadata": {},
     "output_type": "execute_result"
    }
   ],
   "source": [
    "data.buying[[0,1,100,800,900,1400]]"
   ]
  },
  {
   "cell_type": "code",
   "execution_count": 38,
   "metadata": {},
   "outputs": [
    {
     "data": {
      "text/plain": [
       "array([3, 3, 3, 0, 2, 1], dtype=int64)"
      ]
     },
     "execution_count": 38,
     "metadata": {},
     "output_type": "execute_result"
    }
   ],
   "source": [
    "# Hehe\n",
    "buying[[0,1,100,800,900,1400]]"
   ]
  },
  {
   "cell_type": "markdown",
   "metadata": {},
   "source": [
    "**Now we'll recombine our data into a feature list and a label list. We can use the zip() function to make things easier**\n",
    "\n",
    "        The zip() function returns a zip object, which is an iterator of tuples\n",
    "        where the first item in each passed iterator is paired together, and then\n",
    "        the second item in each passed iterator are paired together etc."
   ]
  },
  {
   "cell_type": "markdown",
   "metadata": {},
   "source": [
    "### |----- _zip() Short Exemple - just see what is happening_ -----|"
   ]
  },
  {
   "cell_type": "code",
   "execution_count": 56,
   "metadata": {},
   "outputs": [
    {
     "name": "stdout",
     "output_type": "stream",
     "text": [
      "(('Apple', 'Red'), ('Banana', 'Yellow'), ('Lemon', 'Green'))\n"
     ]
    }
   ],
   "source": [
    "fruits = (\"Apple\", \"Banana\", \"Lemon\")\n",
    "fruit_colors = (\"Red\", \"Yellow\", \"Green\")\n",
    "\n",
    "zip_test = zip(fruits, fruit_colors)\n",
    "\n",
    "print(tuple(zip_test)) # Here we need to cast it as a tuple in order to show the elements"
   ]
  },
  {
   "cell_type": "markdown",
   "metadata": {},
   "source": [
    "**|----- _End of exemple [ \\o/ ]_ ------|**"
   ]
  },
  {
   "cell_type": "code",
   "execution_count": 49,
   "metadata": {},
   "outputs": [],
   "source": [
    "predict = 'class'\n",
    "\n",
    "# Converting our numerical data into a list, so we can apply ML methods on them\n",
    "features_X = list(zip(buying, maint, door, persons, lug_boot, safety))\n",
    "labels_y = list(class_)"
   ]
  },
  {
   "cell_type": "code",
   "execution_count": 52,
   "metadata": {},
   "outputs": [
    {
     "data": {
      "text/plain": [
       "[(3, 3, 0, 0, 2, 1),\n",
       " (3, 3, 0, 0, 2, 2),\n",
       " (3, 3, 0, 0, 2, 0),\n",
       " (3, 3, 0, 0, 1, 1)]"
      ]
     },
     "execution_count": 52,
     "metadata": {},
     "output_type": "execute_result"
    }
   ],
   "source": [
    "# Just like in the exemple\n",
    "features_X[0:4]"
   ]
  },
  {
   "cell_type": "markdown",
   "metadata": {},
   "source": [
    "## 3 - Training the model "
   ]
  },
  {
   "cell_type": "code",
   "execution_count": 59,
   "metadata": {},
   "outputs": [],
   "source": [
    "'''  Splitting the features and labels into random train and test subsets '''\n",
    "\n",
    "features_X_train, features_X_test, labels_y_train, labels_y_test = sklearn.model_selection.train_test_split(features_X,\n",
    "                                                                                                           labels_y,\n",
    "                                                                                                           test_size=0.1)\n",
    "# 0.1 (10%) of the data is being allocated as test data while the other 90% is being treated as training data"
   ]
  },
  {
   "cell_type": "markdown",
   "metadata": {},
   "source": [
    "**[features_X_train and labels_y_train] will be used to train our model**<br>\n",
    "(and make the machine learn)\n",
    "\n",
    "**[features_X_test and labels_y_test] will be used to test the accuracy of our model**<br>\n",
    "(ratio of number of correct predictions to the total number of input samples)"
   ]
  },
  {
   "cell_type": "markdown",
   "metadata": {},
   "source": [
    "### |----- _training and test subsets Short Exemple - just see what is happening_ -----|"
   ]
  },
  {
   "cell_type": "code",
   "execution_count": 60,
   "metadata": {},
   "outputs": [
    {
     "name": "stdout",
     "output_type": "stream",
     "text": [
      "X:\n",
      " [[0 1]\n",
      " [2 3]\n",
      " [4 5]\n",
      " [6 7]\n",
      " [8 9]]\n",
      "y:\n",
      " [0 1 2 3 4]\n"
     ]
    }
   ],
   "source": [
    "''' Here's values for X and y '''\n",
    "X , y = np.arange(10).reshape((5, 2)), np.arange(5)\n",
    "print('X:\\n',X)\n",
    "print('y:\\n',y)"
   ]
  },
  {
   "cell_type": "code",
   "execution_count": 61,
   "metadata": {},
   "outputs": [
    {
     "name": "stdout",
     "output_type": "stream",
     "text": [
      "Random X_train values:\n",
      " [[0 1]\n",
      " [4 5]\n",
      " [8 9]\n",
      " [6 7]]\n",
      "\n",
      "Random y_train values:\n",
      " [0 2 4 3]\n",
      "\n",
      "Random X_test values:\n",
      " [[2 3]]\n",
      "\n",
      "Random y_test values:\n",
      " [1]\n"
     ]
    }
   ],
   "source": [
    "''' What we are doing '''\n",
    "\n",
    "X_train, X_test, y_train, y_test = sklearn.model_selection.train_test_split(X, y, test_size=0.1)\n",
    "\n",
    "print('Random X_train values:\\n',X_train)\n",
    "print('\\nRandom y_train values:\\n',y_train)\n",
    "print('\\nRandom X_test values:\\n',X_test)\n",
    "print('\\nRandom y_test values:\\n',y_test)"
   ]
  },
  {
   "cell_type": "markdown",
   "metadata": {},
   "source": [
    "#### |----- _End of exemple [ \\o/ ]_ -----|"
   ]
  },
  {
   "cell_type": "markdown",
   "metadata": {},
   "source": [
    "### 3.1 - Implementing K-Nearest Neighbors"
   ]
  },
  {
   "cell_type": "code",
   "execution_count": 97,
   "metadata": {},
   "outputs": [],
   "source": [
    "# KNeighborsClassifier() object receives 1 parameter (the number of neighbors we want)\n",
    "\n",
    "classifier_model = KNeighborsClassifier(n_neighbors=5)"
   ]
  },
  {
   "cell_type": "code",
   "execution_count": 98,
   "metadata": {},
   "outputs": [
    {
     "name": "stdout",
     "output_type": "stream",
     "text": [
      "0.9248554913294798\n"
     ]
    }
   ],
   "source": [
    "# Training the model\n",
    "\n",
    "classifier_model.fit(features_X_train, labels_y_train)\n",
    "\n",
    "# Using the test subset to validate the model\n",
    "accuracy = classifier_model.score(features_X_test, labels_y_test)\n",
    "print(accuracy)"
   ]
  },
  {
   "cell_type": "markdown",
   "metadata": {},
   "source": [
    "**Now let's change the number of neighbors and see how this affects the accuracy**"
   ]
  },
  {
   "cell_type": "code",
   "execution_count": 91,
   "metadata": {},
   "outputs": [
    {
     "name": "stdout",
     "output_type": "stream",
     "text": [
      "0.8497109826589595\n"
     ]
    }
   ],
   "source": [
    "classifier_model_3 = KNeighborsClassifier(n_neighbors=3)\n",
    "\n",
    "classifier_model_3.fit(features_X_train, labels_y_train)\n",
    "accuracy_3 = classifier_model_3.score(features_X_test, labels_y_test)\n",
    "print(accuracy_3)"
   ]
  },
  {
   "cell_type": "code",
   "execution_count": 92,
   "metadata": {},
   "outputs": [
    {
     "name": "stdout",
     "output_type": "stream",
     "text": [
      "0.9479768786127167\n"
     ]
    }
   ],
   "source": [
    "classifier_model_7 = KNeighborsClassifier(n_neighbors=7)\n",
    "\n",
    "classifier_model_7.fit(features_X_train, labels_y_train)\n",
    "accuracy_7 = classifier_model_7.score(features_X_test, labels_y_test)\n",
    "print(accuracy_7)"
   ]
  },
  {
   "cell_type": "code",
   "execution_count": 93,
   "metadata": {},
   "outputs": [
    {
     "name": "stdout",
     "output_type": "stream",
     "text": [
      "0.953757225433526\n"
     ]
    }
   ],
   "source": [
    "classifier_model_9 = KNeighborsClassifier(n_neighbors=9)\n",
    "\n",
    "classifier_model_9.fit(features_X_train, labels_y_train)\n",
    "accuracy_9 = classifier_model_9.score(features_X_test, labels_y_test)\n",
    "print(accuracy_9)"
   ]
  },
  {
   "cell_type": "code",
   "execution_count": 95,
   "metadata": {},
   "outputs": [
    {
     "name": "stdout",
     "output_type": "stream",
     "text": [
      "0.8728323699421965\n"
     ]
    }
   ],
   "source": [
    "classifier_model_15 = KNeighborsClassifier(n_neighbors=15)\n",
    "\n",
    "classifier_model_15.fit(features_X_train, labels_y_train)\n",
    "accuracy_15 = classifier_model_15.score(features_X_test, labels_y_test)\n",
    "print(accuracy_15)"
   ]
  },
  {
   "cell_type": "markdown",
   "metadata": {},
   "source": [
    "**Too few neighbors and the accuracy goes down, too many neighbors and it still goes down**\n",
    "   \n",
    "   \n",
    "    Neighbors   Accuracy\n",
    "        3   --->  0.84\n",
    "        7   --->  0.94\n",
    "        9   --->  0.95\n",
    "        15  --->  0.87"
   ]
  },
  {
   "cell_type": "markdown",
   "metadata": {},
   "source": [
    "### 4 - Predictions vs Actual Values"
   ]
  },
  {
   "cell_type": "code",
   "execution_count": 112,
   "metadata": {},
   "outputs": [
    {
     "name": "stdout",
     "output_type": "stream",
     "text": [
      "Predicted value:  0 --> unacc\n",
      "Input Data:  (2, 3, 2, 2, 1, 2)\n",
      "Actual value 0   -->    unacc\n",
      "-------------------------------------------------- \n",
      "\n",
      "Predicted value:  2 --> good\n",
      "Input Data:  (2, 2, 1, 0, 0, 1)\n",
      "Actual value 2   -->    good\n",
      "-------------------------------------------------- \n",
      "\n",
      "Predicted value:  2 --> good\n",
      "Input Data:  (0, 2, 3, 0, 2, 1)\n",
      "Actual value 2   -->    good\n",
      "-------------------------------------------------- \n",
      "\n",
      "Predicted value:  2 --> good\n",
      "Input Data:  (3, 2, 2, 0, 1, 1)\n",
      "Actual value 2   -->    good\n",
      "-------------------------------------------------- \n",
      "\n",
      "Predicted value:  2 --> good\n",
      "Input Data:  (3, 2, 3, 0, 0, 0)\n",
      "Actual value 2   -->    good\n",
      "-------------------------------------------------- \n",
      "\n"
     ]
    }
   ],
   "source": [
    "# Doing this, We'll get not just the number(encoded_numerical_value) but its actual meaning\n",
    "names = [\"unacc\", \"acc\", \"good\", \"vgood\"]\n",
    "\n",
    "predicted_values = classifier_model.predict(features_X_test)\n",
    "\n",
    "break_point = 0 # I don't want to print the whole dataset\n",
    "for value in range(len(features_X_test)):\n",
    "    print('Predicted value: ', predicted_values[value], '-->', names[predicted_values[value]])\n",
    "    print('Input Data: ', features_X_test[value])\n",
    "    print('Actual value', labels_y_test[value], '  -->   ', names[labels_y_test[value]])\n",
    "    print('-'*50,'\\n')\n",
    "    if break_point == 4: break\n",
    "    break_point += 1"
   ]
  }
 ],
 "metadata": {
  "kernelspec": {
   "display_name": "Python 3",
   "language": "python",
   "name": "python3"
  },
  "language_info": {
   "codemirror_mode": {
    "name": "ipython",
    "version": 3
   },
   "file_extension": ".py",
   "mimetype": "text/x-python",
   "name": "python",
   "nbconvert_exporter": "python",
   "pygments_lexer": "ipython3",
   "version": "3.7.7"
  }
 },
 "nbformat": 4,
 "nbformat_minor": 4
}
