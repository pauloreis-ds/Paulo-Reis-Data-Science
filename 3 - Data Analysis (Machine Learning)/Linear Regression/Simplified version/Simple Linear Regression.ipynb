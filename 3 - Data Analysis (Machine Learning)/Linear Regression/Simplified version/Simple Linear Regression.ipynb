{
 "cells": [
  {
   "cell_type": "markdown",
   "metadata": {},
   "source": [
    "## Agenda \n",
    "        1 - Data Preprocessing\n",
    "        2 - Fitting Linear Regression Model to the training set\n",
    "        3 - Predicting the Result\n",
    "        4 - Visualization "
   ]
  },
  {
   "cell_type": "markdown",
   "metadata": {},
   "source": [
    "**First look at the dataset**"
   ]
  },
  {
   "cell_type": "code",
   "execution_count": 35,
   "metadata": {},
   "outputs": [],
   "source": [
    "import pandas as pd\n",
    "import numpy as np\n",
    "import matplotlib.pyplot as plt\n",
    "\n",
    "dataset = pd.read_csv('studentscores.csv')"
   ]
  },
  {
   "cell_type": "code",
   "execution_count": 44,
   "metadata": {},
   "outputs": [
    {
     "data": {
      "text/html": [
       "<div>\n",
       "<style scoped>\n",
       "    .dataframe tbody tr th:only-of-type {\n",
       "        vertical-align: middle;\n",
       "    }\n",
       "\n",
       "    .dataframe tbody tr th {\n",
       "        vertical-align: top;\n",
       "    }\n",
       "\n",
       "    .dataframe thead th {\n",
       "        text-align: right;\n",
       "    }\n",
       "</style>\n",
       "<table border=\"1\" class=\"dataframe\">\n",
       "  <thead>\n",
       "    <tr style=\"text-align: right;\">\n",
       "      <th></th>\n",
       "      <th>Hours</th>\n",
       "      <th>Scores</th>\n",
       "    </tr>\n",
       "  </thead>\n",
       "  <tbody>\n",
       "    <tr>\n",
       "      <th>0</th>\n",
       "      <td>2.5</td>\n",
       "      <td>21</td>\n",
       "    </tr>\n",
       "    <tr>\n",
       "      <th>1</th>\n",
       "      <td>5.1</td>\n",
       "      <td>47</td>\n",
       "    </tr>\n",
       "    <tr>\n",
       "      <th>2</th>\n",
       "      <td>3.2</td>\n",
       "      <td>27</td>\n",
       "    </tr>\n",
       "    <tr>\n",
       "      <th>3</th>\n",
       "      <td>8.5</td>\n",
       "      <td>75</td>\n",
       "    </tr>\n",
       "    <tr>\n",
       "      <th>4</th>\n",
       "      <td>3.5</td>\n",
       "      <td>30</td>\n",
       "    </tr>\n",
       "    <tr>\n",
       "      <th>5</th>\n",
       "      <td>1.5</td>\n",
       "      <td>20</td>\n",
       "    </tr>\n",
       "    <tr>\n",
       "      <th>6</th>\n",
       "      <td>9.2</td>\n",
       "      <td>88</td>\n",
       "    </tr>\n",
       "    <tr>\n",
       "      <th>7</th>\n",
       "      <td>5.5</td>\n",
       "      <td>60</td>\n",
       "    </tr>\n",
       "    <tr>\n",
       "      <th>8</th>\n",
       "      <td>8.3</td>\n",
       "      <td>81</td>\n",
       "    </tr>\n",
       "    <tr>\n",
       "      <th>9</th>\n",
       "      <td>2.7</td>\n",
       "      <td>25</td>\n",
       "    </tr>\n",
       "    <tr>\n",
       "      <th>10</th>\n",
       "      <td>7.7</td>\n",
       "      <td>85</td>\n",
       "    </tr>\n",
       "    <tr>\n",
       "      <th>11</th>\n",
       "      <td>5.9</td>\n",
       "      <td>62</td>\n",
       "    </tr>\n",
       "    <tr>\n",
       "      <th>12</th>\n",
       "      <td>4.5</td>\n",
       "      <td>41</td>\n",
       "    </tr>\n",
       "    <tr>\n",
       "      <th>13</th>\n",
       "      <td>3.3</td>\n",
       "      <td>42</td>\n",
       "    </tr>\n",
       "    <tr>\n",
       "      <th>14</th>\n",
       "      <td>1.1</td>\n",
       "      <td>17</td>\n",
       "    </tr>\n",
       "    <tr>\n",
       "      <th>15</th>\n",
       "      <td>8.9</td>\n",
       "      <td>95</td>\n",
       "    </tr>\n",
       "    <tr>\n",
       "      <th>16</th>\n",
       "      <td>2.5</td>\n",
       "      <td>30</td>\n",
       "    </tr>\n",
       "    <tr>\n",
       "      <th>17</th>\n",
       "      <td>1.9</td>\n",
       "      <td>24</td>\n",
       "    </tr>\n",
       "    <tr>\n",
       "      <th>18</th>\n",
       "      <td>6.1</td>\n",
       "      <td>67</td>\n",
       "    </tr>\n",
       "    <tr>\n",
       "      <th>19</th>\n",
       "      <td>7.4</td>\n",
       "      <td>69</td>\n",
       "    </tr>\n",
       "    <tr>\n",
       "      <th>20</th>\n",
       "      <td>2.7</td>\n",
       "      <td>30</td>\n",
       "    </tr>\n",
       "    <tr>\n",
       "      <th>21</th>\n",
       "      <td>4.8</td>\n",
       "      <td>54</td>\n",
       "    </tr>\n",
       "    <tr>\n",
       "      <th>22</th>\n",
       "      <td>3.8</td>\n",
       "      <td>35</td>\n",
       "    </tr>\n",
       "    <tr>\n",
       "      <th>23</th>\n",
       "      <td>6.9</td>\n",
       "      <td>76</td>\n",
       "    </tr>\n",
       "    <tr>\n",
       "      <th>24</th>\n",
       "      <td>7.8</td>\n",
       "      <td>86</td>\n",
       "    </tr>\n",
       "  </tbody>\n",
       "</table>\n",
       "</div>"
      ],
      "text/plain": [
       "    Hours  Scores\n",
       "0     2.5      21\n",
       "1     5.1      47\n",
       "2     3.2      27\n",
       "3     8.5      75\n",
       "4     3.5      30\n",
       "5     1.5      20\n",
       "6     9.2      88\n",
       "7     5.5      60\n",
       "8     8.3      81\n",
       "9     2.7      25\n",
       "10    7.7      85\n",
       "11    5.9      62\n",
       "12    4.5      41\n",
       "13    3.3      42\n",
       "14    1.1      17\n",
       "15    8.9      95\n",
       "16    2.5      30\n",
       "17    1.9      24\n",
       "18    6.1      67\n",
       "19    7.4      69\n",
       "20    2.7      30\n",
       "21    4.8      54\n",
       "22    3.8      35\n",
       "23    6.9      76\n",
       "24    7.8      86"
      ]
     },
     "execution_count": 44,
     "metadata": {},
     "output_type": "execute_result"
    }
   ],
   "source": [
    "dataset"
   ]
  },
  {
   "cell_type": "code",
   "execution_count": 17,
   "metadata": {},
   "outputs": [
    {
     "data": {
      "text/plain": [
       "(25, 2)"
      ]
     },
     "execution_count": 17,
     "metadata": {},
     "output_type": "execute_result"
    }
   ],
   "source": [
    "# A small dataset\n",
    "dataset.shape"
   ]
  },
  {
   "cell_type": "code",
   "execution_count": 16,
   "metadata": {},
   "outputs": [
    {
     "data": {
      "text/plain": [
       "Hours     False\n",
       "Scores    False\n",
       "dtype: bool"
      ]
     },
     "execution_count": 16,
     "metadata": {},
     "output_type": "execute_result"
    }
   ],
   "source": [
    "# No NaN values\n",
    "dataset.isna().any()"
   ]
  },
  {
   "cell_type": "markdown",
   "metadata": {},
   "source": [
    "## 1 - Data Preprocessing\n",
    "        Basically:\n",
    "        Feature is the data we feed in to the algorithm.\n",
    "        Label is what we want to predict.\n",
    "        \n",
    "        Ex: Hey, Machine, tell me if this video(feature) can be accessed by children.\n",
    "            \n",
    "            [Machine uses what have learned analysing other videos and returns a prediction/probability]\n",
    "            \n",
    "            0 - Yes, it can.    (label)\n",
    "            1 - No, it can not. (label)\n",
    "        \n",
    "            Now, the system can decide if the video will be will be released for children or not.\n",
    "            \n",
    "            \n",
    "        In our case We have:\n",
    "            \n",
    "            Hey, Machine, what will be my score(label) if study N hours(feature)?\n",
    "        \n",
    "        And to make the model learn the correlation between these two variables (hours studied and score on test),\n",
    "        We first need to give it a sample, so it can apply math to it and discover \"the rules of the game\", and in\n",
    "        the end, it'll be able to play and give us a properly answer/classification.            "
   ]
  },
  {
   "cell_type": "code",
   "execution_count": 24,
   "metadata": {},
   "outputs": [],
   "source": [
    "# We call the features 'X' and the labels 'Y'\n",
    "X = dataset.iloc[ : ,   : 1 ].values\n",
    "Y = dataset.iloc[ : , 1 ].values"
   ]
  },
  {
   "cell_type": "code",
   "execution_count": 34,
   "metadata": {},
   "outputs": [
    {
     "name": "stdout",
     "output_type": "stream",
     "text": [
      "length of ['Hours']  -- 25\n",
      "length of ['Scores'] -- 25\n",
      "length of X - 25\n",
      "length of Y - 25\n"
     ]
    }
   ],
   "source": [
    "''' Take a good look, We just separeted the columns '''\n",
    "\n",
    "print(\"length of ['Hours']  --\", len(dataset.Hours))\n",
    "print(\"length of ['Scores'] --\", len(dataset.Scores))\n",
    "print('length of X -', len(X))\n",
    "print('length of Y -', len(Y))"
   ]
  },
  {
   "cell_type": "code",
   "execution_count": 23,
   "metadata": {},
   "outputs": [
    {
     "name": "stdout",
     "output_type": "stream",
     "text": [
      "\n",
      "hour in dataset:  2.5\n",
      "feature X:  [2.5]\n",
      "\n",
      "hour in dataset:  5.1\n",
      "feature X:  [5.1]\n",
      "\n",
      "hour in dataset:  3.2\n",
      "feature X:  [3.2]\n",
      "\n",
      "hour in dataset:  8.5\n",
      "feature X:  [8.5]\n",
      "\n",
      "hour in dataset:  3.5\n",
      "feature X:  [3.5]\n",
      "\n",
      "hour in dataset:  1.5\n",
      "feature X:  [1.5]\n"
     ]
    }
   ],
   "source": [
    "stop_point = 0\n",
    "\n",
    "for hour, x in zip(dataset.Hours, X):\n",
    "    print('\\nhour in dataset: ', hour)\n",
    "    print('feature X: ', x)\n",
    "    \n",
    "    if stop_point == 5: break\n",
    "    stop_point+=1"
   ]
  },
  {
   "cell_type": "code",
   "execution_count": 27,
   "metadata": {},
   "outputs": [
    {
     "name": "stdout",
     "output_type": "stream",
     "text": [
      "\n",
      "hour in dataset:  21\n",
      "label Y:  21\n",
      "\n",
      "hour in dataset:  47\n",
      "label Y:  47\n",
      "\n",
      "hour in dataset:  27\n",
      "label Y:  27\n",
      "\n",
      "hour in dataset:  75\n",
      "label Y:  75\n",
      "\n",
      "hour in dataset:  30\n",
      "label Y:  30\n",
      "\n",
      "hour in dataset:  20\n",
      "label Y:  20\n"
     ]
    }
   ],
   "source": [
    "stop_point = 0\n",
    "\n",
    "for score, y in zip(dataset.Scores, Y):\n",
    "    print('\\nhour in dataset: ', score)\n",
    "    print('label Y: ', y)\n",
    "    \n",
    "    if stop_point == 5: break\n",
    "    stop_point+=1"
   ]
  },
  {
   "cell_type": "markdown",
   "metadata": {},
   "source": [
    "**Now We have our features and labels. We need to split our data into training and test subsets.**<br>\n",
    "    \n",
    "    And as you can see we do this using the train_test_split() method.\n"
   ]
  },
  {
   "cell_type": "code",
   "execution_count": 66,
   "metadata": {},
   "outputs": [],
   "source": [
    "from sklearn.model_selection import train_test_split\n",
    "\n",
    "X_train, X_test, Y_train, Y_test = train_test_split( X, Y, test_size = 1/4, random_state = 0) "
   ]
  },
  {
   "cell_type": "markdown",
   "metadata": {},
   "source": [
    "    test_size ==> proportion of the dataset to include in the test split 1/4 = 25%\n",
    "    (the other part will be treated as training split)"
   ]
  },
  {
   "cell_type": "code",
   "execution_count": 65,
   "metadata": {
    "scrolled": true
   },
   "outputs": [
    {
     "data": {
      "text/plain": [
       "0.28"
      ]
     },
     "execution_count": 65,
     "metadata": {},
     "output_type": "execute_result"
    }
   ],
   "source": [
    "dataset_rows = 25 # total number of features and labels\n",
    "7/dataset_rows # It approximates closer to the higher value (since 6/25 is 24%)"
   ]
  },
  {
   "cell_type": "markdown",
   "metadata": {},
   "source": [
    "    random_state ==> setting it a fixed value will guarantee that the same sequence of random numbers \n",
    "    are generated each time you run the code. And unless there is some other randomness present in the \n",
    "    process, the results produced will be same as always. In other words, the first time it'll be a random \n",
    "    selection, the nexts numbers will be the same (for studies purposes)."
   ]
  },
  {
   "cell_type": "code",
   "execution_count": 68,
   "metadata": {},
   "outputs": [
    {
     "name": "stdout",
     "output_type": "stream",
     "text": [
      "X_train length: 18\n",
      "X_test length:  7\n",
      "Y_train length: 18\n",
      "Y_test length:  7\n",
      "18 + 7 = 25\n"
     ]
    }
   ],
   "source": [
    "print('X_train length:', len(X_train))\n",
    "print('X_test length: ', len(X_test))\n",
    "print('Y_train length:',len(Y_train))\n",
    "print('Y_test length: ', len(Y_test))\n",
    "\n",
    "print(f'{len(X_train)} + {len(X_test)} =', len(X_train)+len(X_test))"
   ]
  },
  {
   "cell_type": "code",
   "execution_count": 52,
   "metadata": {},
   "outputs": [
    {
     "data": {
      "text/plain": [
       "(25, 2)"
      ]
     },
     "execution_count": 52,
     "metadata": {},
     "output_type": "execute_result"
    }
   ],
   "source": [
    "''' 25 values, just linke the 25 rows in our dataset '''\n",
    "dataset.shape"
   ]
  },
  {
   "cell_type": "code",
   "execution_count": 104,
   "metadata": {},
   "outputs": [
    {
     "name": "stdout",
     "output_type": "stream",
     "text": [
      "X_train (features used in training)\n",
      " [[7.8]\n",
      " [6.9]\n",
      " [1.1]\n",
      " [5.1]\n",
      " [7.7]\n",
      " [3.3]\n",
      " [8.3]\n",
      " [9.2]\n",
      " [6.1]\n",
      " [3.5]\n",
      " [2.7]\n",
      " [5.5]\n",
      " [2.7]\n",
      " [8.5]\n",
      " [2.5]\n",
      " [4.8]\n",
      " [8.9]\n",
      " [4.5]]\n",
      "\n",
      "Y_train (labels used in training)\n",
      " [86 76 17 47 85 42 81 88 67 30 25 60 30 75 21 54 95 41]\n",
      "----------------------------------------\n",
      "\n",
      "X_test (features the model will see after training so we can see how good it went)\n",
      " [[1.5]\n",
      " [3.2]\n",
      " [7.4]\n",
      " [2.5]\n",
      " [5.9]\n",
      " [3.8]\n",
      " [1.9]]\n",
      "\n",
      "Y_test (labels/ correct answers/predictions the model should give us when we give X_test to it predict)\n",
      " [20 27 69 30 62 35 24]\n"
     ]
    }
   ],
   "source": [
    "''' Quick look at features and labels '''\n",
    "print('X_train (features used in training)\\n', X_train)   # hours -  features\n",
    "print('\\nY_train (labels used in training)\\n', Y_train)   # scores - labels\n",
    "print('--'*20)\n",
    "print('\\nX_test (features the model will see after training so we can see how good it went)\\n', X_test) \n",
    "print('\\nY_test (labels/ correct answers/predictions the model should give us when we give X_test to it predict)\\n', Y_test)"
   ]
  },
  {
   "cell_type": "markdown",
   "metadata": {},
   "source": [
    "## 2 - Fitting Simple Linear Regression Model to the training set\n",
    "        Picking the correct line/mathematical function((y = mx + b)) for this model. \n",
    "        Making the algorithm learn the relationship between the features and labels. So\n",
    "        it will be able to use the \"rules of the game\" to play it."
   ]
  },
  {
   "cell_type": "code",
   "execution_count": 8,
   "metadata": {},
   "outputs": [],
   "source": [
    "from sklearn.linear_model import LinearRegression\n",
    "\n",
    "# Creating an object (regressor) from LinearRegression class to use its methods\n",
    "regressor = LinearRegression()"
   ]
  },
  {
   "cell_type": "markdown",
   "metadata": {},
   "source": [
    "In a nutshell: **fitting is equal to training**. Then, after the model is trained **.fit(features,  feature_labels_so_it_can_compare_and_learn)**, it can be used to make predictions, usually with a .predict() method call."
   ]
  },
  {
   "cell_type": "code",
   "execution_count": 83,
   "metadata": {},
   "outputs": [],
   "source": [
    "regressor = regressor.fit(X_train, Y_train)"
   ]
  },
  {
   "cell_type": "markdown",
   "metadata": {},
   "source": [
    "## 3 - Predecting the Result\n",
    "        If you pay attention, you'll notice we just passed X_train and Y_train to the model.\n",
    "        Now it is trained, we can use the X_test and Y_test to see if it is working as we\n",
    "        wanted and predicting scores for hours of study it has never seen."
   ]
  },
  {
   "cell_type": "code",
   "execution_count": 98,
   "metadata": {},
   "outputs": [
    {
     "name": "stdout",
     "output_type": "stream",
     "text": [
      "X_test:\n",
      " [[1.5]\n",
      " [3.2]\n",
      " [7.4]\n",
      " [2.5]\n",
      " [5.9]\n",
      " [3.8]\n",
      " [1.9]]\n",
      "\n",
      "Y_test:\n",
      " [20 27 69 30 62 35 24]\n"
     ]
    }
   ],
   "source": [
    "# You can even look for these numbers in the dataset, and Remember:\n",
    "print('X_test:\\n', X_test)   # Feature is the data we feed in to the algorithm.\n",
    "print('\\nY_test:\\n', Y_test) # Label is what we want to predict."
   ]
  },
  {
   "cell_type": "markdown",
   "metadata": {},
   "source": [
    "**Now we know the actual score values, We can compare them to the prediction the model will make.**"
   ]
  },
  {
   "cell_type": "code",
   "execution_count": 128,
   "metadata": {},
   "outputs": [
    {
     "name": "stdout",
     "output_type": "stream",
     "text": [
      "\n",
      "Hours of study ------------------- [1.5]\n",
      "Real score value ----------------- 20\n",
      "Prediction from Linear Regression  16\n",
      "\n",
      "Hours of study ------------------- [3.2]\n",
      "Real score value ----------------- 27\n",
      "Prediction from Linear Regression  33\n",
      "\n",
      "Hours of study ------------------- [7.4]\n",
      "Real score value ----------------- 69\n",
      "Prediction from Linear Regression  75\n",
      "\n",
      "Hours of study ------------------- [2.5]\n",
      "Real score value ----------------- 30\n",
      "Prediction from Linear Regression  26\n",
      "\n",
      "Hours of study ------------------- [5.9]\n",
      "Real score value ----------------- 62\n",
      "Prediction from Linear Regression  60\n",
      "\n",
      "Hours of study ------------------- [3.8]\n",
      "Real score value ----------------- 35\n",
      "Prediction from Linear Regression  39\n",
      "\n",
      "Hours of study ------------------- [1.9]\n",
      "Real score value ----------------- 24\n",
      "Prediction from Linear Regression  20\n"
     ]
    }
   ],
   "source": [
    "# Score_prediction\n",
    "Y_pred = regressor.predict(X_test)\n",
    "\n",
    "for study_hours, test_value, predicted_value in zip(X_test, Y_test,Y_pred):\n",
    "    print('\\nHours of study -------------------', study_hours)\n",
    "    print('Real score value -----------------', test_value)\n",
    "    print('Prediction from Linear Regression ', int(predicted_value))"
   ]
  },
  {
   "cell_type": "markdown",
   "metadata": {},
   "source": [
    "## 4 - Visualization\n",
    "        The red dots represent the actual data (in the training subset):\n",
    "        \n",
    "        Y_train\n",
    "        |\n",
    "        |\n",
    "        |\n",
    "        |\n",
    "        |\n",
    "        |\n",
    "        |_______________X_train   \n",
    "        \n",
    "        And the blue line is the values of Y that the model predicted.\n",
    "        \n",
    "        When training, the model/algorithm is creating/fitting the best\n",
    "        line/function(y = mx + b) that fits the data. And that way \n",
    "        it can predict other values.       "
   ]
  },
  {
   "cell_type": "code",
   "execution_count": 129,
   "metadata": {},
   "outputs": [
    {
     "data": {
      "text/plain": [
       "Text(0, 0.5, 'Score')"
      ]
     },
     "execution_count": 129,
     "metadata": {},
     "output_type": "execute_result"
    },
    {
     "data": {
      "image/png": "[encoded data removed]",
      "text/plain": [
       "<Figure size 504x360 with 1 Axes>"
      ]
     },
     "metadata": {
      "needs_background": "light"
     },
     "output_type": "display_data"
    }
   ],
   "source": [
    "# Visualising the Training results\n",
    "plt.figure(figsize=(7,5))\n",
    "plt.scatter(X_train , Y_train, color = 'red')\n",
    "plt.plot(X_train , regressor.predict(X_train), color ='blue')\n",
    "\n",
    "plt.title('Line/Predictions that best fit our training dataset')\n",
    "plt.xlabel('Hours of study')\n",
    "plt.ylabel('Score')"
   ]
  },
  {
   "cell_type": "markdown",
   "metadata": {},
   "source": [
    "        Here, We basically have the same prediction, but applied \n",
    "        on the data the model has never seen (test subset)."
   ]
  },
  {
   "cell_type": "code",
   "execution_count": 115,
   "metadata": {},
   "outputs": [
    {
     "data": {
      "image/png": "[encoded data removed]",
      "text/plain": [
       "<Figure size 504x360 with 1 Axes>"
      ]
     },
     "metadata": {
      "needs_background": "light"
     },
     "output_type": "display_data"
    }
   ],
   "source": [
    "# Visualizing the test results\n",
    "plt.figure(figsize=(7,5))\n",
    "plt.scatter(X_test , Y_test, color = 'red')\n",
    "plt.plot(X_test , regressor.predict(X_test), color ='blue')\n",
    "plt.xlabel('Hours of study')\n",
    "plt.ylabel('Score')\n",
    "plt.yticks(Y_pred)\n",
    "plt.grid(axis='y')"
   ]
  }
 ],
 "metadata": {
  "kernelspec": {
   "display_name": "Python 3",
   "language": "python",
   "name": "python3"
  },
  "language_info": {
   "codemirror_mode": {
    "name": "ipython",
    "version": 3
   },
   "file_extension": ".py",
   "mimetype": "text/x-python",
   "name": "python",
   "nbconvert_exporter": "python",
   "pygments_lexer": "ipython3",
   "version": "3.7.7"
  }
 },
 "nbformat": 4,
 "nbformat_minor": 4
}
