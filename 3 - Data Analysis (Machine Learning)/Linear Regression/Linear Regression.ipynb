{
 "cells": [
  {
   "cell_type": "markdown",
   "metadata": {},
   "source": [
    "# Linear Regression\n",
    "\n",
    "## Agenda\n",
    "    1 - Reading dataset\n",
    "    2 - Data Exploration and Manipulation\n",
    "    3 - Linear Regression\n",
    "        What values do we want to predict?\n",
    "            Short Exemple - just see what is happening \n",
    "            Creating a training model.\n",
    "            How do We actually use this?\n",
    "    \\(*O*)/ Results: printing predictions, inputs and the actual G3 value.\n",
    "    4 - Saving Model and Plotting Data\n",
    "        How can we save a better version of our model?\n",
    "            Why do We get different accuracies?"
   ]
  },
  {
   "cell_type": "code",
   "execution_count": 44,
   "metadata": {},
   "outputs": [],
   "source": [
    "# Data manipulation\n",
    "import pandas as pd\n",
    "\n",
    "# Numeric python\n",
    "import numpy as np\n",
    "\n",
    "# Machine learning\n",
    "import tensorflow\n",
    "import sklearn\n",
    "from sklearn import linear_model\n",
    "from sklearn.utils import shuffle\n",
    "\n",
    "# Data visualization\n",
    "import matplotlib.pyplot as plt\n",
    "\n",
    "# it serializes objects so they can be saved to a file, and loaded in a program again later on.\n",
    "import pickle"
   ]
  },
  {
   "cell_type": "markdown",
   "metadata": {},
   "source": [
    "## 1 - Reading dataset\n",
    "\n",
    "    As you can see, the data are separated by a semicolon ';'\n",
    "    and since the default separator for csv document is a comma ','\n",
    "    the loading will not be made as expected."
   ]
  },
  {
   "cell_type": "code",
   "execution_count": 2,
   "metadata": {
    "scrolled": false
   },
   "outputs": [
    {
     "data": {
      "text/html": [
       "<div>\n",
       "<style scoped>\n",
       "    .dataframe tbody tr th:only-of-type {\n",
       "        vertical-align: middle;\n",
       "    }\n",
       "\n",
       "    .dataframe tbody tr th {\n",
       "        vertical-align: top;\n",
       "    }\n",
       "\n",
       "    .dataframe thead th {\n",
       "        text-align: right;\n",
       "    }\n",
       "</style>\n",
       "<table border=\"1\" class=\"dataframe\">\n",
       "  <thead>\n",
       "    <tr style=\"text-align: right;\">\n",
       "      <th></th>\n",
       "      <th>school;sex;age;address;famsize;Pstatus;Medu;Fedu;Mjob;Fjob;reason;guardian;traveltime;studytime;failures;schoolsup;famsup;paid;activities;nursery;higher;internet;romantic;famrel;freetime;goout;Dalc;Walc;health;absences;G1;G2;G3</th>\n",
       "    </tr>\n",
       "  </thead>\n",
       "  <tbody>\n",
       "    <tr>\n",
       "      <th>0</th>\n",
       "      <td>GP;\"F\";18;\"U\";\"GT3\";\"A\";4;4;\"at_home\";\"teacher...</td>\n",
       "    </tr>\n",
       "    <tr>\n",
       "      <th>1</th>\n",
       "      <td>GP;\"F\";17;\"U\";\"GT3\";\"T\";1;1;\"at_home\";\"other\";...</td>\n",
       "    </tr>\n",
       "    <tr>\n",
       "      <th>2</th>\n",
       "      <td>GP;\"F\";15;\"U\";\"LE3\";\"T\";1;1;\"at_home\";\"other\";...</td>\n",
       "    </tr>\n",
       "    <tr>\n",
       "      <th>3</th>\n",
       "      <td>GP;\"F\";15;\"U\";\"GT3\";\"T\";4;2;\"health\";\"services...</td>\n",
       "    </tr>\n",
       "    <tr>\n",
       "      <th>4</th>\n",
       "      <td>GP;\"F\";16;\"U\";\"GT3\";\"T\";3;3;\"other\";\"other\";\"h...</td>\n",
       "    </tr>\n",
       "  </tbody>\n",
       "</table>\n",
       "</div>"
      ],
      "text/plain": [
       "  school;sex;age;address;famsize;Pstatus;Medu;Fedu;Mjob;Fjob;reason;guardian;traveltime;studytime;failures;schoolsup;famsup;paid;activities;nursery;higher;internet;romantic;famrel;freetime;goout;Dalc;Walc;health;absences;G1;G2;G3\n",
       "0  GP;\"F\";18;\"U\";\"GT3\";\"A\";4;4;\"at_home\";\"teacher...                                                                                                                                                                                 \n",
       "1  GP;\"F\";17;\"U\";\"GT3\";\"T\";1;1;\"at_home\";\"other\";...                                                                                                                                                                                 \n",
       "2  GP;\"F\";15;\"U\";\"LE3\";\"T\";1;1;\"at_home\";\"other\";...                                                                                                                                                                                 \n",
       "3  GP;\"F\";15;\"U\";\"GT3\";\"T\";4;2;\"health\";\"services...                                                                                                                                                                                 \n",
       "4  GP;\"F\";16;\"U\";\"GT3\";\"T\";3;3;\"other\";\"other\";\"h...                                                                                                                                                                                 "
      ]
     },
     "execution_count": 2,
     "metadata": {},
     "output_type": "execute_result"
    }
   ],
   "source": [
    "data = pd.read_csv('student-mat.csv')\n",
    "\n",
    "data.head()"
   ]
  },
  {
   "cell_type": "markdown",
   "metadata": {},
   "source": [
    "##### To solve that we just need to specify the \"sep\" parameter "
   ]
  },
  {
   "cell_type": "code",
   "execution_count": 3,
   "metadata": {},
   "outputs": [
    {
     "data": {
      "text/html": [
       "<div>\n",
       "<style scoped>\n",
       "    .dataframe tbody tr th:only-of-type {\n",
       "        vertical-align: middle;\n",
       "    }\n",
       "\n",
       "    .dataframe tbody tr th {\n",
       "        vertical-align: top;\n",
       "    }\n",
       "\n",
       "    .dataframe thead th {\n",
       "        text-align: right;\n",
       "    }\n",
       "</style>\n",
       "<table border=\"1\" class=\"dataframe\">\n",
       "  <thead>\n",
       "    <tr style=\"text-align: right;\">\n",
       "      <th></th>\n",
       "      <th>school</th>\n",
       "      <th>sex</th>\n",
       "      <th>age</th>\n",
       "      <th>address</th>\n",
       "      <th>famsize</th>\n",
       "      <th>Pstatus</th>\n",
       "      <th>Medu</th>\n",
       "      <th>Fedu</th>\n",
       "      <th>Mjob</th>\n",
       "      <th>Fjob</th>\n",
       "      <th>...</th>\n",
       "      <th>famrel</th>\n",
       "      <th>freetime</th>\n",
       "      <th>goout</th>\n",
       "      <th>Dalc</th>\n",
       "      <th>Walc</th>\n",
       "      <th>health</th>\n",
       "      <th>absences</th>\n",
       "      <th>G1</th>\n",
       "      <th>G2</th>\n",
       "      <th>G3</th>\n",
       "    </tr>\n",
       "  </thead>\n",
       "  <tbody>\n",
       "    <tr>\n",
       "      <th>0</th>\n",
       "      <td>GP</td>\n",
       "      <td>F</td>\n",
       "      <td>18</td>\n",
       "      <td>U</td>\n",
       "      <td>GT3</td>\n",
       "      <td>A</td>\n",
       "      <td>4</td>\n",
       "      <td>4</td>\n",
       "      <td>at_home</td>\n",
       "      <td>teacher</td>\n",
       "      <td>...</td>\n",
       "      <td>4</td>\n",
       "      <td>3</td>\n",
       "      <td>4</td>\n",
       "      <td>1</td>\n",
       "      <td>1</td>\n",
       "      <td>3</td>\n",
       "      <td>6</td>\n",
       "      <td>5</td>\n",
       "      <td>6</td>\n",
       "      <td>6</td>\n",
       "    </tr>\n",
       "    <tr>\n",
       "      <th>1</th>\n",
       "      <td>GP</td>\n",
       "      <td>F</td>\n",
       "      <td>17</td>\n",
       "      <td>U</td>\n",
       "      <td>GT3</td>\n",
       "      <td>T</td>\n",
       "      <td>1</td>\n",
       "      <td>1</td>\n",
       "      <td>at_home</td>\n",
       "      <td>other</td>\n",
       "      <td>...</td>\n",
       "      <td>5</td>\n",
       "      <td>3</td>\n",
       "      <td>3</td>\n",
       "      <td>1</td>\n",
       "      <td>1</td>\n",
       "      <td>3</td>\n",
       "      <td>4</td>\n",
       "      <td>5</td>\n",
       "      <td>5</td>\n",
       "      <td>6</td>\n",
       "    </tr>\n",
       "    <tr>\n",
       "      <th>2</th>\n",
       "      <td>GP</td>\n",
       "      <td>F</td>\n",
       "      <td>15</td>\n",
       "      <td>U</td>\n",
       "      <td>LE3</td>\n",
       "      <td>T</td>\n",
       "      <td>1</td>\n",
       "      <td>1</td>\n",
       "      <td>at_home</td>\n",
       "      <td>other</td>\n",
       "      <td>...</td>\n",
       "      <td>4</td>\n",
       "      <td>3</td>\n",
       "      <td>2</td>\n",
       "      <td>2</td>\n",
       "      <td>3</td>\n",
       "      <td>3</td>\n",
       "      <td>10</td>\n",
       "      <td>7</td>\n",
       "      <td>8</td>\n",
       "      <td>10</td>\n",
       "    </tr>\n",
       "    <tr>\n",
       "      <th>3</th>\n",
       "      <td>GP</td>\n",
       "      <td>F</td>\n",
       "      <td>15</td>\n",
       "      <td>U</td>\n",
       "      <td>GT3</td>\n",
       "      <td>T</td>\n",
       "      <td>4</td>\n",
       "      <td>2</td>\n",
       "      <td>health</td>\n",
       "      <td>services</td>\n",
       "      <td>...</td>\n",
       "      <td>3</td>\n",
       "      <td>2</td>\n",
       "      <td>2</td>\n",
       "      <td>1</td>\n",
       "      <td>1</td>\n",
       "      <td>5</td>\n",
       "      <td>2</td>\n",
       "      <td>15</td>\n",
       "      <td>14</td>\n",
       "      <td>15</td>\n",
       "    </tr>\n",
       "    <tr>\n",
       "      <th>4</th>\n",
       "      <td>GP</td>\n",
       "      <td>F</td>\n",
       "      <td>16</td>\n",
       "      <td>U</td>\n",
       "      <td>GT3</td>\n",
       "      <td>T</td>\n",
       "      <td>3</td>\n",
       "      <td>3</td>\n",
       "      <td>other</td>\n",
       "      <td>other</td>\n",
       "      <td>...</td>\n",
       "      <td>4</td>\n",
       "      <td>3</td>\n",
       "      <td>2</td>\n",
       "      <td>1</td>\n",
       "      <td>2</td>\n",
       "      <td>5</td>\n",
       "      <td>4</td>\n",
       "      <td>6</td>\n",
       "      <td>10</td>\n",
       "      <td>10</td>\n",
       "    </tr>\n",
       "  </tbody>\n",
       "</table>\n",
       "<p>5 rows × 33 columns</p>\n",
       "</div>"
      ],
      "text/plain": [
       "  school sex  age address famsize Pstatus  Medu  Fedu     Mjob      Fjob  ...  \\\n",
       "0     GP   F   18       U     GT3       A     4     4  at_home   teacher  ...   \n",
       "1     GP   F   17       U     GT3       T     1     1  at_home     other  ...   \n",
       "2     GP   F   15       U     LE3       T     1     1  at_home     other  ...   \n",
       "3     GP   F   15       U     GT3       T     4     2   health  services  ...   \n",
       "4     GP   F   16       U     GT3       T     3     3    other     other  ...   \n",
       "\n",
       "  famrel freetime  goout  Dalc  Walc health absences  G1  G2  G3  \n",
       "0      4        3      4     1     1      3        6   5   6   6  \n",
       "1      5        3      3     1     1      3        4   5   5   6  \n",
       "2      4        3      2     2     3      3       10   7   8  10  \n",
       "3      3        2      2     1     1      5        2  15  14  15  \n",
       "4      4        3      2     1     2      5        4   6  10  10  \n",
       "\n",
       "[5 rows x 33 columns]"
      ]
     },
     "execution_count": 3,
     "metadata": {},
     "output_type": "execute_result"
    }
   ],
   "source": [
    "data = pd.read_csv('student-mat.csv', sep=';')\n",
    "data.head()"
   ]
  },
  {
   "cell_type": "markdown",
   "metadata": {},
   "source": [
    "## 2 - Data Exploration and Manipulation\n",
    "        First, look and appreciate the data  *-*). Then we can modify it\n",
    "        according to our needs."
   ]
  },
  {
   "cell_type": "code",
   "execution_count": 4,
   "metadata": {},
   "outputs": [
    {
     "data": {
      "text/plain": [
       "(395, 33)"
      ]
     },
     "execution_count": 4,
     "metadata": {},
     "output_type": "execute_result"
    }
   ],
   "source": [
    "# Number of rows and columns\n",
    "data.shape"
   ]
  },
  {
   "cell_type": "markdown",
   "metadata": {},
   "source": [
    "##### Basic information about the data. \n",
    "    Here we can see there are no NaN values and the column names \n",
    "    we're going to be using in the ML model."
   ]
  },
  {
   "cell_type": "code",
   "execution_count": 5,
   "metadata": {},
   "outputs": [
    {
     "name": "stdout",
     "output_type": "stream",
     "text": [
      "<class 'pandas.core.frame.DataFrame'>\n",
      "RangeIndex: 395 entries, 0 to 394\n",
      "Data columns (total 33 columns):\n",
      " #   Column      Non-Null Count  Dtype \n",
      "---  ------      --------------  ----- \n",
      " 0   school      395 non-null    object\n",
      " 1   sex         395 non-null    object\n",
      " 2   age         395 non-null    int64 \n",
      " 3   address     395 non-null    object\n",
      " 4   famsize     395 non-null    object\n",
      " 5   Pstatus     395 non-null    object\n",
      " 6   Medu        395 non-null    int64 \n",
      " 7   Fedu        395 non-null    int64 \n",
      " 8   Mjob        395 non-null    object\n",
      " 9   Fjob        395 non-null    object\n",
      " 10  reason      395 non-null    object\n",
      " 11  guardian    395 non-null    object\n",
      " 12  traveltime  395 non-null    int64 \n",
      " 13  studytime   395 non-null    int64 \n",
      " 14  failures    395 non-null    int64 \n",
      " 15  schoolsup   395 non-null    object\n",
      " 16  famsup      395 non-null    object\n",
      " 17  paid        395 non-null    object\n",
      " 18  activities  395 non-null    object\n",
      " 19  nursery     395 non-null    object\n",
      " 20  higher      395 non-null    object\n",
      " 21  internet    395 non-null    object\n",
      " 22  romantic    395 non-null    object\n",
      " 23  famrel      395 non-null    int64 \n",
      " 24  freetime    395 non-null    int64 \n",
      " 25  goout       395 non-null    int64 \n",
      " 26  Dalc        395 non-null    int64 \n",
      " 27  Walc        395 non-null    int64 \n",
      " 28  health      395 non-null    int64 \n",
      " 29  absences    395 non-null    int64 \n",
      " 30  G1          395 non-null    int64 \n",
      " 31  G2          395 non-null    int64 \n",
      " 32  G3          395 non-null    int64 \n",
      "dtypes: int64(16), object(17)\n",
      "memory usage: 102.0+ KB\n"
     ]
    }
   ],
   "source": [
    "data.info()"
   ]
  },
  {
   "cell_type": "markdown",
   "metadata": {},
   "source": [
    "#####  Selecting the relevant attributes  "
   ]
  },
  {
   "cell_type": "code",
   "execution_count": 6,
   "metadata": {},
   "outputs": [
    {
     "data": {
      "text/html": [
       "<div>\n",
       "<style scoped>\n",
       "    .dataframe tbody tr th:only-of-type {\n",
       "        vertical-align: middle;\n",
       "    }\n",
       "\n",
       "    .dataframe tbody tr th {\n",
       "        vertical-align: top;\n",
       "    }\n",
       "\n",
       "    .dataframe thead th {\n",
       "        text-align: right;\n",
       "    }\n",
       "</style>\n",
       "<table border=\"1\" class=\"dataframe\">\n",
       "  <thead>\n",
       "    <tr style=\"text-align: right;\">\n",
       "      <th></th>\n",
       "      <th>G1</th>\n",
       "      <th>G2</th>\n",
       "      <th>G3</th>\n",
       "      <th>studytime</th>\n",
       "      <th>failures</th>\n",
       "      <th>absences</th>\n",
       "    </tr>\n",
       "  </thead>\n",
       "  <tbody>\n",
       "    <tr>\n",
       "      <th>390</th>\n",
       "      <td>9</td>\n",
       "      <td>9</td>\n",
       "      <td>9</td>\n",
       "      <td>2</td>\n",
       "      <td>2</td>\n",
       "      <td>11</td>\n",
       "    </tr>\n",
       "    <tr>\n",
       "      <th>391</th>\n",
       "      <td>14</td>\n",
       "      <td>16</td>\n",
       "      <td>16</td>\n",
       "      <td>1</td>\n",
       "      <td>0</td>\n",
       "      <td>3</td>\n",
       "    </tr>\n",
       "    <tr>\n",
       "      <th>392</th>\n",
       "      <td>10</td>\n",
       "      <td>8</td>\n",
       "      <td>7</td>\n",
       "      <td>1</td>\n",
       "      <td>3</td>\n",
       "      <td>3</td>\n",
       "    </tr>\n",
       "    <tr>\n",
       "      <th>393</th>\n",
       "      <td>11</td>\n",
       "      <td>12</td>\n",
       "      <td>10</td>\n",
       "      <td>1</td>\n",
       "      <td>0</td>\n",
       "      <td>0</td>\n",
       "    </tr>\n",
       "    <tr>\n",
       "      <th>394</th>\n",
       "      <td>8</td>\n",
       "      <td>9</td>\n",
       "      <td>9</td>\n",
       "      <td>1</td>\n",
       "      <td>0</td>\n",
       "      <td>5</td>\n",
       "    </tr>\n",
       "  </tbody>\n",
       "</table>\n",
       "</div>"
      ],
      "text/plain": [
       "     G1  G2  G3  studytime  failures  absences\n",
       "390   9   9   9          2         2        11\n",
       "391  14  16  16          1         0         3\n",
       "392  10   8   7          1         3         3\n",
       "393  11  12  10          1         0         0\n",
       "394   8   9   9          1         0         5"
      ]
     },
     "execution_count": 6,
     "metadata": {},
     "output_type": "execute_result"
    }
   ],
   "source": [
    "data = data[[\"G1\", \"G2\", \"G3\", \"studytime\", \"failures\", \"absences\"]]\n",
    "data.tail()"
   ]
  },
  {
   "cell_type": "markdown",
   "metadata": {},
   "source": [
    "## 3 - Linear Regression\n",
    "    The algorithm can find patterns \"only\" if we give it information for it to learn from (features).\n",
    "      But after that, in order to tell us how the data is kind of classified, it also needs a set of\n",
    "      classes/ values / possible answers (labels) so it will know what to do with each data we fed in.\n",
    "      It will know how to classify them.\n",
    "> A feature briefly explained would be the input you have fed to the system and the label would be the output you are expecting.\n",
    " \n",
    ">  Features are patterns, colors, forms... or so to speak, 'column names' in the training dataset.\n",
    "   Label is the value we want to to predict. The output we get from our model after the training.\n",
    "\n",
    "        \n",
    "- **What values do we want to predict?**\n",
    "     \n",
    "\n",
    "In this case, We are going to predict the 3th grades. We want to determine what 'G3' is.\n",
    "        \n",
    "    Now, we need to prepare the data and then start machine learning.\n",
    "\n",
    "        "
   ]
  },
  {
   "cell_type": "code",
   "execution_count": 7,
   "metadata": {},
   "outputs": [],
   "source": [
    "predict = 'G3'\n",
    "\n",
    "# New \"DataFrame\" without 'G3'\n",
    "features = np.array(data.drop([predict], axis=\"columns\")) \n",
    "\n",
    "# 'G3' Array (so we can compare the predictions to the real G3 values)\n",
    "labels = np.array(data[predict])"
   ]
  },
  {
   "cell_type": "code",
   "execution_count": 8,
   "metadata": {},
   "outputs": [],
   "source": [
    "'''  Splitting the features and labels into random train and test subsets '''\n",
    "\n",
    "features_train, features_test, labels_train, labels_test = sklearn.model_selection.train_test_split(features, labels,\n",
    "                                                                                                    test_size=0.1)\n",
    "# 0.1 (10%) of the data is being allocated as test data while the other 90% is being treated as training data"
   ]
  },
  {
   "cell_type": "markdown",
   "metadata": {},
   "source": [
    "**[features_train and labels_train] will be used to train our model**<br>\n",
    "(and make the machine learn)\n",
    "\n",
    "**[features_test and labels_test] will be used to test the accuracy of our model**<br>\n",
    "(ratio of number of correct predictions to the total number of input samples)"
   ]
  },
  {
   "cell_type": "markdown",
   "metadata": {},
   "source": [
    "### |----- _Short Exemple - just see what is happening_ -----|"
   ]
  },
  {
   "cell_type": "code",
   "execution_count": 9,
   "metadata": {},
   "outputs": [
    {
     "name": "stdout",
     "output_type": "stream",
     "text": [
      "X:\n",
      " [[0 1]\n",
      " [2 3]\n",
      " [4 5]\n",
      " [6 7]\n",
      " [8 9]]\n",
      "y:\n",
      " [0 1 2 3 4]\n"
     ]
    }
   ],
   "source": [
    "''' Here's values for X and y '''\n",
    "X , y = np.arange(10).reshape((5, 2)), np.arange(5)\n",
    "print('X:\\n',X)\n",
    "print('y:\\n',y)"
   ]
  },
  {
   "cell_type": "code",
   "execution_count": 10,
   "metadata": {},
   "outputs": [
    {
     "name": "stdout",
     "output_type": "stream",
     "text": [
      "Random X_train values:\n",
      " [[8 9]\n",
      " [2 3]\n",
      " [4 5]\n",
      " [0 1]]\n",
      "\n",
      "Random y_train values:\n",
      " [4 1 2 0]\n",
      "\n",
      "Random X_test values:\n",
      " [[6 7]]\n",
      "\n",
      "Random y_test values:\n",
      " [3]\n"
     ]
    }
   ],
   "source": [
    "''' What we are doing '''\n",
    "\n",
    "X_train, X_test, y_train, y_test = sklearn.model_selection.train_test_split(X, y, test_size=0.1)\n",
    "\n",
    "print('Random X_train values:\\n',X_train)\n",
    "print('\\nRandom y_train values:\\n',y_train)\n",
    "print('\\nRandom X_test values:\\n',X_test)\n",
    "print('\\nRandom y_test values:\\n',y_test)"
   ]
  },
  {
   "cell_type": "markdown",
   "metadata": {},
   "source": [
    "#### |----- End of exemple [ \\o/ ] -----|"
   ]
  },
  {
   "cell_type": "markdown",
   "metadata": {},
   "source": [
    "##### We use linear regression when the variables are directly correlated with each other.\n",
    "##### Creating a training model."
   ]
  },
  {
   "cell_type": "code",
   "execution_count": 25,
   "metadata": {},
   "outputs": [
    {
     "name": "stdout",
     "output_type": "stream",
     "text": [
      "0.9140753889931454\n"
     ]
    }
   ],
   "source": [
    "# linear instance of LinearRegression object\n",
    "linear = linear_model.LinearRegression()\n",
    "\n",
    "# It's going to find the best fit line for the linear regression\n",
    "linear.fit(features_train,labels_train)\n",
    "\n",
    "# It represents the accuracy of our model\n",
    "linear_accuracy = linear.score(features_test, labels_test)\n",
    "print(linear_accuracy)"
   ]
  },
  {
   "cell_type": "code",
   "execution_count": 54,
   "metadata": {},
   "outputs": [
    {
     "data": {
      "text/plain": [
       "LinearRegression()"
      ]
     },
     "execution_count": 54,
     "metadata": {},
     "output_type": "execute_result"
    }
   ],
   "source": [
    "# It's a LinearRegression() object\n",
    "\n",
    "linear"
   ]
  },
  {
   "cell_type": "markdown",
   "metadata": {},
   "source": [
    "###### How do We actually use this? \n",
    "        Well, let's test it on data to see what we get.\n",
    "You can use this to visualize the linear function and play with it: https://www.desmos.com/calculator"
   ]
  },
  {
   "cell_type": "code",
   "execution_count": 28,
   "metadata": {
    "scrolled": true
   },
   "outputs": [
    {
     "name": "stdout",
     "output_type": "stream",
     "text": [
      "Coefficient  [ 0.16828745  0.96483469 -0.23170667 -0.25386383  0.03617723]\n",
      "Intercept  -1.4465965528703464\n"
     ]
    }
   ],
   "source": [
    "# In [F(x) = mx + b]  the coefficient is the values for [m] (each slope value)\n",
    "print('Coefficient ', linear.coef_) \n",
    "\n",
    "# Intercept is the expected mean value of Y when all X=0.\n",
    "print('Intercept ', linear.intercept_)"
   ]
  },
  {
   "cell_type": "markdown",
   "metadata": {},
   "source": [
    "## Results: printing predictions, the inputs and the actual G3 value"
   ]
  },
  {
   "cell_type": "code",
   "execution_count": 38,
   "metadata": {},
   "outputs": [
    {
     "name": "stdout",
     "output_type": "stream",
     "text": [
      " ---> Prediction: 15.348997926092938\n",
      " ---> Input: [16 15  3  0  9]\n",
      " ---> Actual G3 value: 16\n",
      "-------------------------------------------------- \n",
      "\n",
      " ---> Prediction: 15.327463993096845\n",
      " ---> Input: [16 15  2  0  2]\n",
      " ---> Actual G3 value: 15\n",
      "-------------------------------------------------- \n",
      "\n",
      " ---> Prediction: 8.178311166044134\n",
      " ---> Input: [ 9  9  2  2 11]\n",
      " ---> Actual G3 value: 9\n",
      "-------------------------------------------------- \n",
      "\n",
      " ---> Prediction: 12.55635738645104\n",
      " ---> Input: [11 13  2  0  2]\n",
      " ---> Actual G3 value: 14\n",
      "-------------------------------------------------- \n",
      "\n",
      " ---> Prediction: 5.176894293497051\n",
      " ---> Input: [ 6  6  2  2 22]\n",
      " ---> Actual G3 value: 4\n",
      "-------------------------------------------------- \n",
      "\n"
     ]
    }
   ],
   "source": [
    "stop_point = 0\n",
    "predictions = linear.predict(features_test) \n",
    "\n",
    "for data in range(len(predictions)):\n",
    "    print(' ---> Prediction:', predictions[data])\n",
    "    print(' ---> Input:', features_test[data])\n",
    "    print(' ---> Actual G3 value:', labels_test[data])\n",
    "    print('-'*50, '\\n')\n",
    "    if stop_point  == 4: break\n",
    "    stop_point += 1"
   ]
  },
  {
   "cell_type": "markdown",
   "metadata": {},
   "source": [
    "## 4 - Saving Model and Plotting Data\n",
    "As a data scientist, you will use sets of data in the form of dictionaries, DataFrames, or any other data type. When working with those, you might want to save them to a file, so you can use them later on or send them to someone else. This is what Python's pickle module is for: it serializes objects so they can be saved to a file, and loaded in a program again later on.\n",
    "\n",
    "If you want to know more: https://www.datacamp.com/community/tutorials/pickle-python-tutorial?utm_source=adwords_ppc&utm_campaignid=10267161064&utm_adgroupid=102842301792&utm_device=c&utm_keyword=&utm_matchtype=b&utm_network=g&utm_adpostion=&utm_creative=332602034358&utm_targetid=aud-392016246653:dsa-429603003980&utm_loc_interest_ms=&utm_loc_physical_ms=1001625&gclid=Cj0KCQjw3ZX4BRDmARIsAFYh7ZJKsxFvusSfuqqRMQsTFfcFR5K2bFCiZyzger-aakFJA6LOlfkpw2MaAj1zEALw_wcB"
   ]
  },
  {
   "cell_type": "code",
   "execution_count": 50,
   "metadata": {},
   "outputs": [],
   "source": [
    "# Saving into a pickle file\n",
    "with open('studentmodel.pickle', 'wb') as file:\n",
    "    pickle.dump(linear, file)"
   ]
  },
  {
   "cell_type": "code",
   "execution_count": 52,
   "metadata": {},
   "outputs": [
    {
     "data": {
      "text/plain": [
       "LinearRegression()"
      ]
     },
     "execution_count": 52,
     "metadata": {},
     "output_type": "execute_result"
    }
   ],
   "source": [
    "# Reading the model from the pickle\n",
    "pickle_in = open('studentmodel.pickle', 'rb') \n",
    "linear_model_receiver = pickle.load(pickle_in)\n",
    "\n",
    "# LinearRegression Object Type just like linear\n",
    "linear_model_receiver"
   ]
  },
  {
   "cell_type": "markdown",
   "metadata": {},
   "source": [
    "###### Now, as you can see We don't need to retrain the model everytime we need to use it. We can just load the 'studentmodel.pickle'"
   ]
  },
  {
   "cell_type": "code",
   "execution_count": 55,
   "metadata": {},
   "outputs": [
    {
     "name": "stdout",
     "output_type": "stream",
     "text": [
      " ---> Prediction: 15.348997926092938\n",
      " ---> Input: [16 15  3  0  9]\n",
      " ---> Actual G3 value: 16\n",
      "-------------------------------------------------- \n",
      "\n",
      " ---> Prediction: 15.327463993096845\n",
      " ---> Input: [16 15  2  0  2]\n",
      " ---> Actual G3 value: 15\n",
      "-------------------------------------------------- \n",
      "\n",
      " ---> Prediction: 8.178311166044134\n",
      " ---> Input: [ 9  9  2  2 11]\n",
      " ---> Actual G3 value: 9\n",
      "-------------------------------------------------- \n",
      "\n",
      " ---> Prediction: 12.55635738645104\n",
      " ---> Input: [11 13  2  0  2]\n",
      " ---> Actual G3 value: 14\n",
      "-------------------------------------------------- \n",
      "\n",
      " ---> Prediction: 5.176894293497051\n",
      " ---> Input: [ 6  6  2  2 22]\n",
      " ---> Actual G3 value: 4\n",
      "-------------------------------------------------- \n",
      "\n"
     ]
    }
   ],
   "source": [
    "stop_point = 0\n",
    "predictions = linear_model_receiver.predict(features_test) \n",
    "\n",
    "for data in range(len(predictions)):\n",
    "    print(' ---> Prediction:', predictions[data])\n",
    "    print(' ---> Input:', features_test[data])\n",
    "    print(' ---> Actual G3 value:', labels_test[data])\n",
    "    print('-'*50, '\\n')\n",
    "    if stop_point  == 4: break\n",
    "    stop_point += 1"
   ]
  },
  {
   "cell_type": "markdown",
   "metadata": {},
   "source": [
    "## How can we save a better version of our model?\n",
    "        We'll basically keep saving the model for each time it has a better\n",
    "        score/accuracy."
   ]
  },
  {
   "cell_type": "code",
   "execution_count": 61,
   "metadata": {},
   "outputs": [
    {
     "name": "stdout",
     "output_type": "stream",
     "text": [
      "0 º Accuracy:  0.8182541210460759\n",
      "1 º Accuracy:  0.8671564379206653\n",
      "2 º Accuracy:  0.723037807414916\n",
      "3 º Accuracy:  0.8694132941851659\n",
      "4 º Accuracy:  0.8735954690029738\n",
      "5 º Accuracy:  0.7663484322666876\n",
      "6 º Accuracy:  0.7362806799602281\n",
      "7 º Accuracy:  0.7903329347996879\n",
      "8 º Accuracy:  0.7632638811014522\n",
      "9 º Accuracy:  0.9252883383870812\n"
     ]
    }
   ],
   "source": [
    "actual_best_accuracy = 0\n",
    "\n",
    "for try_out in range(10):\n",
    "    # Splitting the features and labels into random train and test subsets\n",
    "    features_train, features_test, labels_train, labels_test = sklearn.model_selection.train_test_split(features, labels,\n",
    "                                                                                                    test_size=0.1)\n",
    "    \n",
    "    # linear instance of LinearRegression object\n",
    "    linear = linear_model.LinearRegression()\n",
    "\n",
    "    # It's going to find the best fit line for the linear regression\n",
    "    linear.fit(features_train,labels_train)\n",
    "\n",
    "    # It represents the accuracy of our model\n",
    "    linear_accuracy = linear.score(features_test, labels_test)\n",
    "    print(try_out, 'º Accuracy: ', linear_accuracy)\n",
    "    \n",
    "    # We're only save a new model if its accuracy is higher than what we had before \n",
    "    if linear_accuracy > actual_best_accuracy:\n",
    "        actual_best_accuracy = linear_accuracy\n",
    "        # Saving into a pickle file\n",
    "        with open('studentmodel.pickle', 'wb') as file:\n",
    "            pickle.dump(linear, file)"
   ]
  },
  {
   "cell_type": "markdown",
   "metadata": {},
   "source": [
    "#### Why de We get different accuracies?\n",
    "    It's because everytime We run [sklearn.model_selection.train_test_split()]\n",
    "    We are getting different training data."
   ]
  },
  {
   "cell_type": "markdown",
   "metadata": {},
   "source": [
    "## A simple Visualization of the data\n",
    "        By the graph format, we can see that\n",
    "        linear regression is a good model choice for\n",
    "        predict these data, since there is a direct correlation\n",
    "        between them."
   ]
  },
  {
   "cell_type": "code",
   "execution_count": 63,
   "metadata": {},
   "outputs": [],
   "source": [
    "plt.style.use('ggplot')"
   ]
  },
  {
   "cell_type": "code",
   "execution_count": 100,
   "metadata": {},
   "outputs": [],
   "source": [
    "data = pd.read_csv('student-mat.csv', sep=';')\n",
    "data = data[[\"G1\", \"G2\", \"G3\", \"studytime\", \"failures\", \"absences\"]]"
   ]
  },
  {
   "cell_type": "code",
   "execution_count": 71,
   "metadata": {},
   "outputs": [
    {
     "data": {
      "image/png": "[encoded data removed]",
      "text/plain": [
       "<Figure size 576x360 with 1 Axes>"
      ]
     },
     "metadata": {},
     "output_type": "display_data"
    }
   ],
   "source": [
    "plt.figure(figsize=(8,5))\n",
    "\n",
    "plt.scatter(data['G1'], data['G3'])\n",
    "plt.xlabel('Grade 1')\n",
    "plt.ylabel('Grade 3')\n",
    "\n",
    "plt.show()"
   ]
  }
 ],
 "metadata": {
  "kernelspec": {
   "display_name": "Python 3",
   "language": "python",
   "name": "python3"
  },
  "language_info": {
   "codemirror_mode": {
    "name": "ipython",
    "version": 3
   },
   "file_extension": ".py",
   "mimetype": "text/x-python",
   "name": "python",
   "nbconvert_exporter": "python",
   "pygments_lexer": "ipython3",
   "version": "3.7.7"
  }
 },
 "nbformat": 4,
 "nbformat_minor": 4
}
