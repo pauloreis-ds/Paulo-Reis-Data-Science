{
 "cells": [
  {
   "cell_type": "markdown",
   "id": "ebd0a290",
   "metadata": {},
   "source": [
    "This is a basic code visualization made to help you to understand each step in a machine learning code.<br>\n",
    "Of course there are a lot more steps we could add, but eventually you'll learn about them.\n",
    "\n",
    "## How Do We Actually machine.learning(learn=True) Things?\n",
    "**Let's see this process in a pseudocode**\n",
    "\n",
    "**First, We load the data into memory:**"
   ]
  },
  {
   "cell_type": "code",
   "execution_count": 1,
   "id": "ac5c2633",
   "metadata": {},
   "outputs": [],
   "source": [
    "# data = function_to.load_data(\"file with data.csv\")"
   ]
  },
  {
   "cell_type": "markdown",
   "id": "958830f0",
   "metadata": {},
   "source": [
    "**...and after we prepare the data ([Exploratory Data Analysis](https://github.com/pauloreis-ds/Machine-Learning-ROADMAP/tree/master/5%20-%20Data%20Preparation), [Data Preprocessing](https://github.com/pauloreis-ds/Machine-Learning-ROADMAP/tree/master/5%20-%20Data%20Preparation/1%20-%20Data%20Preprocessing)...) we can apply machine learning to it:**"
   ]
  },
  {
   "cell_type": "code",
   "execution_count": 2,
   "id": "ca5d786d",
   "metadata": {},
   "outputs": [],
   "source": [
    "# importing only what is necessary from machine learning package\n",
    "\n",
    "# from ML_library.helpful_methods import train_test_split\n",
    "# from ML_library.selecting_model import YourModel"
   ]
  },
  {
   "cell_type": "markdown",
   "id": "fc183541",
   "metadata": {},
   "source": [
    "**1 - You split the data into training and test data.\n",
    "In this case We are using a method from the \"machine learning library\" to do that for us,\n",
    "but you could do it in a different way.**"
   ]
  },
  {
   "cell_type": "code",
   "execution_count": 3,
   "id": "e79050bf",
   "metadata": {},
   "outputs": [],
   "source": [
    "# X_train, X_test, y_train, y_test = train_test_split(data['column to be Xs (features)'], data['column to be y (labels)'])"
   ]
  },
  {
   "cell_type": "markdown",
   "id": "96e4e7fc",
   "metadata": {},
   "source": [
    "**2 - You create an instance of YourModel object, so you can use its methods.**"
   ]
  },
  {
   "cell_type": "code",
   "execution_count": 4,
   "id": "b35829af",
   "metadata": {},
   "outputs": [
    {
     "name": "stdout",
     "output_type": "stream",
     "text": [
      "YourModel() object type\n"
     ]
    }
   ],
   "source": [
    "model = YourModel()"
   ]
  },
  {
   "cell_type": "markdown",
   "id": "cb04905f",
   "metadata": {},
   "source": [
    "**3 - Now you use the object methods to solve your problem and predict or classify whatever you want. And you do that by training the model (aka fitting model ([.fit](https://scikit-learn.org/stable/modules/generated/sklearn.linear_model.LinearRegression.html?highlight=linear%20regression#sklearn.linear_model.LinearRegression.fit))), evaluating it ([.score](https://scikit-learn.org/stable/modules/generated/sklearn.linear_model.LinearRegression.html?highlight=linear%20regression#sklearn.linear_model.LinearRegression.score)), and more...**\n",
    "\n",
    "> .fit() makes your model learn the existing relationship in the data.\n",
    ">\n",
    "> There are other [evaluating functions](https://scikit-learn.org/stable/modules/model_evaluation.html), .score() is a really basic one, for learning.\n",
    "\n",
    "**The model will take care of figuring out the (mathematical) relationship in the data:**"
   ]
  },
  {
   "cell_type": "code",
   "execution_count": 5,
   "id": "94f8992e",
   "metadata": {},
   "outputs": [],
   "source": [
    "model.training_the_algorithm(X_train, y_train, any_other='parameter_you_may_use', to_tune_the_model=False)\n",
    "\n",
    "\n",
    "# Or as I just said before:\n",
    "model.fit(X_train, y_train)"
   ]
  },
  {
   "cell_type": "markdown",
   "id": "5f494686",
   "metadata": {},
   "source": [
    "**Finally, We use the test data (which model has never seen/touched) to see if it has found the function that better represents the interaction/relationship in the data and how good this model is:**"
   ]
  },
  {
   "cell_type": "code",
   "execution_count": 6,
   "id": "4a769358",
   "metadata": {},
   "outputs": [
    {
     "name": "stdout",
     "output_type": "stream",
     "text": [
      "Score: 0.84\n"
     ]
    }
   ],
   "source": [
    "print('Score: ', model.avaluate(X_test, y_test))"
   ]
  },
  {
   "cell_type": "markdown",
   "id": "61d52c9a",
   "metadata": {},
   "source": [
    "**At this point, We think if model's \"accuracy\" is good enough to be used or if We need to tune our model by changing some parameters or perhaps working more on feature engineering or data preprocessing...**"
   ]
  }
 ],
 "metadata": {
  "kernelspec": {
   "display_name": "Python 3",
   "language": "python",
   "name": "python3"
  },
  "language_info": {
   "codemirror_mode": {
    "name": "ipython",
    "version": 3
   },
   "file_extension": ".py",
   "mimetype": "text/x-python",
   "name": "python",
   "nbconvert_exporter": "python",
   "pygments_lexer": "ipython3",
   "version": "3.8.5"
  }
 },
 "nbformat": 4,
 "nbformat_minor": 5
}
